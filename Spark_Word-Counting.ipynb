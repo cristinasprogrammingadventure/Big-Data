{
 "cells": [
  {
   "cell_type": "markdown",
   "metadata": {},
   "source": [
    "![Spark Logo](http://spark-mooc.github.io/web-assets/images/ta_Spark-logo-small.png)  ![Python Logo](http://spark-mooc.github.io/web-assets/images/python-logo-master-v3-TM-flattened_small.png)\n",
    "# Comptant paraules: Construeix una aplicació que compti paraules de forma eficient\n",
    "\n",
    "En aquesta tasca s'utilitzarà Pyspark per desenvolupar una aplicació de comptatge de paraules.\n",
    "\n",
    "Amb l'ús massiu d'Internet i les xarxes socials, el volum de text no estructurat esta creixent dramàticament, i Spark és una gran eina per analitzar aquest tipus de dades. En aquesta tasca, anem a escriure codi per trobar les paraules més comuns en un text generat en latin, el ja conegut [Lorem Ipsum](https://www.lipsum.com/).\n",
    "\n",
    "\n",
    "El més interessant de la forma de treballar en aquesta tasca és que podria escalar-se a casos de big data com, per exemple, trobar les paraules més comuns a la Wikipedia.\n",
    "\n",
    "## Durant aquesta TASCA cobrirem les següents parts:\n",
    "\n",
    "* *Part 1:* Creació d'un RDD i un pair RDD\n",
    "* *Part 2:* Comptar paraules fent servir un pair RDD\n",
    "* *Part 3:* Trobar les paraules individuals i la seva freqüència d'aparició mitjana\n",
    "* *Part 4:* Aplicar les funcionalitats desenvolupades a un arxiu de text *\n",
    "* *Part 5:* Calcular alguns estadístics *\n",
    "\n",
    "\n",
    "> Com a referència a tots els detalls dels mètodes que es fan servir en aquesta pràctica utilitzar:\n",
    "> * [API Python de Spark](https://spark.apache.org/docs/latest/api/python/pyspark.html#pyspark.RDD)\n",
    "\n",
    "Per començar, cal carregar l'entorn. Com a nom d'app poseu **M3T01_nom_cognom**.\n",
    "\n",
    "Recordeu afegir tots els comentaris o quadres de text necessaris per explicar detalladament tot el que es fa i justificar les decisions així com comentar els resultats."
   ]
  },
  {
   "cell_type": "markdown",
   "metadata": {},
   "source": [
    "<span style=\"color:navy\"><strong>-> Per començar, resumim les etapes de descarrega i instal·lació del Spark per a que tot funcioni correctament</strong></span>\n",
    "\n",
    "    * Verificar si es té Java 8 (1.8.231 en el meu cas) ; si no, escriure al Anaconda prompt o Notebook : 'conda install -c cyclus java-jdk'\n",
    "    * Descarregar el fitxer per a Windows en 'https://www.apache.org/dyn/closer.lua/spark/spark-3.5.1/spark-3.5.1-bin-hadoop3.tgz'\n",
    "    * Posar el fitxer descarregat 'spark-3.5.1-bin-hadoop3.tgz' a la carpeta 'C:\\spark' creada previament\n",
    "    * Extreure amb 'right clic' o per consola bash\n",
    "    * cmd : 'setx SPARK_HOME \"C:\\spark\\spark-3.5.1-bin-hadoop3\"'\n",
    "    * cmd : 'setx PATH \"%PATH%;%SPARK_HOME%\\bin\"'\n",
    "    * Anacona prompt o Notebook : 'pip install pyspark'\n",
    "    * Anaconda prompt : 'pip install findspark'\n",
    "    * Restart Notebook kernel and kepp on working..."
   ]
  },
  {
   "cell_type": "code",
   "execution_count": 2,
   "metadata": {},
   "outputs": [
    {
     "name": "stdout",
     "output_type": "stream",
     "text": [
      "Collecting pyspark\n",
      "  Downloading pyspark-3.5.1.tar.gz (317.0 MB)\n",
      "     -------------------------------------- 317.0/317.0 MB 1.5 MB/s eta 0:00:00\n",
      "  Preparing metadata (setup.py): started\n",
      "  Preparing metadata (setup.py): finished with status 'done'\n",
      "Collecting py4j==0.10.9.7\n",
      "  Downloading py4j-0.10.9.7-py2.py3-none-any.whl (200 kB)\n",
      "     -------------------------------------- 200.5/200.5 kB 5.9 MB/s eta 0:00:00\n",
      "Building wheels for collected packages: pyspark\n",
      "  Building wheel for pyspark (setup.py): started\n",
      "  Building wheel for pyspark (setup.py): still running...\n",
      "  Building wheel for pyspark (setup.py): finished with status 'done'\n",
      "  Created wheel for pyspark: filename=pyspark-3.5.1-py2.py3-none-any.whl size=317488515 sha256=23cd7cb3105e2d3b2fcdfde135feebbdb4a26245cdfaafd2282ce781f9de7619\n",
      "  Stored in directory: c:\\users\\buba\\appdata\\local\\pip\\cache\\wheels\\92\\09\\11\\aa01d01a7f005fda8a66ad71d2be7f8aa341bddafb27eee3c7\n",
      "Successfully built pyspark\n",
      "Installing collected packages: py4j, pyspark\n",
      "Successfully installed py4j-0.10.9.7 pyspark-3.5.1\n",
      "Note: you may need to restart the kernel to use updated packages.\n"
     ]
    }
   ],
   "source": [
    "pip install pyspark"
   ]
  },
  {
   "cell_type": "markdown",
   "metadata": {},
   "source": [
    "### (0) Configuració de l'entorn python + spark\n",
    "Poseu nom a la aplicació (appName) en format \"**M3T01_**+Nom_Cognom\""
   ]
  },
  {
   "cell_type": "code",
   "execution_count": 8,
   "metadata": {},
   "outputs": [],
   "source": [
    "import findspark\n",
    "findspark.init()\n",
    "import pyspark\n",
    "import random\n",
    "\n",
    "# Check if SparkContext is already running\n",
    "if 'sc' not in locals():\n",
    "    sc = pyspark.SparkContext(master=\"local[1]\", appName=\"M3T01_Cristina_Cosma\")\n",
    "else:\n",
    "    # Stop the existing SparkContext\n",
    "    sc.stop()\n",
    "    \n",
    "    # Create a new SparkContext\n",
    "    sc = pyspark.SparkContext(master=\"local[1]\", appName=\"M3T01_Cristina_Cosma\")\n"
   ]
  },
  {
   "cell_type": "markdown",
   "metadata": {},
   "source": [
    "<span style=\"color:navy\"><strong>-> He canviat el codi inicial per un if-else, ja que al executar més d'un cop, la instància donava error<em>PySpark</em></strong></span>\n",
    "\n",
    "    Aquest fragment de codi inicialitza un SparkContext anomenat sc. Si no hi ha cap SparkContext existent ('sc' no està a locals()), es crea un de nou amb la configuració especificada (master=\"local[1]\" per executar Spark localment amb un únic fil de treball) i el nom de l'aplicació proporcionat. Si es troba un SparkContext existent, el deté i llavors en crea un de nou amb la mateixa configuració."
   ]
  },
  {
   "cell_type": "markdown",
   "metadata": {},
   "source": [
    "## Part 1: Creació d'un RDD i un pair RDDs"
   ]
  },
  {
   "cell_type": "markdown",
   "metadata": {},
   "source": [
    "En aquesta secció, explorarem com crear RRDs usant `parallelize` i com aplicar pair RDDs al problema del recompte de paraules."
   ]
  },
  {
   "cell_type": "markdown",
   "metadata": {},
   "source": [
    "<span style=\"color:navy\"><strong>-> Recordatori de conceptes</strong></span>: els RDDs proporcionen la base per al processament de dades distribuïdes a Apache Spark, mentre que els pair RDDs són específicament útils per a operacions que impliquen parells de clau-valor, com ara el recompte de paraules on necessitem agregar els comptes de paraules per claus (paraules en aquest cas). Aprofitant aquests conceptes, es pot implementar de manera eficient algorismes per processar i analitzar conjunts de dades a gran escala en paral·lel. Per implementar un algoritme per comptar paraules en un text donat utilitzant PySpark, recordem què són els RDD (Resilient Distributed Datasets) i els pair RDDs:\n",
    "\n",
    "- <span style=\"color:navy\"><strong>RDD (Resilient Distributed Dataset)</strong></span>:\n",
    "El RDD és l'estructura de dades fonamental a Apache Spark, que representa una col·lecció distribuïda immutable d'objectes en els quals es poden operar en paral·lel.\n",
    "Està particionat entre els nodes d'un clúster, permetent el processament paral·lel de dades.\n",
    "Els RDDs suporten dos tipus d'operacions: transformacions i accions.\n",
    "Les transformacions creen un nou RDD a partir d'un ja existent, com ara map, flatMap, filter, etc.\n",
    "Les accions realitzen càlculs sobre un RDD i retornen els resultats al programa controlador, com ara collect, reduce, count, etc.\n",
    "En el context del recompte de paraules, es pot crear un RDD a partir de les dades de text d'entrada i realitzar transformacions i accions per comptar les ocasions de cada paraula.\n",
    "    \n",
    "- <span style=\"color:navy\"><strong>Pair RDD</strong></span>:\n",
    "El pair RDD és un RDD on cada element és un parell de clau-valor, típicament utilitzat per operacions que requereixen agrupar o agregare les dades per claus.\n",
    "Els pair RDDs permeten operacions més complexes com ara càlculs estil map-reduce.\n",
    "En el context del recompte de paraules, es pot transformar el RDD de paraules en un pair RDD on la paraula és la clau i el valor és un comptador inicial (normalment 1).\n",
    "Els pair RDDs suporten operacions específiques per parells de clau-valor, com ara reduceByKey, groupByKey, sortByKey, etc., que són útils per a l'agregació i la manipulació de dades basades en claus."
   ]
  },
  {
   "cell_type": "markdown",
   "metadata": {},
   "source": [
    "### Opcions de configuració PySpark\n",
    "Les opcions que ens dona Spark en quant a optimitzar el rendiment son gairebé infinites, entre altres tenim la funció **setAll** que ens permet configurar el funcionament del framework al detall.\n",
    "\n",
    "**Investiga sobre aquesta funció i destaca les opción que consideris més rellevants**"
   ]
  },
  {
   "cell_type": "markdown",
   "metadata": {},
   "source": [
    "<span style=\"color:navy\"><strong>-> Resposta sobre les opcions de configuració <em>PySpark</em></strong></span>\n",
    "\n",
    "PySpark proporciona una àmplia gamma d'opcions de configuració per optimitzar el rendiment de les tasques de Spark. Una funció important per establir aquestes opcions és setAll(), que et permet configurar l'entorn d'execució de Spark amb detall. Vegem alguns exemples d'opcions de configuració que es poden establir utilitzant setAll(). Ajustant amb cura aquestes opcions en funció de la càrrega de treball específica, la mida de les dades i els recursos del clúster, es pot aconseguir un millor rendiment i utilització de recursos en les aplicacions de Spark.\n",
    "\n",
    "Aquí teniu algunes de les opcions de configuració clau que podeu trobar rellevants:\n",
    "\n",
    "- <strong>spark.executor.memory</strong>: Aquesta opció permet especificar la quantitat de memòria per assignar per executor. És crucial per controlar l'ús de memòria de les tasques de Spark i prevenir errors de falta de memòria.\n",
    "\n",
    "- <strong>spark.executor.cores:</strong> Especifica el nombre de nuclis de CPU per assignar a cada executor. Ajustar aquesta opció pot optimitzar la utilització de recursos i la paral·lelisme.</strong>\n",
    "\n",
    "- <strong>spark.default.parallelism</strong> Determina el nombre predeterminat de particions per a RDD, que afecta el paral·lelisme en operacions de Spark com map, reduce i join. Establir-lo adequadament en funció de la configuració del clúster i la mida de les dades pot millorar el rendiment de les tasques.</strong>\n",
    "\n",
    "- <strong>spark.shuffle.service.enabled</strong> Activa o desactiva el servei de barreja extern, que gestiona la barreja de dades entre els executors. Habilitar aquesta opció pot millorar el rendiment de barreja i reduir la càrrega al node controlador.</strong>\n",
    "\n",
    "- <strong>spark.sql.shuffle.partitions</strong> Especifica el nombre predeterminat de particions a utilitzar quan es barregen les dades en operacions de Spark SQL. Ajustar aquesta opció pot optimitzar el rendiment de les consultes SQL amb barreges."
   ]
  },
  {
   "cell_type": "code",
   "execution_count": 23,
   "metadata": {},
   "outputs": [
    {
     "data": {
      "text/plain": [
       "pyspark.rdd.RDD"
      ]
     },
     "execution_count": 23,
     "metadata": {},
     "output_type": "execute_result"
    }
   ],
   "source": [
    "# Veiem un exemple de com es crea i es verifica la creació d'una RDD\n",
    "\n",
    "wordsList = ['cat', 'elephant', 'rat', 'rat', 'cat']\n",
    "\n",
    "wordsRDD = sc.parallelize(wordsList)\n",
    "\n",
    "# Print out the type of wordsRDD\n",
    "type(wordsRDD)\n"
   ]
  },
  {
   "cell_type": "markdown",
   "metadata": {},
   "source": [
    "### (1b) Crear el plural de les paraules i testejar\n",
    "\n",
    "Utilitzarem una transformació `map()` per incorporar la lletra 's' a cada un dels strings emmagatzemats en el RDD que acabem de crear. Anem a definir una funció de Python que retorni una paraula, que se li ha passat com paràmetre, incorporant una \"s\" al final de la mateixa. Substitueix el text `<FILL IN>` amb la solucio proposada. Després d'haver definit correctament la funció `makePlural`, executar la segona cel·la que conté un assert de test. Si la solució és correcta, s'imprimirà `1 test passed`.\n",
    "\n",
    "Aquesta serà la forma habitual de treballar en les algunes de les tasques del curs. Els exercicis contindran una explicació del que s'espera, seguit d'una cel·la de codi amb un o més `<FILL IN>`. Les cel·les que necessitin ser modificades contindran el text `# TOT: Replace <FILL IN> with appropriate code` a la primera línia.\n",
    "\n",
    "Un cop s'hagin substituït tots els `<FILL IN>` pel codi Python adequat, executar la cel·la, i posteriorment executar la cel·la següent de test per comprovar que que la solució és l'esperada."
   ]
  },
  {
   "cell_type": "markdown",
   "metadata": {},
   "source": [
    "<span style=\"color:navy\"><strong>-> Reemplacem <'FILL IN'> amb *'word + 's'* com es defineix dins la mateixa celda als apartats Args i Note</strong></span>"
   ]
  },
  {
   "cell_type": "code",
   "execution_count": 19,
   "metadata": {},
   "outputs": [
    {
     "data": {
      "text/plain": [
       "'cats'"
      ]
     },
     "execution_count": 19,
     "metadata": {},
     "output_type": "execute_result"
    }
   ],
   "source": [
    "# TODO: Replace <FILL IN> with appropriate code\n",
    "def makePlural(word):\n",
    "    \"\"\"Adds an 's' to `word`.\n",
    "\n",
    "    Note:\n",
    "        This is a simple function that only adds an 's'.  \n",
    "\n",
    "    Args:\n",
    "        word (str): A string.\n",
    "\n",
    "    Returns:\n",
    "        str: A string with 's' added to it.\n",
    "    \"\"\"\n",
    "    # return <FILL IN>\n",
    "    return word + 's'    \n",
    "\n",
    "\n",
    "makePlural('cat')"
   ]
  },
  {
   "cell_type": "code",
   "execution_count": 24,
   "metadata": {},
   "outputs": [],
   "source": [
    "# TEST Pluralize and test (1b)\n",
    "assert makePlural('rat') == 'rats', 'incorrect result: makePlural does not add an s'"
   ]
  },
  {
   "cell_type": "markdown",
   "metadata": {},
   "source": [
    "<span style=\"color:navy\"><strong>-> Afegeixo una celda de comprobació perquè la anterior no imprimeix cap resultat (suposo que si no diu res és correcte, però en faig una altra per a més precisó</strong></span>"
   ]
  },
  {
   "cell_type": "code",
   "execution_count": 26,
   "metadata": {},
   "outputs": [
    {
     "name": "stdout",
     "output_type": "stream",
     "text": [
      "Test passed.\n"
     ]
    }
   ],
   "source": [
    "# TEST Pluralize and test (1b)\n",
    "\n",
    "result = makePlural('rat')\n",
    "expected_result = 'rats'\n",
    "\n",
    "if result == expected_result:\n",
    "    print(\"Test passed.\")\n",
    "else:\n",
    "    print(f\"incorrect result: makePlural does not add an 's', expected '{expected_result}' but got '{result}'\")"
   ]
  },
  {
   "cell_type": "markdown",
   "metadata": {},
   "source": [
    "### (1c) Aplicar `makePlural` al nostre RDD\n",
    "\n",
    "Ara és el moment d'aplicar la nostra funció `makePlural()` a tots els elements del RDD usant una transformació [map()](http://spark.apache.org/docs/latest/api/python/pyspark.html#pyspark.RDD.map). Posteriorment executar l'acció [collect ()](http://spark.apache.org/docs/latest/api/python/pyspark.html#pyspark.RDD.collect) per obtenir el RDD transformat."
   ]
  },
  {
   "cell_type": "markdown",
   "metadata": {},
   "source": [
    "<span style=\"color:navy\"><strong>-> Reemplacem <'FILL IN'> amb el nom de la funció que hem definit abans, en def *makePlural*(word)</strong></span>\n",
    "    \n",
    "* wordsRDD.map(makePlural) aplica la funció makePlural a cada element del RDD wordsRDD utilitzant la transformació map().pluralRDD.collect() \n",
    "* executa l'acció collect() en el RDD transformada pluralRDD, que recull tots els elements del RDD i els retorna com a llista.\n",
    "* En executar aquest codi, sobté un nou RDD on cada paraula s'ha pluralitzat, i recollir el RDD ens donarà les dades transformades com a llista."
   ]
  },
  {
   "cell_type": "code",
   "execution_count": 29,
   "metadata": {},
   "outputs": [
    {
     "data": {
      "text/plain": [
       "['cats', 'elephants', 'rats', 'rats', 'cats']"
      ]
     },
     "execution_count": 29,
     "metadata": {},
     "output_type": "execute_result"
    }
   ],
   "source": [
    "# TODO: Replace <FILL IN> with appropriate code\n",
    "\n",
    "# pluralRDD = wordsRDD.map(<FILL IN>)\n",
    "pluralRDD = wordsRDD.map(makePlural)\n",
    "\n",
    "pluralRDD.collect()"
   ]
  },
  {
   "cell_type": "code",
   "execution_count": 30,
   "metadata": {},
   "outputs": [],
   "source": [
    "# TEST Apply makePlural to the base RDD(1c)\n",
    "assert pluralRDD.collect() == ['cats', 'elephants', 'rats', 'rats', 'cats'], 'incorrect values for pluralRDD'"
   ]
  },
  {
   "cell_type": "markdown",
   "metadata": {},
   "source": [
    "<span style=\"color:navy\"><strong>-> Afegeixo una celda de comprobació perquè la anterior no imprimeix cap resultat (suposo que si no diu res és correcte, però en faig una altra per a més precisó</strong></span>"
   ]
  },
  {
   "cell_type": "code",
   "execution_count": 31,
   "metadata": {},
   "outputs": [
    {
     "name": "stdout",
     "output_type": "stream",
     "text": [
      "Test passed.\n"
     ]
    }
   ],
   "source": [
    "# TEST Apply makePlural to the base RDD(1c)\n",
    "expected_result = ['cats', 'elephants', 'rats', 'rats', 'cats']\n",
    "actual_result = pluralRDD.collect()\n",
    "\n",
    "if actual_result == expected_result:\n",
    "    print(\"Test passed.\")\n",
    "else:\n",
    "    print(\"Test failed. Incorrect values for pluralRDD:\")\n",
    "    print(f\"Expected: {expected_result}\")\n",
    "    print(f\"Actual:   {actual_result}\")\n"
   ]
  },
  {
   "cell_type": "markdown",
   "metadata": {},
   "source": [
    "### (1d) Executar una funció `lambda` en un` map`\n",
    "\n",
    "Crearem el mateix RDD usant una `lambda` function en lloc d'una funció amb nom."
   ]
  },
  {
   "cell_type": "markdown",
   "metadata": {},
   "source": [
    "<span style=\"color:navy\"><strong>-> La funció map() a Spark</strong></span>\n",
    "\n",
    "* És una operació de transformació que aplica una funció especificada a cada element d'un RDD (Resilient Distributed Dataset) i retorna un nou RDD amb els resultats. \n",
    "* map() s'utilitza per transformar cada element d'un RDD segons una funció especificada, permetent la manipulació i el processament de dades en paral·lel a través de recursos de càlcul distribuïts.\n",
    "\n",
    "    Entrada: Pren com a entrada un RDD.\n",
    "    Funció: Aplica una funció a cada element del RDD.\n",
    "    Sortida: Retorna un nou RDD que conté els resultats d'aplicar la funció a cada element.\n",
    "    \n",
    "<span style=\"color:navy\"><strong>-> La funció Lambda</strong></span>\n",
    "\n",
    "* \"Lambda\" és una paraula clau en Python que s'utilitza per crear funcions anònimes, petites i sense nom. La sintaxi bàsica d'una funció lambda és:\n",
    "    \n",
    "    *lambda arguments: expression*\n",
    "    \n",
    "En el nostre cas, **lambda word: word + 's'** crea una funció lambda que pren una **paraula com a argument** i després **retorna la paraula concatenada amb la lletra 's'**.\n",
    "\n",
    "* **word** és l'argument que rep la funció lambda, que representa cada paraula en l'RDD.\n",
    "* **word + 's'** és l'expressió que s'avalua per a cada paraula, que retorna la paraula original concatenada amb la lletra 's'."
   ]
  },
  {
   "cell_type": "markdown",
   "metadata": {},
   "source": [
    "<span style=\"color:navy\"><strong>-> Per què executar una funció *lambda* en un *map*?</strong></span>\n",
    "    \n",
    "    Executar una funció lambda en un map és útil per aplicar una operació simple o una transformació a cada element d'un RDD sense necessitat de definir una funció separada. Les funcions lambda són breus i s'usen principalment quan només cal realitzar una operació senzilla, com ara una concatenació o una operació matemàtica, en cada element del RDD. Això fa que el codi sigui més concís i llegible anb una funció breu i senzilla.\n",
    "    \n"
   ]
  },
  {
   "cell_type": "code",
   "execution_count": 32,
   "metadata": {},
   "outputs": [
    {
     "name": "stdout",
     "output_type": "stream",
     "text": [
      "['cats', 'elephants', 'rats', 'rats', 'cats']\n"
     ]
    }
   ],
   "source": [
    "# TODO: Replace <FILL IN> with appropriate code\n",
    "# pluralLambdaRDD = wordsRDD.map(<FILL IN>)\n",
    "\n",
    "pluralLambdaRDD = wordsRDD.map(lambda word: word + 's')\n",
    "print(pluralLambdaRDD.collect())"
   ]
  },
  {
   "cell_type": "markdown",
   "metadata": {},
   "source": [
    "El resultat és el conjunt  de paraules en plural, amb l'adició de la lletre 's'"
   ]
  },
  {
   "cell_type": "markdown",
   "metadata": {},
   "source": [
    "<span style=\"color:navy\"><strong>-> Sobre aquest codi:</strong></span></strong></span>\n",
    "\n",
    "* Fem servir la transformació map() en l'RDD wordsRDD.\n",
    "* Dins la transformació map(), definim una funció lambda que pren una paraula com a entrada i retorna la paraula amb una 's' afegida.\n",
    "* La funció lambda s'aplica a cada element de l'RDD.\n",
    "* Finalment, recollim els elements de l'RDD pluralLambdaRDD i els imprimim.\n"
   ]
  },
  {
   "cell_type": "code",
   "execution_count": 33,
   "metadata": {},
   "outputs": [],
   "source": [
    "# TEST Pass a lambda function to map (1d)\n",
    "assert pluralLambdaRDD.collect() == ['cats', 'elephants', 'rats', 'rats', 'cats'], 'incorrect values for pluralLambdaRDD (1d)'\n",
    "\n",
    "# assert\n",
    "'''quan l'expressió 'assert' s'avalua com a certa, no es produeix cap sortida i el programa continua amb l'execució.\n",
    "No obstant això, si la condició especificada en l'assert s'avalua com a Fals, es genera un AssertionError'''"
   ]
  },
  {
   "cell_type": "markdown",
   "metadata": {},
   "source": [
    "Acabem de veure que  el codi es correcte."
   ]
  },
  {
   "cell_type": "markdown",
   "metadata": {},
   "source": [
    "### (1e) Nombre de caràcters de cadascuna de les paraules\n",
    "\n",
    "Ara farem servir un `map()` i una funció lambda `lambda` per obtenir el nombre de caràcters de cada paraula. Farem servir `collect` per guardar aquest resultat directament en una variable."
   ]
  },
  {
   "cell_type": "markdown",
   "metadata": {},
   "source": [
    "<span style=\"color:navy\"><strong>-> Reemplacem <'FILL IN'> amb una concatenació de la variable definida a la part 1d), de .map i nchars</strong></span>"
   ]
  },
  {
   "cell_type": "code",
   "execution_count": 42,
   "metadata": {},
   "outputs": [],
   "source": [
    "# nchars és el nom que li donarem a la variable que ens dirà el nombre de caràcters de cadascuna de les paraules que li demanem\n",
    "nchars = lambda w : len(w)"
   ]
  },
  {
   "cell_type": "code",
   "execution_count": 43,
   "metadata": {},
   "outputs": [
    {
     "name": "stdout",
     "output_type": "stream",
     "text": [
      "[4, 9, 4, 4, 4]\n"
     ]
    }
   ],
   "source": [
    "# TODO: Replace <FILL IN> with appropriate code\n",
    "# pluralLengths = (<FILL IN>)\n",
    "\n",
    "pluralLengths = (pluralLambdaRDD.map(nchars).collect())\n",
    "print(pluralLengths)"
   ]
  },
  {
   "cell_type": "markdown",
   "metadata": {},
   "source": [
    "Acaba de donar-nos el nombre de lletres que té cada paraula del conjunt"
   ]
  },
  {
   "cell_type": "markdown",
   "metadata": {},
   "source": [
    "<span style=\"color:navy\"><strong>-> Sobre aquest codi:</strong></span></strong></span>\n",
    "\n",
    "* La funció lambda nchars pren una paraula com a argument w i retorna la longitud (nombre de caràcters) d'aquesta paraula utilitzant la funció len().\n",
    "* Llavors, utilitzem el map() en l'RDD pluralLambdaRDD per aplicar la funció nchars a cada paraula i obtenir una nova RDD amb les longituds de les paraules.\n",
    "* Finalment, utilitzem collect() per obtenir una llista de totes les longituds de paraules i la guardem en la variable pluralLengths, que imprimim posteriorment."
   ]
  },
  {
   "cell_type": "code",
   "execution_count": 44,
   "metadata": {},
   "outputs": [],
   "source": [
    "# TEST Length of each word (1e)\n",
    "assert pluralLengths == [4, 9, 4, 4, 4], 'incorrect values for pluralLengths'\n",
    "\n",
    "# assert\n",
    "'''quan l'expressió 'assert' s'avalua com a certa, no es produeix cap sortida i el programa continua amb l'execució.\n",
    "No obstant això, si la condició especificada en l'assert s'avalua com a Fals, es genera un AssertionError'''"
   ]
  },
  {
   "cell_type": "markdown",
   "metadata": {},
   "source": [
    "Acabem de veure que  el codi es correcte."
   ]
  },
  {
   "cell_type": "markdown",
   "metadata": {},
   "source": [
    "### (1f) Pair RDDs\n",
    "\n",
    "El següent pas per a completar el nostre programa de comptatge de paraules és crear un nou tipus de RDD, anomenat pair RDD. \n",
    "\n",
    "Un pair RDD és un RDD on cada element és un tupla de l'estil `(k, v)` on `k` és la clau i `v` és el seu valor corresponent. \n",
    "\n",
    "En aquest exemple, crearem una pair RDD consistent en tuples amb el format `('<word>', 1)` per a cada element del nostre RDD bàsic.\n",
    "\n",
    "Podem crear el nostre pair RDD usant una transformació `map()` amb una `lambda()` funció que creï un nou RDD."
   ]
  },
  {
   "cell_type": "markdown",
   "metadata": {},
   "source": [
    "* La clau 'word' o 'k' és l'element important que utilitzarem per al comptatge i l'anàlisi de les paraules.\n",
    "* El valor 'v' associat a cada paraula en el pair RDD indica que cada paraula apareix v vegades."
   ]
  },
  {
   "cell_type": "code",
   "execution_count": 46,
   "metadata": {},
   "outputs": [
    {
     "name": "stdout",
     "output_type": "stream",
     "text": [
      "[('cat', 1), ('elephant', 1), ('rat', 1), ('rat', 1), ('cat', 1)]\n"
     ]
    }
   ],
   "source": [
    "# TODO: Replace <FILL IN> with appropriate code\n",
    "# wordPairs = wordsRDD.map(<FILL IN>)\n",
    "\n",
    "wordPairs = wordsRDD.map(lambda word: (word, 1))\n",
    "print(wordPairs.collect())"
   ]
  },
  {
   "cell_type": "markdown",
   "metadata": {},
   "source": [
    "En aquest context, dins de **'wordPairs'**, el valor 1 associat a cada valor en el pair RDD indica que cada paraula apareix una vegada\n",
    "########################################################"
   ]
  },
  {
   "cell_type": "markdown",
   "metadata": {},
   "source": [
    "<span style=\"color:navy\"><strong>-> Sobre aquest codi:</strong></span></strong></span>\n",
    "\n",
    "* Utilitzem la transformació map() en l'RDD wordsRDD.\n",
    "* Dins la funció lambda, creem una tupla amb la paraula com a primer element i el valor 1 com a segon element.\n",
    "* La funció lambda s'aplica a cada element de l'RDD, creant així un pair RDD amb tuples ('<word>', 1).\n",
    "* Finalment, recollim els elements del pair RDD wordPairs i els imprimim."
   ]
  },
  {
   "cell_type": "code",
   "execution_count": 50,
   "metadata": {},
   "outputs": [],
   "source": [
    "# TEST Pair RDDs (1f)\n",
    "assert wordPairs.collect() == [('cat', 1), ('elephant', 1), ('rat', 1), ('rat', 1), ('cat', 1)], 'incorrect value for wordPairs'"
   ]
  },
  {
   "cell_type": "markdown",
   "metadata": {},
   "source": [
    "## Part 2: Comptar paraules usant un pair RDD\n",
    "\n",
    "Ara, comptarem el nombre de vegades que una paraula en particular apareix al RDD. Aquesta operació es pot realitzar d'una infinitat de maneres, però algunes seran molt menys eficients que d'altres.\n",
    "\n",
    "Un solucio molt senzilla seriosa utilitzar `collect()` sobre tots els elements retornar-los al driver i alli comptar-los. Mentre aquesta forma de treballar podria funcionar amb textos relativament curts, nosaltres el que volem és poder treballar amb textos de qualsevol longitud. Addicionalment, executar tot el càlcul al controlador és molt més lent que executar en paral·lel en els workers. Per aquests motius, en aquesta practica farem servir operacions paralelizables.\n",
    "\n",
    "### (2a) Usant `groupByKey()`\n",
    "Una primera solució al nostre problema, després veurem que hi ha altres molt més eficients, es podria basar en la transformació [groupByKey()](http://spark.apache.org/docs/latest/api/python/pyspark.html#pyspark.RDD.groupByKey). Com el seu nom indica, la transformació `groupByKey ()` agrupa tots els elements d'un RDD que comparteixin la mateixa clau en una única llista dins d'una de les particions.\n",
    "\n",
    "Aquesta operació planteja dos problemes:\n",
    "  + Aquesta operació necessita moure tots els valors dins de la partició adequada. Això satura la xarxa.\n",
    "  + Les llistes generades poden arribar a ser molt grans arribant fins i tot a saturar la memòria d'algun dels trabajadadores\n",
    "  \n",
    "Utilitza `groupByKey()` per generar un pair RDD del tipus `('word', Iterator)`."
   ]
  },
  {
   "cell_type": "code",
   "execution_count": 54,
   "metadata": {},
   "outputs": [
    {
     "name": "stdout",
     "output_type": "stream",
     "text": [
      "cat: [1, 1]\n",
      "elephant: [1]\n",
      "rat: [1, 1]\n"
     ]
    }
   ],
   "source": [
    "# TODO: Replace <FILL IN> with appropriate code\n",
    "# Note that groupByKey requires no parameters\n",
    "# wordGrouped = <FILL IN>\n",
    "\n",
    "wordsGrouped = wordPairs.groupByKey()\n",
    "for key, value in wordsGrouped.collect():\n",
    "    print('{0}: {1}'.format(key, list(value)))"
   ]
  },
  {
   "cell_type": "markdown",
   "metadata": {},
   "source": [
    "<span style=\"color:navy\"><strong>-> En aquest resultat:</strong></span></strong></span> \n",
    "\n",
    "* El resultat és la impressió que s'està fent en el bucle 'for' després d'aplicar la transformació groupByKey() al pair RDD wordPairs.\n",
    "* La key/clau (paraula) 'elephant' surt diferent és perquè només hi ha una instància de la paraula elephant al text, per tant, la seva llista associada només conté un valor 1. En canvi, les altres paraules (cat i rat) apareixen dues vegades cadascuna, així que les seves llistes associades contenen dos valors\n",
    "* Recordem que wordsList = ['cat', 'elephant', 'rat', 'rat', 'cat'] ---> \"[('cat', 1), ('elephant', 1), ('rat', 1), ('rat', 1), ('cat', 1)]\"\n"
   ]
  },
  {
   "cell_type": "code",
   "execution_count": 55,
   "metadata": {},
   "outputs": [],
   "source": [
    "# TEST groupByKey() approach (2a)\n",
    "assert sorted(wordsGrouped.mapValues(lambda x: list(x)).collect()) == [('cat', [1, 1]), ('elephant', [1]), ('rat', [1, 1])], 'incorrect value for wordsGrouped'"
   ]
  },
  {
   "cell_type": "markdown",
   "metadata": {},
   "source": [
    "### (2b) Utilitza `groupByKey()` per obtenir els recomptes\n",
    "\n",
    "Usant la transformació `groupByKey()` crea un RDD que contingui 2 elements, on cada un d'ells sigui un parell paraula (clau) Iterador de Python (valor).\n",
    "\n",
    "Després suma tots els valors de iterator usant una transformació `map()`. El resultat ha de ser un pair RDD que contingui les parelles (word, count)."
   ]
  },
  {
   "cell_type": "markdown",
   "metadata": {},
   "source": [
    "<span style=\"color:navy\"><strong>-> Utilitzem la transformació map() en el RDD wordsGrouped, que ja ha estat agrupat per clau</strong></span></strong></span> \n",
    "* La funció lambda s'aplica a cada element del RDD wordsGrouped, que consisteix en una tupla (word, Iterator).\n",
    "* La funció lambda suma tots els valors de l'iterador associat a cada paraula.\n",
    "* La sortida de la funció lambda és una nova tupla amb la paraula com a clau i la suma dels valors com a recompte."
   ]
  },
  {
   "cell_type": "code",
   "execution_count": 56,
   "metadata": {},
   "outputs": [
    {
     "name": "stdout",
     "output_type": "stream",
     "text": [
      "[('cat', 2), ('elephant', 1), ('rat', 2)]\n"
     ]
    }
   ],
   "source": [
    "# TODO: Replace <FILL IN> with appropriate code\n",
    "# wordCountsGrouped = <FILL IN>\n",
    "\n",
    "wordCountsGrouped = wordsGrouped.map(lambda x: (x[0], sum(x[1])))\n",
    "print(wordCountsGrouped.collect())"
   ]
  },
  {
   "cell_type": "markdown",
   "metadata": {},
   "source": [
    "Col·leccionem els resultats utilitzant collect() per visualitzar-los."
   ]
  },
  {
   "cell_type": "code",
   "execution_count": 58,
   "metadata": {},
   "outputs": [],
   "source": [
    "# TEST Use groupByKey() to obtain the counts (2b)\n",
    "assert sorted(wordCountsGrouped.collect())==[('cat', 2), ('elephant', 1), ('rat', 2)],'incorrect value for wordCountsGrouped'\n"
   ]
  },
  {
   "cell_type": "markdown",
   "metadata": {},
   "source": [
    "### (2c) Conteig usant `reduceByKey`\n",
    "\n",
    "Una millor solució és començar des d'un pair RDD i aleshores utilitzar la transformació [reduceByKey()](http://spark.apache.org/docs/latest/api/python/pyspark.html#pyspark.RDD.reduceByKey) per crear un nou pair RDD. La transformació `reduceByKey()` agrupa totes les parelles que comparteixen la mateixa clau. Posteriorment s'aplica la funció que se li passa per paràmetre agrupant els valors de dos en dos. Aquest procés es repeteix iterativament fins que obtenim un únic valor afegit per a cadascuna de les claus de l'pair RDD. `ReduceByKey()` opera aplicant la funció primer dins de cadascuna de les particions de forma independent, i posteriorment únicament comparteix els valors agregats entre particions diferents, permetent escalar de forma eficient ja que no té necessitat de desplaçar per la xarxa una gran quantitat de dades."
   ]
  },
  {
   "cell_type": "markdown",
   "metadata": {},
   "source": [
    "<span style=\"color:navy\"><strong>-> Combinem reduceByKey()i Lambda</strong></span></strong></span> \n",
    "\n",
    "* La transformació reduceByKey() agrupa totes les parelles que comparteixen la mateixa clau (paraula).\n",
    "* Després, aplica una funció lambda que suma els valors associats a cada paraula.\n",
    "* El resultat és un nou pair RDD que conté les parelles (word, count) on word és la paraula i count és el recompte total d'aquesta paraula al text."
   ]
  },
  {
   "cell_type": "code",
   "execution_count": 62,
   "metadata": {},
   "outputs": [
    {
     "name": "stdout",
     "output_type": "stream",
     "text": [
      "[('cat', 2), ('elephant', 1), ('rat', 2)]\n"
     ]
    }
   ],
   "source": [
    "# TODO: Replace <FILL IN> with appropriate code\n",
    "# Note that reduceByKey takes in a function that accepts two values and returns a single value\n",
    "# wordCounts = <FILL IN>\n",
    "\n",
    "wordCounts = wordPairs.reduceByKey(lambda x, y: x + y)\n",
    "print (wordCounts.collect())"
   ]
  },
  {
   "cell_type": "code",
   "execution_count": 69,
   "metadata": {},
   "outputs": [],
   "source": [
    "# TEST Counting using reduceByKey (2c)\n",
    "assert sorted(wordCounts.collect())==[('cat', 2), ('elephant', 1), ('rat', 2)],'incorrect value for wordCounts'"
   ]
  },
  {
   "cell_type": "markdown",
   "metadata": {},
   "source": [
    "### (2d) Ara tot junt\n",
    "\n",
    "La versió més complexa del codi executa primer un `map()` sobre el pair RDD, la transformació `reduceByKey()`, i finalment l'acció `collect()` en una única línia de codi."
   ]
  },
  {
   "cell_type": "code",
   "execution_count": null,
   "metadata": {},
   "outputs": [],
   "source": [
    "wordCountsCollected = <FILL IN>\n",
    "print(wordCountsCollected)"
   ]
  },
  {
   "cell_type": "code",
   "execution_count": 67,
   "metadata": {},
   "outputs": [
    {
     "name": "stdout",
     "output_type": "stream",
     "text": [
      "[('cat', 2), ('elephant', 1), ('rat', 2)]\n"
     ]
    }
   ],
   "source": [
    "wordCountsCollected = wordsRDD.map(lambda word: (word, 1)).reduceByKey(lambda x, y: x + y)\n",
    "# Imprimeix el resultat\n",
    "print(wordCountsCollected.collect())"
   ]
  },
  {
   "cell_type": "code",
   "execution_count": 64,
   "metadata": {},
   "outputs": [
    {
     "name": "stdout",
     "output_type": "stream",
     "text": [
      "[('cat', 2), ('elephant', 1), ('rat', 2)]\n"
     ]
    }
   ],
   "source": [
    "# TODO: Replace <FILL IN> with appropriate code\n",
    "# wordCountsCollected = <FILL IN>\n",
    "\n",
    "# Combina map() i reduceByKey() en una sola línia\n",
    "wordCountsCollected = wordsRDD.map(lambda word: (word, 1)).reduceByKey(lambda x, y: x + y)\n",
    "\n",
    "# Imprimeix el resultat\n",
    "print(wordCountsCollected.collect())"
   ]
  },
  {
   "cell_type": "markdown",
   "metadata": {},
   "source": [
    "<span style=\"color:navy\"><strong>-> En aquest codi:</strong></span></strong></span> \n",
    "\n",
    "* La funció lambda dins de map() crea un pair RDD on cada paraula és una clau i té un valor inicial de 1. \n",
    "* Utilitzem reduceByKey() per sumar els valors per a cada clau (paraula). \n",
    "* El resultat és el pair RDD wordCountsCollected que conté les parelles (word, count) on word és la paraula i count és el recompte total d'aquesta paraula al text."
   ]
  },
  {
   "cell_type": "code",
   "execution_count": 71,
   "metadata": {},
   "outputs": [
    {
     "ename": "TypeError",
     "evalue": "'PipelinedRDD' object is not iterable",
     "output_type": "error",
     "traceback": [
      "\u001b[1;31m---------------------------------------------------------------------------\u001b[0m",
      "\u001b[1;31mTypeError\u001b[0m                                 Traceback (most recent call last)",
      "\u001b[1;32m~\\AppData\\Local\\Temp\\ipykernel_22036\\685265421.py\u001b[0m in \u001b[0;36m<module>\u001b[1;34m\u001b[0m\n\u001b[0;32m      1\u001b[0m \u001b[1;31m# TEST All together (2d)\u001b[0m\u001b[1;33m\u001b[0m\u001b[1;33m\u001b[0m\u001b[0m\n\u001b[1;32m----> 2\u001b[1;33m \u001b[1;32massert\u001b[0m \u001b[1;33m(\u001b[0m\u001b[0msorted\u001b[0m\u001b[1;33m(\u001b[0m\u001b[0mwordCountsCollected\u001b[0m\u001b[1;33m)\u001b[0m\u001b[1;33m)\u001b[0m\u001b[1;33m==\u001b[0m\u001b[1;33m[\u001b[0m\u001b[1;33m(\u001b[0m\u001b[1;34m'cat'\u001b[0m\u001b[1;33m,\u001b[0m \u001b[1;36m2\u001b[0m\u001b[1;33m)\u001b[0m\u001b[1;33m,\u001b[0m \u001b[1;33m(\u001b[0m\u001b[1;34m'elephant'\u001b[0m\u001b[1;33m,\u001b[0m \u001b[1;36m1\u001b[0m\u001b[1;33m)\u001b[0m\u001b[1;33m,\u001b[0m \u001b[1;33m(\u001b[0m\u001b[1;34m'rat'\u001b[0m\u001b[1;33m,\u001b[0m \u001b[1;36m2\u001b[0m\u001b[1;33m)\u001b[0m\u001b[1;33m]\u001b[0m\u001b[1;33m,\u001b[0m\u001b[1;34m'incorrect value for wordCountsCollected'\u001b[0m\u001b[1;33m\u001b[0m\u001b[1;33m\u001b[0m\u001b[0m\n\u001b[0m",
      "\u001b[1;31mTypeError\u001b[0m: 'PipelinedRDD' object is not iterable"
     ]
    }
   ],
   "source": [
    "# TEST All together (2d)\n",
    "assert sorted(wordCountsCollected)==[('cat', 2), ('elephant', 1), ('rat', 2)],'incorrect value for wordCountsCollected'"
   ]
  },
  {
   "cell_type": "markdown",
   "metadata": {},
   "source": [
    "<span style=\"color:navy\"><strong>-> Comprobació i 'pipeline':</strong></span></strong></span> \n",
    "\n",
    "El terme **PipelinedRDD** fa referència al **tipus d'RDD que es retorna després de les transformacions** com map(), reduceByKey(), i altres en Spark. \n",
    "\n",
    "És un RDD que representa una seqüència de transformacions que s'aplicaran a les dades quan s'activi una acció : quan apliquem transformacions com **map()** i **reduceByKey()** a un RDD, **Spark no executa immediatament aquestes transformacions**. En lloc d'això, crea un pla de transformacions, que forma un **gràfic acíclic dirigit (DAG) que representa el càlcul a realitzar**. Aquest pla s'anomena pipeline, i s'optimitza i s'executa de manera diferida quan s'activa una acció com collect() o count().\n",
    "\n",
    "* Quan fem el testing, surt un **TypeError** donat que 'wordCountsCollected' és **un objecte tipus 'PipelinedRDD' i no es pot sortejar directament**.\n",
    "* Per resoldre això, es poden recolectar els resultats com a **llista** i després sortejar-los amb **'sorted'**, aixì : "
   ]
  },
  {
   "cell_type": "code",
   "execution_count": 70,
   "metadata": {},
   "outputs": [
    {
     "name": "stdout",
     "output_type": "stream",
     "text": [
      "[('cat', 2), ('elephant', 1), ('rat', 2)]\n"
     ]
    }
   ],
   "source": [
    "# Collect the results as a list and sort it\n",
    "wordCountsList = wordCountsCollected.collect()\n",
    "wordCountsSorted = sorted(wordCountsList)\n",
    "\n",
    "# Print the sorted result\n",
    "print(wordCountsSorted)"
   ]
  },
  {
   "cell_type": "markdown",
   "metadata": {},
   "source": [
    "Veiem que els resultats corresponen al esperats."
   ]
  },
  {
   "cell_type": "markdown",
   "metadata": {},
   "source": [
    "## Part 3: Trobar les paraules individuals i la seva freqüència d'aparició mitjana\n",
    "\n",
    "### (3a) Paraules úniques\n",
    "\n",
    "Calcular el nombre de paraules úniques en `wordsRDD`. Pots utitlziar altres RDDs que hagis creat en aquesta practica si et resulta més senzill."
   ]
  },
  {
   "cell_type": "markdown",
   "metadata": {},
   "source": [
    "<span style=\"color:navy\"><strong>-> Recordem els inputs i definicions de variables de la celda [23]:</strong></span></strong></span> \n",
    "\n",
    "    wordsList = ['cat', 'elephant', 'rat', 'rat', 'cat']\n",
    "    wordsRDD = sc.parallelize(wordsList)"
   ]
  },
  {
   "cell_type": "code",
   "execution_count": 92,
   "metadata": {},
   "outputs": [
    {
     "data": {
      "text/plain": [
       "3"
      ]
     },
     "execution_count": 92,
     "metadata": {},
     "output_type": "execute_result"
    }
   ],
   "source": [
    "# TODO: Replace <FILL IN> with appropriate code\n",
    "# uniqueWords = <FILL IN>\n",
    "\n",
    "uniqueWords = wordsRDD.distinct().count()\n",
    "uniqueWords"
   ]
  },
  {
   "cell_type": "code",
   "execution_count": 93,
   "metadata": {},
   "outputs": [],
   "source": [
    "# TEST Unique words (3a)\n",
    "assert uniqueWords== 3, 'incorrect count of uniqueWords'"
   ]
  },
  {
   "cell_type": "code",
   "execution_count": 94,
   "metadata": {},
   "outputs": [
    {
     "name": "stdout",
     "output_type": "stream",
     "text": [
      "['cat', 'elephant', 'rat']\n"
     ]
    }
   ],
   "source": [
    "uniqueWordsList = wordsRDD.distinct().collect()\n",
    "print(uniqueWordsList)"
   ]
  },
  {
   "cell_type": "markdown",
   "metadata": {},
   "source": [
    "Veiem que els resultats corresponen al esperats i que obtenim efectivament 3 paraules diferents, que son 'cat', 'elephant', 'rat'."
   ]
  },
  {
   "cell_type": "markdown",
   "metadata": {},
   "source": [
    "### (3b) Calular la mitjana usant `reduce()`\n",
    "\n",
    "Troba la freqüència mitjana de aparició de paraules en `wordCounts`.\n",
    "\n",
    "Utilitza l'acció `reduce()` per sumar els recomptes en `wordCounts` i llavors divideix pel nombre de paraules úniques. Per realitzar això primer s'aplica un `map()` a pair RDD `wordCounts`, que està format per tuples amb el format (key, value), per convertir-lo en un RDD de valors."
   ]
  },
  {
   "cell_type": "markdown",
   "metadata": {},
   "source": [
    "<span style=\"color:navy\"><strong>-> Recordem els inputs i definicions de variables de la celda [62]:</strong></span></strong></span> \n",
    "\n",
    "    wordCounts = wordPairs.reduceByKey(lambda x, y: x + y)\n",
    "    print (wordCounts.collect())\n",
    "    [('cat', 2), ('elephant', 1), ('rat', 2)]"
   ]
  },
  {
   "cell_type": "markdown",
   "metadata": {},
   "source": [
    "<span style=\"color:navy\"><strong>-> Solució:</strong></span></strong></span> \n",
    "\n",
    "* Per calcular la **freqüència mitjana de les paraules en wordCounts**, primer necessitem **sumar tots els recomptes** i després dividir aquesta suma pel nombre total de paraules úniques.\n",
    "* Podem fer-ho utilitzant l'acció **reduce() per sumar** els valors de wordCounts i llavors **dividint pel nombre total de paraules úniques**."
   ]
  },
  {
   "cell_type": "code",
   "execution_count": 96,
   "metadata": {},
   "outputs": [
    {
     "name": "stdout",
     "output_type": "stream",
     "text": [
      "5\n",
      "1.67\n"
     ]
    }
   ],
   "source": [
    "# TODO: Replace <FILL IN> with appropriate code\n",
    "# totalCount = <FILL IN>\n",
    "# average = <FILL IN>\n",
    "\n",
    "from operator import add\n",
    "\n",
    "# Suma tots els valors de wordCounts\n",
    "totalCount = wordCounts.map(lambda x: x[1]).reduce(add)\n",
    "\n",
    "# Divideix la suma pel nombre total de paraules úniques\n",
    "average = totalCount / uniqueWords\n",
    "\n",
    "print(totalCount)\n",
    "print(round(average, 2))"
   ]
  },
  {
   "cell_type": "code",
   "execution_count": 97,
   "metadata": {},
   "outputs": [],
   "source": [
    "# TEST Mean using reduce (3b)\n",
    "assert round(average, 2)==1.67, 'incorrect value of average'"
   ]
  },
  {
   "cell_type": "markdown",
   "metadata": {},
   "source": [
    "Els resultats corresponen als esperats: com que tenim 5 paraules, de les quals només 3 son dferents, ens dona una mitjana d'1.67."
   ]
  },
  {
   "cell_type": "markdown",
   "metadata": {},
   "source": [
    "## Part 4: Aplicar les funcionalitats desenvolupades a un arxiu de text\n",
    "\n",
    "Per això hem de construir una funció `wordCount`, capaç de treballar amb dades del món real que solen presenten problemes com l'ús de majúscules o minúscules, puntuació, accents, etc. Posteriorment, carregar les dades de la nostra font de dades i finalment, calular el recompte de paraules sobre les dades processades.\n",
    "\n",
    "### (4a) funcio `wordCount`\n",
    "\n",
    "Primer, defineix una funció per al recompte de paraules. Hauries de reutilitzar les tècniques que has vist en els apartats anteriors d'aquesta practica. Aquesta funció, ha de prendre un RDD que contingui una llista de paraules, i tornar un pair RDD que contingui totes les paraules amb els seus corresponents recomptes."
   ]
  },
  {
   "cell_type": "code",
   "execution_count": 100,
   "metadata": {},
   "outputs": [
    {
     "name": "stdout",
     "output_type": "stream",
     "text": [
      "[('cat', 2), ('elephant', 1), ('rat', 2)]\n"
     ]
    }
   ],
   "source": [
    "# TODO: Replace <FILL IN> with appropriate code\n",
    "\n",
    "# La diferència entre 'wordCounts' i 'wordCount' és que:\n",
    "# 'wordCounts' és el nom d'una variable que emmagatzema un RDD que conté el recompte de paraules\n",
    "# 'wordCount' és el nom de la funció que calcula aquest recompte. \n",
    "\n",
    "def wordCount(wordListRDD):\n",
    "    \"\"\"Creates a pair RDD with word counts from an RDD of words.\n",
    "\n",
    "    Args:\n",
    "        wordListRDD (RDD of str): An RDD consisting of words.\n",
    "\n",
    "    Returns:\n",
    "        RDD of (str, int): An RDD consisting of (word, count) tuples.\n",
    "    \"\"\"\n",
    "    \n",
    "    # Compta les aparicions de cada paraula\n",
    "    wordCounts = wordListRDD.map(lambda word: (word, 1)).reduceByKey(lambda x, y: x + y)\n",
    "    \n",
    "    # return <FILL IN>\n",
    "    return wordCounts\n",
    "\n",
    "print(wordCount(wordsRDD).collect())"
   ]
  },
  {
   "cell_type": "code",
   "execution_count": 101,
   "metadata": {},
   "outputs": [],
   "source": [
    "# TEST wordCount function (4a)\n",
    "assert sorted(wordCount(wordsRDD).collect())==[('cat', 2), ('elephant', 1), ('rat', 2)],'incorrect definition for wordCount function'"
   ]
  },
  {
   "cell_type": "markdown",
   "metadata": {},
   "source": [
    "<span style=\"color:navy\"><strong>-> Solució i resultat:</strong></span></strong></span> \n",
    "\n",
    "* Aquesta funció crea un pair RDD amb el recompte de paraules a partir d'un RDD de paraules. \n",
    "* Utilitza **map()** per assignar un **valor inicial d'1** a cada paraula, després **reduceByKey()** per sumar els valors de cada paraula\n",
    "* El resultat tornat és el esperat ; és un **pair RDD** que conté totes les paraules amb els seus corresponents recomptes com a **tuples (paraula, recompte)**."
   ]
  },
  {
   "cell_type": "markdown",
   "metadata": {},
   "source": [
    "### (4b) majúscules i puntuació\n",
    "\n",
    "Els fitxers del món real són molt més complexos que els que hem estat usant en aquesta PAC. Alguns dels problemes que són necessaris de solucionar són:\n",
    "  + Les paraules han de comptar-se independentment tan si estan en mayuscula o minúscula (per exemple, Spark i spark haurien explicar-se com la mateixa paraula).\n",
    "  + Tots els signes de puntuació han d'eliminar-se.\n",
    "  + Qualsevol espai al principi o al final de la paraula ha de eliminar-se.\n",
    "  \n",
    "Defineix la funció `removePunctuation` que converteixi tot el text a minúscules, elimini els signes de puntuació, i elimini els espais al principi i final de cada paraula. Utilitza el mòdul de Python [re](https://docs.python.org/2/library/re.html) per eliminar qualsevol caràcter que no sigui una lletra, un nombre o un espai.\n",
    "\n",
    "Sinó aquestes familiaritzat amb les expressions regulars hauries revisar [aquest tutorial](https://developers.google.com/edu/python/regular-expressions). Alternativament, [aquest web](https://regex101.com/#python) és de gran ajuda per a debugar les teves expressions regulars.\n",
    "\n",
    "** Hints **\n",
    "\n",
    "1. Fes servir la funcio [re.sub()](https://docs.python.org/2.7/library/re.html#re.sub).\n",
    "2. Per als nostres propòsits, \"puntuació\" significa \"no alphabetico, numèric, o espai.\" La expressio regular que defineix aquests caràcters és: `[^A-Za-z\\s\\d]`\n",
    "3. No fer servir `\\W`, ja que retindrà els guions baixos."
   ]
  },
  {
   "cell_type": "code",
   "execution_count": 103,
   "metadata": {},
   "outputs": [
    {
     "name": "stdout",
     "output_type": "stream",
     "text": [
      "hi you\n",
      "no underscore\n",
      "remove punctuation then spaces\n",
      "the elephants 4 cats\n"
     ]
    }
   ],
   "source": [
    "# TODO: Replace <FILL IN> with appropriate code\n",
    "import re\n",
    "def removePunctuation(text):\n",
    "    \"\"\"Removes punctuation, changes to lower case, and strips leading and trailing spaces.\n",
    "\n",
    "    Note:\n",
    "        Only whitespace, letters, and numbers should be retained.  Other characters should should be\n",
    "        eliminated (e.g. it's becomes its).  Leading and trailing spaces should be removed after\n",
    "        punctuation is removed.\n",
    "\n",
    "    Args:\n",
    "        text (str): A string.\n",
    "\n",
    "    Returns:\n",
    "        str: The cleaned up string.\n",
    "    \"\"\"\n",
    "    # Eliminem la puntuació i convertim el text a minúscules\n",
    "    text = re.sub('[^A-Za-z\\s\\d]', '', text.lower())\n",
    "    \n",
    "    # Eliminem els espais al principi i al final de cada paraula\n",
    "    text = text.strip()\n",
    "    \n",
    "    return text\n",
    "    \n",
    "print(removePunctuation('Hi, you!'))\n",
    "print(removePunctuation(' No under_score!'))\n",
    "print(removePunctuation(' *      Remove punctuation then spaces  * '))\n",
    "print(removePunctuation(\" The Elephant's 4 cats. \"))"
   ]
  },
  {
   "cell_type": "code",
   "execution_count": null,
   "metadata": {},
   "outputs": [],
   "source": [
    "# TEST Capitalization and punctuation (4b)\n",
    "assert removePunctuation(\" The Elephant's 4 cats. \") == 'the elephants 4 cats', 'incorrect definition for removePunctuation function'"
   ]
  },
  {
   "cell_type": "markdown",
   "metadata": {},
   "source": [
    "<span style=\"color:navy\"><strong>-> Solució i resultat:</strong></span></strong></span> \n",
    "\n",
    "* A la funció **removePunctuation**, el paràmetre ***text*** representa la cadena d'entrada que volem processar. \n",
    "* Quan cridem la funció removePunctuation(*'Hi, you!'*), la cadena 'Hola, tu!' és passada com a argument al paràmetre text.\n",
    "* En l'expressió **return**, ***text*** fa referència a la cadena processada després d'haver eliminat la puntuació, convertit tot a minúscules i eliminat els espais al principi i al final. És la **versió modificada de la cadena (string) d'entrada** que la funció produeix com a sortida."
   ]
  },
  {
   "cell_type": "markdown",
   "metadata": {},
   "source": [
    "### (4c) Carregar un fitxer de text\n",
    "\n",
    "Per a la següent part, farem servir el text ja esmentat ***Lorem Ipsum*** generat per a la pràctica. Para convertir un fitxer de text en un RDD, farem servir el mètode `SparkContext.textFile()`. També farem servir la funció que acabem de crear `removePunctuation()` dins d'una transformació `map()` per eliminar tots els caràcters no alphabeticos, numèrics or espais. Atès que el fitxer és bastant gran, farem servir `take(15)`, de manera que tan sols imprimirem per pantalla les 15 primeres línies."
   ]
  },
  {
   "cell_type": "markdown",
   "metadata": {},
   "source": [
    " <span style=\"color:navy\"><strong>-> Solució i resultat:</strong></span></strong></span> \n",
    "\n",
    "* El módulo os.path, que proporciona funciones para manipular rutas de archivo\n",
    "* Se **leerá el contenido del archivo** de texto 'LoremIpsum.txt' en un RDD utilizando **sc.textFile()**. \n",
    "* El argumento opcional, minPartitions, especifica el número mínimo de particiones a crear al leer el archivo. En este caso, se establece en 8.\n",
    "* La función **removePunctuation** a cada línea del RDD con **map()** es para eliminar la puntuación y otros caracteres no deseados\n",
    "* El método **take(n)** se utiliza para **devolver una lista** con los primeros n elementos de un RDD. \n",
    "* Excluye las líneas que tienen longitud 0 (**líneas vacías**) utilizando filter().\n",
    "* loremRDD.take(10) devolverá una lista con **las primeras 10 frases** del archivo loremRDD. "
   ]
  },
  {
   "cell_type": "code",
   "execution_count": 105,
   "metadata": {},
   "outputs": [
    {
     "data": {
      "text/plain": [
       "['lorem ipsum dolor sit amet consectetuer adipiscing elit sed diam nonummy nibh euismod tincidunt ut laoreet dolore magna aliquam erat volutpat ut wisi enim ad minim veniam quis nostrud exerci tation ullamcorper suscipit lobortis nisl ut aliquip ex ea commodo consequat duis autem vel eum iriure dolor in hendrerit in vulputate velit esse molestie consequat vel illum dolore eu feugiat nulla facilisis at vero eros et accumsan et iusto odio dignissim qui blandit praesent luptatum zzril delenit augue duis dolore te feugait nulla facilisi',\n",
       " 'expetenda tincidunt in sed ex partem placerat sea porro commodo ex eam his putant aeterno interesset at usu ea mundi tincidunt omnium virtute aliquando ius ex ea aperiri sententiae duo usu nullam dolorum quaestio ei sit vidit facilisis ea per ne impedit iracundia neglegentur consetetur neglegentur eum ut vis animal legimus inimicus id',\n",
       " 'his audiam deserunt in eum ubique voluptatibus te in reque dicta usu ne rebum dissentiet eam vim omnis deseruisse id ullum deleniti vituperata at quo insolens complectitur te eos ea pri dico munere propriae vel ferri facilis ut qui paulo ridens praesent ad possim alterum qui cu accusamus consulatu ius te cu decore soleat appareat usu',\n",
       " 'est ei erat mucius quaeque ei his quas phaedrum efficiantur mediocritatem ne sed hinc oratio blandit ei sed blandit gloriatur eam et brute noluisse per et verear disputando neglegentur at quo sea quem legere ei unum soluta ne duo ludus complectitur quo te ut vide autem homero pro',\n",
       " 'vis id minim dicant sensibus pri aliquip conclusionemque ad ad malis evertitur torquatos his has ei solum harum reprimique id illum saperet tractatos his ei omnis soleat antiopam quo ad augue inani postulant mel mel ea qualisque forensibus',\n",
       " 'lorem salutandi eu mea eam in soleat iriure assentior tamquam lobortis id qui ea sanctus democritum mei per eu alterum electram adversarium ea vix probo dicta iuvaret posse epicurei suavitate eam an nam et vidit menandri ut his accusata petentium',\n",
       " 'meis vocent signiferumque pri et facilis corpora recusabo ne quo eum ne eruditi blandit suscipiantur mazim sapientem sed id sea debet commune iracundia in eius falli propriae te usu in usu nonummy volumus expetenda sint quando facilisis ei per delectus constituto sea te',\n",
       " 'wisi forensibus mnesarchum in cum per id impetus abhorreant his no magna definiebas inani rationibus in quo ut vidisse dolores est ut quis nominavi mel ad pri quod apeirian concludaturque id timeam iudicabit rationibus pri erant putant luptatum ex sit error euismod ad qui meliore voluptatum complectitur an vix clita persius sed et vix vidit consulatu complectitur ex per nonummy postulant assentior an mea audiam fabellas deserunt id',\n",
       " 'cu nam labores lobortis definiebas ei aliquyam salutatus persequeris quo cum eu nemore fierent dissentiunt per vero dolor id vide democritum scribentur eu vim pri erroribus temporibus ex euismod molestie offendit has no quo te semper invidunt quaestio per vituperatoribus sadipscing ei partem aliquyam sensibus in cum',\n",
       " 'mei eu mollis albucius ex nisl contentiones vix duo persius volutpat at cu iuvaret epicuri mei duo posse pertinacia no ex dolor contentiones mea nec omnium utamur dignissim ne mundi lucilius salutandi an sea ne sea aeque iudico comprehensam populo delicatissimi ad pri ex vitae accusam vivendum pro']"
      ]
     },
     "execution_count": 105,
     "metadata": {},
     "output_type": "execute_result"
    }
   ],
   "source": [
    "# Tan solo ejecuta este codigo\n",
    "import os.path\n",
    "\n",
    "# Definir la ruta completa\n",
    "folder_path = \"C:\\\\Users\\\\Buba\\\\Documents\\\\CURSOS-PROGRAMACION\\\\IT-Academy\\\\IT-BigData\\\\BigData_Sprint3_ApacheSpark-PySpark\"\n",
    "file = \"LoremIpsum.txt\"\n",
    "\n",
    "# fileName = os.path.join('/ruta/a/la/carpeta', 'LoremIpsum.txt')\n",
    "# Combinar la ruta y el nombre del archivo\n",
    "fileName = os.path.join(folder_path, file)\n",
    "\n",
    "loremRDD = sc.textFile(fileName, 8).map(removePunctuation).filter(lambda x: len(x)>0)\n",
    "loremRDD.take(10)"
   ]
  },
  {
   "cell_type": "markdown",
   "metadata": {},
   "source": [
    "### (4d) Extreure les paraules de les línies\n",
    "\n",
    "Abans de poder utilitzar la funció `wordcount()`, hem de solucionar dos problemes amb el format del RDD:\n",
    "  + El primer problema és que necessitem dividir cada línia pels seus espais. **Això ho solucionarem en l'apartat (4d).**\n",
    "  + El segon problema és que necessitem filtar les línies completament buides. **Això ho solucionarem en l'apartat (4e).**\n",
    "\n",
    "Per aplicar una transformació que divideixi cada element del RDD pels seus espais, hem d'aplicar la funció incorporada en els strings de Python [split()](https://docs.python.org/2/library/string.html#string .split). Compte que a primera vista pot semblar que la funció necessària és una transformació `map()`, però si penses una mica mes sobre el resultat de la funció `split()` t'adonaràs que aquesta no és l'opció correcta.\n",
    "\n",
    "> Nota:\n",
    "> * No facis servir la implementació estàndard de l' `split()`, passa-li un valor de separació. Per exemple, per dividir `line` per comes, usa `line.split(',')`."
   ]
  },
  {
   "cell_type": "code",
   "execution_count": 124,
   "metadata": {
    "tags": []
   },
   "outputs": [
    {
     "data": {
      "text/plain": [
       "2342"
      ]
     },
     "execution_count": 124,
     "metadata": {},
     "output_type": "execute_result"
    }
   ],
   "source": [
    "# TODO: Replace <FILL IN> with appropriate code\n",
    "# loremWordsRDD = loremRDD.flatMap(<FILL IN>)\n",
    "# loremWordsCount = <FILL IN>\n",
    "\n",
    "loremWordsRDD = loremRDD.flatMap(lambda line: line.split(' ')) \n",
    "# (' ') signifca 'espacio'\n",
    "\n",
    "loremWordsCount = loremWordsRDD.count()\n",
    "\n",
    "loremWordsCount"
   ]
  },
  {
   "cell_type": "markdown",
   "metadata": {},
   "source": [
    "<span style=\"color:navy\"><strong>-> Aplanar\" con flatMap() significa convertir una estructura de datos de varias capas en una sola lista plana</strong></span></strong></span> \n",
    "\n",
    "* Cuando se aplica flatMap() a un RDD, se aplica una función a cada elemento del RDD y el resultado es una lista de elementos\n",
    "* Luego flatMap() \"aplanará\" esta lista de listas en una sola lista, en lugar de una lista de listas.\n"
   ]
  },
  {
   "cell_type": "code",
   "execution_count": 126,
   "metadata": {
    "tags": []
   },
   "outputs": [],
   "source": [
    "# TEST Words from lines (4d)\n",
    "# This test allows for leading spaces to be removed either before or after punctuation is removed.\n",
    "\n",
    "assert loremWordsCount == 2342, 'incorrect value for loremWordsCount'\n",
    "assert loremWordsRDD.top(5)==[u'zzril', u'zzril', u'zzril', u'zzril', u'zzril'], 'incorrect value for loremWordsRDD'"
   ]
  },
  {
   "cell_type": "markdown",
   "metadata": {},
   "source": [
    "<span style=\"color:navy\"><strong>-> Resultats i explicacions</strong></span></strong></span> \n",
    "\n",
    "* El resultat del word count ha anat segons esperat : 2342.\n",
    "* La llista [u'zzril', u'zzril', u'zzril', u'zzril', u'zzril'] que és una llista de cadenes de caràcters. \n",
    "* El prefix u abans de cada cadena indica que són cadenes Unicode a Python 2. A Python 3, aquest prefix no està present ja que totes les cadenes són Unicode per defecte.\n",
    "* Veiem la mateixa paraula repetida a la llista perquè loremWordsRDD.top(5) està recuperant les 5 primeres paraules basant-se en el seu ordre lexicogràfic, i en el text de Lorem Ipsum, \"zzril\" es una paraula que apareix freqüentment."
   ]
  },
  {
   "cell_type": "markdown",
   "metadata": {},
   "source": [
    "### (4e) Calcula paraules diferents\n",
    "\n",
    "El següent pas és comptar quantes paraules diferents conté el nostre text. Podeu fer servir transformacions `map()` i `reduceByKey()` ja utilitzades anteriorment."
   ]
  },
  {
   "cell_type": "code",
   "execution_count": 129,
   "metadata": {},
   "outputs": [
    {
     "data": {
      "text/plain": [
       "364"
      ]
     },
     "execution_count": 129,
     "metadata": {},
     "output_type": "execute_result"
    }
   ],
   "source": [
    "# Dividir les línies en paraules i eliminar les buides\n",
    "loremWordsRDD = loremRDD.flatMap(lambda line: line.split(' ')).filter(lambda word: word != '')\n",
    "\n",
    "# Obtenir el nombre de paraules úniques\n",
    "uniqueWordCount = loremWordsRDD.distinct().count()\n",
    "uniqueWordCount"
   ]
  },
  {
   "cell_type": "code",
   "execution_count": 135,
   "metadata": {},
   "outputs": [
    {
     "name": "stdout",
     "output_type": "stream",
     "text": [
      "['ipsum', 'diam', 'nonummy', 'aliquip', 'illum', 'nulla', 'luptatum', 'porro', 'impedit', 'iracundia', 'reque', 'rebum', 'quaeque', 'disputando', 'homero', 'solum', 'postulant', 'an', 'accusata', 'eius', 'impetus', 'vidisse', 'apeirian', 'labores', 'persequeris', 'nemore', 'fierent', 'mollis', 'vitae', 'expetendis', 'debitis', 'delicata', 'veri', 'admodum', 'oportere', 'detraxit', 'splendide', 'alii', 'mediocrem', 'fugit', 'modo', 'congue', 'malorum', 'consectetuer', 'euismod', 'ut', 'laoreet', 'wisi', 'minim', 'autem', 'velit', 'qui', 'expetenda', 'placerat', 'aeterno', 'nullam', 'id', 'paulo', 'ridens', 'hinc', 'verear', 'quem', 'unum', 'pro', 'conclusionemque', 'malis', 'has', 'harum', 'qualisque', 'mea', 'adversarium', 'vix', 'iudicabit', 'meliore', 'fabellas', 'salutatus', 'temporibus', 'albucius', 'lucilius', 'populo', 'mutat', 'tempor', 'nihil', 'oblique', 'reprehendunt', 'repudiare', 'dicit', 'everti', 'amet', 'molestie', 'at', 'vero', 'iusto', 'odio', 'feugait', 'interesset', 'aperiri', 'deseruisse', 'complectitur', 'possim', 'est', 'efficiantur', 'oratio', 'noluisse', 'dicant', 'evertitur', 'torquatos', 'mel', 'probo', 'suavitate', 'corpora', 'debet', 'falli', 'sint', 'persius', 'comprehensam', 'vivendum', 'interpretaris', 'possit', 'efficiendi', 'ceteros', 'eirmod', 'tibique', 'tollit', 'elit', 'tincidunt', 'exerci', 'nisl', 'eu', 'dignissim', 'blandit', 'praesent', 'ei', 'neglegentur', 'consetetur', 'quo', 'pri', 'alterum', 'accusamus', 'decore', 'mediocritatem', 'brute', 'tractatos', 'inani', 'posse', 'petentium', 'vocent', 'delectus', 'constituto', 'nominavi', 'concludaturque', 'timeam', 'dissentiunt', 'semper', 'nec', 'utamur', 'melius', 'diceret', 'bonorum', 'necessitatibus', 'noster', 'maiorum', 'habemus', 'kasd', 'percipitur', 'summo', 'quodsi', 'adolescens', 'aperiam', 'nibh', 'erat', 'ullamcorper', 'suscipit', 'ex', 'duis', 'in', 'feugiat', 'delenit', 'facilisi', 'partem', 'sea', 'eam', 'usu', 'sententiae', 'duo', 'legimus', 'dicta', 'omnis', 'insolens', 'consulatu', 'soluta', 'vide', 'sensibus', 'sanctus', 'democritum', 'signiferumque', 'sapientem', 'volumus', 'no', 'definiebas', 'dolores', 'voluptatum', 'aliquyam', 'delicatissimi', 'fabulas', 'mandamus', 'assum', 'scriptorem', 'corrumpit', 'prompta', 'labitur', 'scripserit', 'gubergren', 'adhuc', 'saepe', 'dictas', 'posidonium', 'incorrupte', 'platonem', 'aliquid', 'lorem', 'dolor', 'sit', 'adipiscing', 'enim', 'nostrud', 'consequat', 'eum', 'eros', 'et', 'accumsan', 'zzril', 'omnium', 'aliquando', 'vidit', 'animal', 'audiam', 'vim', 'ullum', 'eos', 'propriae', 'saperet', 'salutandi', 'electram', 'meis', 'eruditi', 'cum', 'abhorreant', 'rationibus', 'quod', 'erant', 'error', 'scribentur', 'erroribus', 'sadipscing', 'contentiones', 'epicuri', 'aeque', 'consul', 'natum', 'numquam', 'nostro', 'solet', 'dicunt', 'oporteat', 'postea', 'graecis', 'errem', 'affert', 'equidem', 'sed', 'magna', 'quis', 'tation', 'lobortis', 'commodo', 'vulputate', 'augue', 'his', 'mundi', 'inimicus', 'deserunt', 'voluptatibus', 'dissentiet', 'vituperata', 'cu', 'soleat', 'appareat', 'quas', 'phaedrum', 'ludus', 'reprimique', 'forensibus', 'assentior', 'tamquam', 'iuvaret', 'epicurei', 'menandri', 'suscipiantur', 'offendit', 'invidunt', 'iudico', 'accusam', 'percipit', 'molestiae', 'urbanitas', 'moderatius', 'deterruisset', 'instructior', 'scaevola', 'dolore', 'aliquam', 'volutpat', 'ad', 'veniam', 'ea', 'vel', 'iriure', 'hendrerit', 'esse', 'facilisis', 'te', 'putant', 'virtute', 'ius', 'dolorum', 'quaestio', 'per', 'ne', 'vis', 'ubique', 'deleniti', 'dico', 'munere', 'ferri', 'facilis', 'mucius', 'gloriatur', 'legere', 'antiopam', 'mei', 'nam', 'recusabo', 'mazim', 'commune', 'quando', 'mnesarchum', 'clita', 'vituperatoribus', 'pertinacia', 'dolorem', 'integre', 'graeco', 'choro', 'audire', 'disputationi', 'puto', 'senserit', 'pertinax', 'tritani', 'verterem', 'definitiones', 'takimata', 'imperdiet']\n"
     ]
    }
   ],
   "source": [
    "# TODO: Replace <FILL IN> with appropriate code\n",
    "# distintWordsMapRDD = loremWordsRDD.<FILL IN>\n",
    "# distintWordsRDD=distintWordsMapRDD.<FILL IN>\n",
    "\n",
    "# Crea un pair RDD amb totes les paraules com a clau i un valor constant\n",
    "distintWordsMapRDD = loremWordsRDD.map(lambda word: (word, 1))\n",
    "\n",
    "# Utilitza reduceByKey per eliminar les paraules duplicades\n",
    "distintWordsRDD = distintWordsMapRDD.reduceByKey(lambda x, y: x)\n",
    "\n",
    "# Obtenir només les claus, que són les paraules úniques\n",
    "distintWordsRDD = distintWordsRDD.keys()\n",
    "\n",
    "# Veure els resultats\n",
    "print(distintWordsRDD.collect())\n"
   ]
  },
  {
   "cell_type": "code",
   "execution_count": 138,
   "metadata": {},
   "outputs": [
    {
     "name": "stdout",
     "output_type": "stream",
     "text": [
      "364\n"
     ]
    }
   ],
   "source": [
    "print(distintWordsRDD.count())"
   ]
  },
  {
   "cell_type": "code",
   "execution_count": 139,
   "metadata": {},
   "outputs": [],
   "source": [
    "# TEST Remove empty elements (4e)\n",
    "assert distintWordsRDD.count()== 364, 'incorrect value for shakeWordCount'"
   ]
  },
  {
   "cell_type": "markdown",
   "metadata": {},
   "source": [
    "El número de paraules úniques és el que s'esperava (364)"
   ]
  },
  {
   "cell_type": "markdown",
   "metadata": {},
   "source": [
    "### (4f) Compte les paraules\n",
    "\n",
    "Ara que tenim un RDD que conté només paraules. El següent pas és aplicar la funció `wordCount()` per a produir una llista amb els recomptes de paraules. Podem veure les 15 més comuns usant l'acció `takeOrdered()`; però, com els elements del RRD són parells, necessitem una funció especial que ordeni els parells de la forma correcta.\n",
    "\n",
    "Utilitza les funcions `wordCount()` i `takeOrdered()` per obtenir les 15 paraules més comuns juntament amb els seus recomptes."
   ]
  },
  {
   "cell_type": "markdown",
   "metadata": {},
   "source": [
    "<span style=\"color:navy\"><strong>-> Per obtenir les 15 paraules més comunes juntament amb els seus recomptes:</strong></span></strong></span> \n",
    "\n",
    "\n",
    "* Aplicar la funció wordCount() sobre l'RDD loremWordsRDD per obtenir un pair RDD amb les paraules i els seus recomptes.\n",
    "* Utilitzar l'acció takeOrdered() per obtenir les 15 paraules més comunes juntament amb els seus recomptes.\n",
    "* La línia de codi \"*top15WordsAndCounts...*\" obtindrà les 15 paraules més comunes i els seus recomptes. \n",
    "* L'argument key=lambda x: -x[1] indica que volem ordenar el RDD en ordre descendent basant-nos en el segon element de cada parell, que és el recompte de paraules."
   ]
  },
  {
   "cell_type": "code",
   "execution_count": 146,
   "metadata": {},
   "outputs": [
    {
     "data": {
      "text/plain": [
       "[('et', 49),\n",
       " ('id', 47),\n",
       " ('ei', 40),\n",
       " ('in', 40),\n",
       " ('ea', 40),\n",
       " ('ad', 39),\n",
       " ('ut', 37),\n",
       " ('his', 35),\n",
       " ('te', 35),\n",
       " ('at', 34),\n",
       " ('ex', 30),\n",
       " ('per', 30),\n",
       " ('ne', 30),\n",
       " ('quo', 26),\n",
       " ('sea', 26)]"
      ]
     },
     "execution_count": 146,
     "metadata": {},
     "output_type": "execute_result"
    }
   ],
   "source": [
    "# TODO: Replace <FILL IN> with appropriate code\n",
    "# top15WordsAndCounts = <FILL IN>\n",
    "\n",
    "# Aplicar la funció wordCount() per obtenir un pair RDD amb les paraules i els seus recomptes\n",
    "wordCountsRDD = wordCount(loremWordsRDD)\n",
    "\n",
    "# Utilitzar takeOrdered() per obtenir les 15 paraules més comunes juntament amb els seus recomptes\n",
    "top15WordsAndCounts = wordCountsRDD.takeOrdered(15, key=lambda x: -x[1])\n",
    "\n",
    "top15WordsAndCounts"
   ]
  },
  {
   "cell_type": "code",
   "execution_count": 142,
   "metadata": {},
   "outputs": [],
   "source": [
    "# TEST Count the words (4f)\n",
    "assert top15WordsAndCounts== [('et', 49), ('id', 47), ('ei', 40), \n",
    "                              ('in', 40), ('ea', 40), ('ad', 39), \n",
    "                              ('ut', 37), ('his', 35), ('te', 35), \n",
    "                              ('at', 34), ('ex', 30), ('per', 30), \n",
    "                              ('ne', 30), ('quo', 26), ('sea', 26)],'incorrect value for top15WordsAndCounts'"
   ]
  },
  {
   "cell_type": "markdown",
   "metadata": {},
   "source": [
    "S'han obtngut els Words-counts correctament!"
   ]
  },
  {
   "cell_type": "markdown",
   "metadata": {},
   "source": [
    "## Part 5: Calcular alguns estadístics\n",
    "\n",
    "Usant les mateixes tècniques que has aplicat en els exercicis anteriors respon a les següents preguntes:\n",
    "\n",
    "### (5a) Quantes paraules diferents tenen exactament dos 'o'?"
   ]
  },
  {
   "cell_type": "code",
   "execution_count": 148,
   "metadata": {},
   "outputs": [
    {
     "name": "stdout",
     "output_type": "stream",
     "text": [
      "24 paraules diferents tenen exactament dos 'o'\n"
     ]
    }
   ],
   "source": [
    "# countWords_oo = distintWordsRDD.<FILL IN>\n",
    "\n",
    "# Filtrar les paraules que continguin exactament dos 'o'\n",
    "countWords_oo = distintWordsRDD.filter(lambda word: word.count('o') == 2).count()\n",
    "\n",
    "# Imprimir el resultat\n",
    "print(countWords_oo, \"paraules diferents tenen exactament dos 'o'\")"
   ]
  },
  {
   "cell_type": "markdown",
   "metadata": {},
   "source": [
    "### (5b) Quina és la paraula de nou lletres que més es repeteix? Quantes vegades apareix?"
   ]
  },
  {
   "cell_type": "code",
   "execution_count": 158,
   "metadata": {},
   "outputs": [
    {
     "name": "stdout",
     "output_type": "stream",
     "text": [
      "La paraula de 9 lletres que més es repeteix és  ('iracundia', 1)\n"
     ]
    }
   ],
   "source": [
    "# words9Chars = distintWordsRDD.map(lambda x: (x, 1) if(len(x)==9) else None)\n",
    "\n",
    "# Filtra les paraules que tenen nou lletres\n",
    "words9Chars = distintWordsRDD.filter(lambda x: len(x) == 9)\n",
    "\n",
    "# Compta la freqüència de cada paraula\n",
    "wordCounts = words9Chars.map(lambda word: (word, 1)).reduceByKey(lambda x, y: x + y)\n",
    "\n",
    "# Troba la paraula amb la freqüència màxima\n",
    "mostCommonWord_9Chars = wordCounts.max(key=lambda x: x[1])\n",
    "\n",
    "# Imprimeix la paraula i la seva freqüència\n",
    "print(\"La paraula de 9 lletres que més es repeteix és \", mostCommonWord_9Chars)\n"
   ]
  },
  {
   "cell_type": "markdown",
   "metadata": {},
   "source": [
    "\"**Iracundia**\" apareix 1 cop, doncs semble ser l'única paraula de **9 lletres** present al text"
   ]
  },
  {
   "cell_type": "markdown",
   "metadata": {},
   "source": [
    "### (5c) Quantes paraules diferents tenen més vocals que consonants?"
   ]
  },
  {
   "cell_type": "code",
   "execution_count": 160,
   "metadata": {},
   "outputs": [],
   "source": [
    "# def moreVowels(word):\n",
    "    # <FILL IN>\n",
    "\n",
    "def moreVowels(word):\n",
    "    vowels = \"aeiouAEIOU\"\n",
    "    consonants = \"bcdfghjklmnpqrstvwxyzBCDFGHJKLMNPQRSTVWXYZ\"\n",
    "    \n",
    "    # el 1 representa cada aparició d'un caràcter a la paraula que compleix la condició especificada a l'expressió generadora.\n",
    "    vowel_count = sum(1 for char in word if char in vowels)\n",
    "    consonant_count = sum(1 for char in word if char in consonants)\n",
    "    \n",
    "    return vowel_count > consonant_count\n",
    "\n",
    "# Filtra les paraules que tenen més vocals que consonants\n",
    "wordsMV = distintWordsRDD.filter(moreVowels)\n",
    "\n",
    "# Compte les paraules resultants\n",
    "wordCountMV = wordsMV.count()"
   ]
  },
  {
   "cell_type": "code",
   "execution_count": 164,
   "metadata": {},
   "outputs": [
    {
     "data": {
      "text/plain": [
       "61"
      ]
     },
     "execution_count": 164,
     "metadata": {},
     "output_type": "execute_result"
    }
   ],
   "source": [
    "wordsMV.count()"
   ]
  },
  {
   "cell_type": "code",
   "execution_count": 169,
   "metadata": {},
   "outputs": [
    {
     "name": "stdout",
     "output_type": "stream",
     "text": [
      "El nombre de paraules que contenen més vocals que consonants és de 61\n"
     ]
    }
   ],
   "source": [
    "print('El nombre de paraules que contenen més vocals que consonants és de', wordCountMV)"
   ]
  },
  {
   "cell_type": "code",
   "execution_count": 170,
   "metadata": {},
   "outputs": [
    {
     "data": {
      "text/plain": [
       "False"
      ]
     },
     "execution_count": 170,
     "metadata": {},
     "output_type": "execute_result"
    }
   ],
   "source": [
    "# apliquem la funció creada a una paraula:\n",
    "moreVowels('murcielago')"
   ]
  },
  {
   "cell_type": "code",
   "execution_count": 167,
   "metadata": {},
   "outputs": [
    {
     "name": "stdout",
     "output_type": "stream",
     "text": [
      "['aliquip', 'iracundia', 'reque', 'quaeque', 'eius', 'apeirian', 'vitae', 'alii', 'euismod', 'laoreet', 'autem', 'qui', 'aeterno', 'paulo', 'qualisque', 'mea', 'iudicabit', 'meliore', 'oblique', 'repudiare', 'iusto', 'odio', 'feugait', 'aperiri', 'oratio', 'suavitate', 'tibique', 'eu', 'ei', 'quo', 'inani', 'maiorum', 'aperiam', 'feugiat', 'sea', 'eam', 'usu', 'duo', 'saepe', 'aliquid', 'eum', 'aliquando', 'audiam', 'eos', 'eruditi', 'epicuri', 'aeque', 'equidem', 'augue', 'iuvaret', 'epicurei', 'iudico', 'molestiae', 'aliquam', 'ea', 'iriure', 'ius', 'quaestio', 'ubique', 'mei', 'audire']\n"
     ]
    }
   ],
   "source": [
    "# wordsMV = distintWordsRDD.filter(moreVowels)\n",
    "print(wordsMV.collect())\n"
   ]
  },
  {
   "cell_type": "markdown",
   "metadata": {},
   "source": [
    "**Resposta final** : Acabem de visualitzar totes les 61 paraules que contenen més vocals que consonants."
   ]
  }
 ],
 "metadata": {
  "kernelspec": {
   "display_name": "Python 3 (ipykernel)",
   "language": "python",
   "name": "python3"
  },
  "language_info": {
   "codemirror_mode": {
    "name": "ipython",
    "version": 3
   },
   "file_extension": ".py",
   "mimetype": "text/x-python",
   "name": "python",
   "nbconvert_exporter": "python",
   "pygments_lexer": "ipython3",
   "version": "3.9.13"
  },
  "name": "Lab_1_WordCount",
  "notebookId": 1529163670453288
 },
 "nbformat": 4,
 "nbformat_minor": 4
}
