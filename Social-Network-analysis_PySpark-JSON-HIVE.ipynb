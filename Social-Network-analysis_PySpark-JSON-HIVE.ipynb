{
 "cells": [
  {
   "cell_type": "markdown",
   "id": "85763e88-3025-4a61-bf2f-a219fad24ba5",
   "metadata": {},
   "source": [
    "![Spark Logo](http://spark-mooc.github.io/web-assets/images/ta_Spark-logo-small.png)  ![Python Logo](http://spark-mooc.github.io/web-assets/images/python-logo-master-v3-TM-flattened_small.png)\n",
    "# Tasca M4T01\n",
    "\n",
    "## **Anàlisi de xarxes socials mitjançant Spark i Python PySpark. Cas Twitter (X)**\n",
    "\n",
    "### <font color=\"blue\">Datos de Twitter recolectados durante las elecciones generales en España del 28 de abril de 2019</font>\n",
    "\n",
    "\n",
    "En esta tarea vamos a introducir estructuras de datos complejas, donde los campos pueden a su vez tener campos anidados. En concreto utilizaremos datos de twitter capturados en el contexto de las elecciones generales en España del 28 de Abril de 2019. La práctica está estructurada de la siguiente manera:\n",
    "- **Parte 0:** Configuración del entorno\n",
    "- **Parte 1:** Introducción a data frames estructurados y cómo operar para extraer información *(3 puntos)*\n",
    "    - **Parte 1.1:** Importar los datos *(1 puntos)*\n",
    "    - **Parte 1.2:** *Queries* sobre data frames complejos *(2 puntos)*\n",
    "        - **Parte 1.2.1:** Queries SQL *(1 puntos)*\n",
    "        - **Parte 1.2.2:** Queries sobre el pipeline *(1 puntos)*\n",
    "- **Parte 2:** Bases de datos HIVE y operaciones complejas *(3 puntos)*\n",
    "    - **Parte 2.1:** Bases de datos Hive *(1 puntos)*\n",
    "    - **Parte 2.2:** Más allá de las transformaciones SQL *(2 puntos)*\n",
    "        - **Parte 2.2.1:** Tweets por población  *(1 puntos)*\n",
    "        - **Parte 2.2.2:** Contar hashtags *(1 puntos)*\n",
    "- **Parte 3:** Sampling *(2 Puntos)*\n",
    "- **Parte 4**: Introducción a los datos relacionales *(2 puntos)*\n",
    "     - **Parte 4.1**: Construcción de la edgelist *(1 puntos)*\n",
    "     - **Parte 4.2**: Centralidad de grado *(1 puntos)*\n"
   ]
  },
  {
   "cell_type": "markdown",
   "id": "6771fbe2-0b09-4858-bf3d-34fc21d54b88",
   "metadata": {
    "tags": []
   },
   "source": [
    "## **Parte 0:** Configuración del entorno"
   ]
  },
  {
   "cell_type": "markdown",
   "id": "92b6525c-57f4-4cae-8a86-45bd08b5ccec",
   "metadata": {},
   "source": [
    "<span style=\"color:navy\"><strong>-> Per començar, resumim les etapes de descarrega i instal·lació del Spark per a que tot funcioni correctament</strong></span>\n",
    "\n",
    "    * Verificar si es té Java 8 (1.8.231 en el meu cas) ; si no, escriure al Anaconda prompt o Notebook : 'conda install -c cyclus java-jdk'\n",
    "    * Descarregar el fitxer per a Windows en 'https://www.apache.org/dyn/closer.lua/spark/spark-3.5.1/spark-3.5.1-bin-hadoop3.tgz'\n",
    "    * Posar el fitxer descarregat 'spark-3.5.1-bin-hadoop3.tgz' a la carpeta 'C:\\spark' creada previament\n",
    "    * Extreure amb 'right clic' o per consola bash\n",
    "    * cmd : 'setx SPARK_HOME \"C:\\spark\\spark-3.5.1-bin-hadoop3\"'\n",
    "    * cmd : 'setx PATH \"%PATH%;%SPARK_HOME%\\bin\"'\n",
    "    * Anaconda prompt o Notebook : 'pip install pyspark'\n",
    "    * Anaconda prompt : 'pip install findspark'\n",
    "    * Restart Notebook kernel and kepp on working...\n",
    "    * cd C:\\spark\n",
    "    * spark-shell --version"
   ]
  },
  {
   "cell_type": "code",
   "execution_count": 2,
   "id": "ca9b61c8-a938-4913-a277-f617662902fd",
   "metadata": {},
   "outputs": [
    {
     "name": "stdout",
     "output_type": "stream",
     "text": [
      "Requirement already satisfied: pyspark in c:\\users\\buba\\anaconda3\\lib\\site-packages (3.5.1)\n",
      "Requirement already satisfied: py4j==0.10.9.7 in c:\\users\\buba\\anaconda3\\lib\\site-packages (from pyspark) (0.10.9.7)\n",
      "Note: you may need to restart the kernel to use updated packages.\n"
     ]
    }
   ],
   "source": [
    "pip install pyspark"
   ]
  },
  {
   "cell_type": "markdown",
   "id": "d0b5ec8e-175b-49db-9867-4fadf53afc23",
   "metadata": {},
   "source": [
    "<font color=\"blue\">**Procesos de insatlación del entorno**</font>\n",
    "\n",
    "-> Primero verificamos que Spark está instalado con **cmd** :***'pip install pyspark'*** y luego importamos las librerías necesarias\n",
    "\n",
    "    ---> Requirement already satisfied: pyspark in c:\\users\\buba\\anaconda3\\lib\\site-packages (3.5.1)\n",
    "    ---> Requirement already satisfied: py4j==0.10.9.7 in c:\\users\\buba\\anaconda3\\lib\\site-packages (from pyspark) (0.10.9.7)\n",
    "\n",
    "* **import pyspark**: importación principal para utilizar las funcionalidades de PySpark\n",
    "\n",
    "* **import findspark**: biblioteca para encontrar automáticamente la ruta de instalación de Spark en el sistema y configurar las variables de entorno necesarias para PySpark \n",
    "\n",
    "* **findspark.init()**: inicializa las variables de entorno necesarias para PySpark\n",
    "\n",
    "* **import random**: se utiliza para generar números aleatorios en diversas aplicaciones de análisis de datos\n",
    "\n",
    "* **import re**: proporciona operaciones de coincidencia de expresiones regulares útiles para el procesamiento de texto\n",
    "\n",
    "* **import os**: módulo que proporciona funciones para interactuar con el sistema operativo, como acceder a variables de entorno o manipular rutas de archivo\n",
    "\n",
    "* **import pandas as pd**: biblioteca para el análisis de datos tabulares ; se combina con PySpark para manipular datos en un formato más familiar antes de procesarlos con PySpark\n",
    "\n",
    "* **from matplotlib import pyplot as plt**: biblioteca para crear gráficos y visualizaciones a partir de los datos procesados\n",
    "\n",
    "* **from math import floor**: la función floor del módulo math se utiliza para redondear un número hacia abajo al entero más cercano en cálculos matemáticos simples o análisis de datos complejos y optimización de algoritmos ; 'ceil' sería la función que redondea hacia arriba al entero más cercano.\n",
    "\n",
    "* **from pyspark import SparkConf, SparkContext, SQLContext, HiveContext**: \n",
    "     - SparkConf se utiliza para configurar la aplicación Spark\n",
    "     - SparkContext es el punto de entrada principal para interactuar con Spark\n",
    "     - SQLContext proporciona funcionalidades para trabajar con datos estructurados en Spark SQL\n",
    "     - HiveContext se utiliza para interactuar con datos en un almacén de datos de Hive\n",
    "\n",
    "* **from pyspark.sql import Row**: una clase en PySpark que se utiliza para representar una fila de datos en un DataFrame de Spark.\n"
   ]
  },
  {
   "cell_type": "code",
   "execution_count": 3,
   "id": "a7f12959-f042-4edd-8a72-e29dace88444",
   "metadata": {},
   "outputs": [],
   "source": [
    "import pyspark\n",
    "import findspark\n",
    "findspark.init()\n",
    "import random"
   ]
  },
  {
   "cell_type": "code",
   "execution_count": 4,
   "id": "8f82483b-f946-4608-bbcf-babb68d1ec18",
   "metadata": {},
   "outputs": [
    {
     "data": {
      "text/plain": [
       "<module 'pyspark' from 'C:\\\\Users\\\\Buba\\\\anaconda3\\\\lib\\\\site-packages\\\\pyspark\\\\__init__.py'>"
      ]
     },
     "execution_count": 4,
     "metadata": {},
     "output_type": "execute_result"
    }
   ],
   "source": [
    "pyspark\n"
   ]
  },
  {
   "cell_type": "code",
   "execution_count": 5,
   "id": "a956f46b-aa42-4416-babf-ceb6a537e144",
   "metadata": {},
   "outputs": [],
   "source": [
    "import re\n",
    "import os\n",
    "import pandas as pd\n",
    "from matplotlib import pyplot as plt\n",
    "from math import floor\n",
    "\n",
    "from pyspark import SparkConf, SparkContext, SQLContext, HiveContext\n",
    "\n",
    "from pyspark.sql import SparkSession\n",
    "from pyspark.sql import Row"
   ]
  },
  {
   "cell_type": "code",
   "execution_count": 6,
   "id": "5dfaaa39-bc6f-44a0-8eac-a43f5edc3a11",
   "metadata": {},
   "outputs": [
    {
     "name": "stdout",
     "output_type": "stream",
     "text": [
      "Hola\n"
     ]
    }
   ],
   "source": [
    "print('Hola')"
   ]
  },
  {
   "cell_type": "code",
   "execution_count": 7,
   "id": "baae8c3a-8830-4618-a51f-680168e6c1b5",
   "metadata": {},
   "outputs": [
    {
     "name": "stdout",
     "output_type": "stream",
     "text": [
      "No hay sesión en marcha\n"
     ]
    }
   ],
   "source": [
    "from pyspark.sql import SparkSession\n",
    "\n",
    "# Verificar si ya existe una SparkSession activa\n",
    "\n",
    "if 'spark' in globals():\n",
    "    spark.stop()\n",
    "    print()\n",
    "else : \n",
    "    print(\"No hay sesión en marcha\")"
   ]
  },
  {
   "cell_type": "markdown",
   "id": "c38e89f0-1e10-49d8-90e2-8b864f60f43e",
   "metadata": {},
   "source": [
    "Para **Inicializar un contexto de Spark utilizando PySpark**: SparkContext es el punto de entrada principal para interactuar con Spark desde Python.\n",
    "\n",
    "* **SparkContext** es la puerta de entrada para cualquier operación que quieras realizar utilizando Spark en tu programa Python. \n",
    "* **Iniciamos un contexto de Spark que se ejecutará localmente en el ordenador con un solo hilo (local[1])** con un nombre específico. \n",
    "* Una vez creado este contexto (**sc**), comenzar a utilizar Spark para realizar operaciones de procesamiento de datos distribuidos en Python. \n",
    "* Al crear un objeto SparkContext, configuramos el **entorno de ejecución de Spark** y establecemos la **conexión con el clúster de Spark** o con el **entorno local de máquina**."
   ]
  },
  {
   "cell_type": "code",
   "execution_count": 8,
   "id": "ff8539e1-908e-456e-9846-5d78ab9eef3a",
   "metadata": {},
   "outputs": [],
   "source": [
    "import findspark\n",
    "findspark.init(\"C:/spark/spark-3.5.1-bin-hadoop3\")\n",
    "\n",
    "import pyspark\n",
    "from pyspark import SparkContext, SparkConf"
   ]
  },
  {
   "cell_type": "code",
   "execution_count": 9,
   "id": "5fd79807-63a9-477c-9378-24e0d502709b",
   "metadata": {},
   "outputs": [
    {
     "name": "stdout",
     "output_type": "stream",
     "text": [
      "SparkContext created successfully\n"
     ]
    }
   ],
   "source": [
    "# Introducir el nombre de la app M4T01_ seguido de vuestro nombre de usuario\n",
    "# set Spark Context\n",
    "\n",
    "sc = pyspark.SparkContext(master=\"local[1]\", appName=\"M4T01_Cristina_Cosma2\")\n",
    "print(\"SparkContext created successfully\")"
   ]
  },
  {
   "cell_type": "markdown",
   "id": "3fd82c65-dfcd-45aa-b18d-56c3611d655a",
   "metadata": {},
   "source": [
    "* En el contexto de Spark, una **\"aplicación\"** se refiere al script, programa o proceso que utiliza Spark para procesar datos distribuidos. Es un término utilizado para describir el trabajo que se está realizando con Spark, ya sea un script de Python, un programa de Java, Scala u otro tipo de aplicación.\n",
    "\n",
    "* La aplicación no se \"guarda\" en el sentido tradicional de una aplicación que se instala en un dispositivo o en un directorio específico del sistema sino que crea un objeto SparkContext con la aplicación llamada \"M4T01_CristinaCosma\" que será el punto de entrada para todas las operaciones que realizas con Spark en este programa Python. "
   ]
  },
  {
   "cell_type": "code",
   "execution_count": null,
   "id": "44a626d0-e45e-43e8-8507-53d44d2f501b",
   "metadata": {},
   "outputs": [],
   "source": []
  },
  {
   "cell_type": "markdown",
   "id": "e0cbbad4-3b79-4f55-a01a-40142f16b959",
   "metadata": {
    "toc-hr-collapsed": false
   },
   "source": [
    "## **Parte 1: Introducción a data frames estructurados i operaciones sobre ellos.**\n",
    "\n",
    "Como ya se ha mencionado, en esta práctica vamos ha utilizar **datos de Twitter que recolectamos durante las elecciones generales en España del 28 de abril de 2019**. \n",
    "\n",
    "Como veremos, los tweets tienen una estructura interna bastante compleja que hemos simplificado un poco en esta práctica."
   ]
  },
  {
   "cell_type": "markdown",
   "id": "9ed766f3-74fc-421b-b5b5-cdb16c90209e",
   "metadata": {
    "toc-hr-collapsed": false
   },
   "source": [
    "### **Parte 1.1: Importar los datos**\n",
    "\n",
    "**JSON (JavaScript Object Notation)**\n",
    "-> Lo primero que vamos ha aprender es cómo **importar** este tipo de datos a nuestro entorno. Uno de los tipos de archivos más comunes para guardar este formato de información es [la estructura JSON](https://en.wikipedia.org/wiki/JSON). Esta estructura permite **guardar información en un texto plano de diferentes objetos** siguiendo una **estructura de diccionario** donde **cada campo tiene asignado una llave y un valor**. La estructura puede ser anidada, o sea que una llave puede tener como valor otra estructura tipo diccionario.\n",
    "\n",
    "**Spark SQL** -> permite leer datos de muchos formatos diferentes. En esta ocasión, se os pide que leáis un fichero JSON . Este archivo contiene un pequeño *sample*, un **0.1% de la base de datos completa** (en un siguiente apartado veremos cómo realizar este ***sampleado***). En esta ocasión **no se os pide especificar la estructura del data frame** ya que la **función de lectura la inferirá automáticamente**."
   ]
  },
  {
   "cell_type": "markdown",
   "id": "d238186b-5b45-4e2b-8fbc-54b9648a9a98",
   "metadata": {},
   "source": [
    "* Con archivos **JSON en Spark SQL, no es necesario que el usuario proporcione manualmente la estructura del esquema de los datos** al leer el archivo JSON. \n",
    "* **Spark SQL puede hacerlo automáticamente mediante la inferencia de esquema**. \n",
    "* Por ejemplo, si el archivo JSON contiene objetos que tienen campos como \"nombre\", \"edad\" y \"correo electrónico\", Spark SQL detectará automáticamente estos campos y sus tipos de datos correspondientes (por ejemplo, cadena de caracteres para \"nombre\", entero para \"edad\" y cadena de caracteres para \"correo electrónico\") al leer el archivo."
   ]
  },
  {
   "cell_type": "code",
   "execution_count": 28,
   "id": "2d0e1a54-75db-4933-952e-abaaaf8d9f79",
   "metadata": {},
   "outputs": [],
   "source": [
    "# Nos aseguramos de que el archivo JSON está en la misma ruta que el Notebook .ipynb\n",
    "# invocar el Spark Context creado antes para el Contexto SQL\n"
   ]
  },
  {
   "cell_type": "code",
   "execution_count": 10,
   "id": "13391ffd-aa58-4902-9c6f-9881479d8c65",
   "metadata": {},
   "outputs": [
    {
     "name": "stderr",
     "output_type": "stream",
     "text": [
      "C:\\Users\\Buba\\anaconda3\\lib\\site-packages\\pyspark\\sql\\context.py:113: FutureWarning: Deprecated in 3.0.0. Use SparkSession.builder.getOrCreate() instead.\n",
      "  warnings.warn(\n"
     ]
    },
    {
     "name": "stdout",
     "output_type": "stream",
     "text": [
      "Loaded dataset contains 401587 tweets\n"
     ]
    }
   ],
   "source": [
    "from pyspark.sql import SQLContext\n",
    "sqlContext = SQLContext(sc)\n",
    "\n",
    "# Update the path to your JSON file\n",
    "json_file_path = r'C:\\Users\\Buba\\Documents\\CURSOS-PROGRAMACION\\IT-Academy\\IT-BigData\\BigData_Sprint4_social-bigdata\\BigData_Sprint4_Trabajo\\tweets28a_sample.json'\n",
    "tweets_sample = sqlContext.read.json(json_file_path)\n",
    "\n",
    "print(\"Loaded dataset contains %d tweets\" % tweets_sample.count())\n"
   ]
  },
  {
   "cell_type": "markdown",
   "id": "127db8c1-e6f3-4b58-a091-563368a1ceba",
   "metadata": {},
   "source": [
    "<font color=\"blue\">**Resultado:**</font> \n",
    "\n",
    "-> Vemos con ambos códigos que el fichero JSON recoge un gran número de \"TWEETS\", en concreto **401 587**"
   ]
  },
  {
   "cell_type": "markdown",
   "id": "773f6a36-a84e-4108-9008-cd3a44b525ac",
   "metadata": {},
   "source": [
    "* El siguiente paso es **mostrar la estructura del dataset que acabamos de cargar**. \n",
    "* Recordad que podéis obtener la información acerca de cómo está estructurado el **DataTable utilizando el método ```printSchema()```**."
   ]
  },
  {
   "cell_type": "code",
   "execution_count": 11,
   "id": "403d765c-00dd-4572-bc34-865e680087c0",
   "metadata": {
    "tags": []
   },
   "outputs": [
    {
     "name": "stdout",
     "output_type": "stream",
     "text": [
      "root\n",
      " |-- _id: string (nullable = true)\n",
      " |-- coordinates: struct (nullable = true)\n",
      " |    |-- coordinates: array (nullable = true)\n",
      " |    |    |-- element: double (containsNull = true)\n",
      " |    |-- type: string (nullable = true)\n",
      " |-- created_at: long (nullable = true)\n",
      " |-- entities: struct (nullable = true)\n",
      " |    |-- hashtags: array (nullable = true)\n",
      " |    |    |-- element: struct (containsNull = true)\n",
      " |    |    |    |-- indices: array (nullable = true)\n",
      " |    |    |    |    |-- element: long (containsNull = true)\n",
      " |    |    |    |-- text: string (nullable = true)\n",
      " |    |-- user_mentions: array (nullable = true)\n",
      " |    |    |-- element: struct (containsNull = true)\n",
      " |    |    |    |-- id: double (nullable = true)\n",
      " |    |    |    |-- id_str: string (nullable = true)\n",
      " |    |    |    |-- indices: array (nullable = true)\n",
      " |    |    |    |    |-- element: long (containsNull = true)\n",
      " |    |    |    |-- name: string (nullable = true)\n",
      " |    |    |    |-- screen_name: string (nullable = true)\n",
      " |-- favorite_count: long (nullable = true)\n",
      " |-- in_reply_to_screen_name: string (nullable = true)\n",
      " |-- in_reply_to_status_id_str: string (nullable = true)\n",
      " |-- in_reply_to_user_id_str: string (nullable = true)\n",
      " |-- is_quote_status: boolean (nullable = true)\n",
      " |-- lang: string (nullable = true)\n",
      " |-- place: struct (nullable = true)\n",
      " |    |-- bounding_box: struct (nullable = true)\n",
      " |    |    |-- coordinates: array (nullable = true)\n",
      " |    |    |    |-- element: array (containsNull = true)\n",
      " |    |    |    |    |-- element: array (containsNull = true)\n",
      " |    |    |    |    |    |-- element: double (containsNull = true)\n",
      " |    |    |-- type: string (nullable = true)\n",
      " |    |-- country_code: string (nullable = true)\n",
      " |    |-- id: string (nullable = true)\n",
      " |    |-- name: string (nullable = true)\n",
      " |    |-- place_type: string (nullable = true)\n",
      " |-- quoted_status: struct (nullable = true)\n",
      " |    |-- _id: string (nullable = true)\n",
      " |    |-- coordinates: struct (nullable = true)\n",
      " |    |    |-- coordinates: array (nullable = true)\n",
      " |    |    |    |-- element: double (containsNull = true)\n",
      " |    |    |-- type: string (nullable = true)\n",
      " |    |-- created_at: long (nullable = true)\n",
      " |    |-- entities: struct (nullable = true)\n",
      " |    |    |-- hashtags: array (nullable = true)\n",
      " |    |    |    |-- element: struct (containsNull = true)\n",
      " |    |    |    |    |-- indices: array (nullable = true)\n",
      " |    |    |    |    |    |-- element: long (containsNull = true)\n",
      " |    |    |    |    |-- text: string (nullable = true)\n",
      " |    |    |-- user_mentions: array (nullable = true)\n",
      " |    |    |    |-- element: struct (containsNull = true)\n",
      " |    |    |    |    |-- id: double (nullable = true)\n",
      " |    |    |    |    |-- id_str: string (nullable = true)\n",
      " |    |    |    |    |-- indices: array (nullable = true)\n",
      " |    |    |    |    |    |-- element: long (containsNull = true)\n",
      " |    |    |    |    |-- name: string (nullable = true)\n",
      " |    |    |    |    |-- screen_name: string (nullable = true)\n",
      " |    |-- favorite_count: long (nullable = true)\n",
      " |    |-- in_reply_to_screen_name: string (nullable = true)\n",
      " |    |-- in_reply_to_status_id_str: string (nullable = true)\n",
      " |    |-- in_reply_to_user_id_str: string (nullable = true)\n",
      " |    |-- is_quote_status: boolean (nullable = true)\n",
      " |    |-- lang: string (nullable = true)\n",
      " |    |-- place: struct (nullable = true)\n",
      " |    |    |-- bounding_box: struct (nullable = true)\n",
      " |    |    |    |-- coordinates: array (nullable = true)\n",
      " |    |    |    |    |-- element: array (containsNull = true)\n",
      " |    |    |    |    |    |-- element: array (containsNull = true)\n",
      " |    |    |    |    |    |    |-- element: double (containsNull = true)\n",
      " |    |    |    |-- type: string (nullable = true)\n",
      " |    |    |-- country_code: string (nullable = true)\n",
      " |    |    |-- id: string (nullable = true)\n",
      " |    |    |-- name: string (nullable = true)\n",
      " |    |    |-- place_type: string (nullable = true)\n",
      " |    |-- quoted_status_id_str: string (nullable = true)\n",
      " |    |-- retweet_count: long (nullable = true)\n",
      " |    |-- source: string (nullable = true)\n",
      " |    |-- text: string (nullable = true)\n",
      " |    |-- user: struct (nullable = true)\n",
      " |    |    |-- created_at: long (nullable = true)\n",
      " |    |    |-- description: string (nullable = true)\n",
      " |    |    |-- followers_count: long (nullable = true)\n",
      " |    |    |-- friends_count: long (nullable = true)\n",
      " |    |    |-- geo_enabled: boolean (nullable = true)\n",
      " |    |    |-- id_str: string (nullable = true)\n",
      " |    |    |-- lang: string (nullable = true)\n",
      " |    |    |-- location: string (nullable = true)\n",
      " |    |    |-- screen_name: string (nullable = true)\n",
      " |    |    |-- statuses_count: long (nullable = true)\n",
      " |    |    |-- url: string (nullable = true)\n",
      " |    |    |-- verified: boolean (nullable = true)\n",
      " |-- quoted_status_id_str: string (nullable = true)\n",
      " |-- retweet_count: long (nullable = true)\n",
      " |-- retweeted_status: struct (nullable = true)\n",
      " |    |-- _id: string (nullable = true)\n",
      " |    |-- coordinates: struct (nullable = true)\n",
      " |    |    |-- coordinates: array (nullable = true)\n",
      " |    |    |    |-- element: double (containsNull = true)\n",
      " |    |    |-- type: string (nullable = true)\n",
      " |    |-- created_at: long (nullable = true)\n",
      " |    |-- entities: struct (nullable = true)\n",
      " |    |    |-- hashtags: array (nullable = true)\n",
      " |    |    |    |-- element: struct (containsNull = true)\n",
      " |    |    |    |    |-- indices: array (nullable = true)\n",
      " |    |    |    |    |    |-- element: long (containsNull = true)\n",
      " |    |    |    |    |-- text: string (nullable = true)\n",
      " |    |    |-- user_mentions: array (nullable = true)\n",
      " |    |    |    |-- element: struct (containsNull = true)\n",
      " |    |    |    |    |-- id: double (nullable = true)\n",
      " |    |    |    |    |-- id_str: string (nullable = true)\n",
      " |    |    |    |    |-- indices: array (nullable = true)\n",
      " |    |    |    |    |    |-- element: long (containsNull = true)\n",
      " |    |    |    |    |-- name: string (nullable = true)\n",
      " |    |    |    |    |-- screen_name: string (nullable = true)\n",
      " |    |-- favorite_count: long (nullable = true)\n",
      " |    |-- in_reply_to_screen_name: string (nullable = true)\n",
      " |    |-- in_reply_to_status_id_str: string (nullable = true)\n",
      " |    |-- in_reply_to_user_id_str: string (nullable = true)\n",
      " |    |-- is_quote_status: boolean (nullable = true)\n",
      " |    |-- lang: string (nullable = true)\n",
      " |    |-- place: struct (nullable = true)\n",
      " |    |    |-- bounding_box: struct (nullable = true)\n",
      " |    |    |    |-- coordinates: array (nullable = true)\n",
      " |    |    |    |    |-- element: array (containsNull = true)\n",
      " |    |    |    |    |    |-- element: array (containsNull = true)\n",
      " |    |    |    |    |    |    |-- element: double (containsNull = true)\n",
      " |    |    |    |-- type: string (nullable = true)\n",
      " |    |    |-- country_code: string (nullable = true)\n",
      " |    |    |-- id: string (nullable = true)\n",
      " |    |    |-- name: string (nullable = true)\n",
      " |    |    |-- place_type: string (nullable = true)\n",
      " |    |-- quoted_status: struct (nullable = true)\n",
      " |    |    |-- _id: string (nullable = true)\n",
      " |    |    |-- coordinates: struct (nullable = true)\n",
      " |    |    |    |-- coordinates: array (nullable = true)\n",
      " |    |    |    |    |-- element: double (containsNull = true)\n",
      " |    |    |    |-- type: string (nullable = true)\n",
      " |    |    |-- created_at: long (nullable = true)\n",
      " |    |    |-- entities: struct (nullable = true)\n",
      " |    |    |    |-- hashtags: array (nullable = true)\n",
      " |    |    |    |    |-- element: struct (containsNull = true)\n",
      " |    |    |    |    |    |-- indices: array (nullable = true)\n",
      " |    |    |    |    |    |    |-- element: long (containsNull = true)\n",
      " |    |    |    |    |    |-- text: string (nullable = true)\n",
      " |    |    |    |-- user_mentions: array (nullable = true)\n",
      " |    |    |    |    |-- element: struct (containsNull = true)\n",
      " |    |    |    |    |    |-- id: double (nullable = true)\n",
      " |    |    |    |    |    |-- id_str: string (nullable = true)\n",
      " |    |    |    |    |    |-- indices: array (nullable = true)\n",
      " |    |    |    |    |    |    |-- element: long (containsNull = true)\n",
      " |    |    |    |    |    |-- name: string (nullable = true)\n",
      " |    |    |    |    |    |-- screen_name: string (nullable = true)\n",
      " |    |    |-- favorite_count: long (nullable = true)\n",
      " |    |    |-- in_reply_to_screen_name: string (nullable = true)\n",
      " |    |    |-- in_reply_to_status_id_str: string (nullable = true)\n",
      " |    |    |-- in_reply_to_user_id_str: string (nullable = true)\n",
      " |    |    |-- is_quote_status: boolean (nullable = true)\n",
      " |    |    |-- lang: string (nullable = true)\n",
      " |    |    |-- place: struct (nullable = true)\n",
      " |    |    |    |-- bounding_box: struct (nullable = true)\n",
      " |    |    |    |    |-- coordinates: array (nullable = true)\n",
      " |    |    |    |    |    |-- element: array (containsNull = true)\n",
      " |    |    |    |    |    |    |-- element: array (containsNull = true)\n",
      " |    |    |    |    |    |    |    |-- element: double (containsNull = true)\n",
      " |    |    |    |    |-- type: string (nullable = true)\n",
      " |    |    |    |-- country_code: string (nullable = true)\n",
      " |    |    |    |-- id: string (nullable = true)\n",
      " |    |    |    |-- name: string (nullable = true)\n",
      " |    |    |    |-- place_type: string (nullable = true)\n",
      " |    |    |-- quoted_status_id_str: string (nullable = true)\n",
      " |    |    |-- retweet_count: long (nullable = true)\n",
      " |    |    |-- source: string (nullable = true)\n",
      " |    |    |-- text: string (nullable = true)\n",
      " |    |    |-- user: struct (nullable = true)\n",
      " |    |    |    |-- created_at: long (nullable = true)\n",
      " |    |    |    |-- description: string (nullable = true)\n",
      " |    |    |    |-- followers_count: long (nullable = true)\n",
      " |    |    |    |-- friends_count: long (nullable = true)\n",
      " |    |    |    |-- geo_enabled: boolean (nullable = true)\n",
      " |    |    |    |-- id_str: string (nullable = true)\n",
      " |    |    |    |-- lang: string (nullable = true)\n",
      " |    |    |    |-- location: string (nullable = true)\n",
      " |    |    |    |-- screen_name: string (nullable = true)\n",
      " |    |    |    |-- statuses_count: long (nullable = true)\n",
      " |    |    |    |-- url: string (nullable = true)\n",
      " |    |    |    |-- verified: boolean (nullable = true)\n",
      " |    |-- quoted_status_id_str: string (nullable = true)\n",
      " |    |-- retweet_count: long (nullable = true)\n",
      " |    |-- source: string (nullable = true)\n",
      " |    |-- text: string (nullable = true)\n",
      " |    |-- user: struct (nullable = true)\n",
      " |    |    |-- created_at: long (nullable = true)\n",
      " |    |    |-- description: string (nullable = true)\n",
      " |    |    |-- followers_count: long (nullable = true)\n",
      " |    |    |-- friends_count: long (nullable = true)\n",
      " |    |    |-- geo_enabled: boolean (nullable = true)\n",
      " |    |    |-- id_str: string (nullable = true)\n",
      " |    |    |-- lang: string (nullable = true)\n",
      " |    |    |-- location: string (nullable = true)\n",
      " |    |    |-- screen_name: string (nullable = true)\n",
      " |    |    |-- statuses_count: long (nullable = true)\n",
      " |    |    |-- url: string (nullable = true)\n",
      " |    |    |-- verified: boolean (nullable = true)\n",
      " |-- source: string (nullable = true)\n",
      " |-- text: string (nullable = true)\n",
      " |-- user: struct (nullable = true)\n",
      " |    |-- created_at: long (nullable = true)\n",
      " |    |-- description: string (nullable = true)\n",
      " |    |-- followers_count: long (nullable = true)\n",
      " |    |-- friends_count: long (nullable = true)\n",
      " |    |-- geo_enabled: boolean (nullable = true)\n",
      " |    |-- id_str: string (nullable = true)\n",
      " |    |-- lang: string (nullable = true)\n",
      " |    |-- location: string (nullable = true)\n",
      " |    |-- screen_name: string (nullable = true)\n",
      " |    |-- statuses_count: long (nullable = true)\n",
      " |    |-- url: string (nullable = true)\n",
      " |    |-- verified: boolean (nullable = true)\n",
      "\n"
     ]
    }
   ],
   "source": [
    "# Utiliza el método printSchema() en el DataFrame tweets_sample\n",
    "# tweets_sample.<FILL IN>\n",
    "\n",
    "tweets_sample.printSchema()\n"
   ]
  },
  {
   "cell_type": "markdown",
   "id": "07a0926c-ffdc-44c9-a4eb-62bbc0586585",
   "metadata": {},
   "source": [
    "Podéis observar que la **estructura del tweet contiene múltiples campos anidados**. Teneis que familiarizaros con esta estructura ya que será la que utilizaremos durante toda la práctica. Recordad también que no todos los tweets tienen todos los campos, como por ejemplo la ubicación (campo ```place```). Cuando esto pasa el campo pasa a ser ```NULL```. Podéis ver mas información sobre este tipo de datos en [este enlace](https://developer.twitter.com/en/docs/tweets/data-dictionary/overview/tweet-object)."
   ]
  },
  {
   "cell_type": "markdown",
   "id": "b60fd79a-b967-45ce-8c96-b7c1415d9dff",
   "metadata": {},
   "source": [
    "<font color=\"blue\">**Comentario sobre el resultado**</font>\n",
    "\n",
    "---> El esquema se presenta en formato de árbol, donde cada nivel del árbol representa una columna del DataFrame y la estructura de datos que contiene. Aquí, el término \"root\" indica el nivel superior del árbol, que representa el DataFrame en su totalidad. El resultado obtenido muestra el **esquema del DataFrame**, el cual proporciona información sobre la estructura de los datos y los tipos de datos de cada columna. \n",
    "\n",
    "---> También informa sobre la estructura interna de las columnas de tipo compuesto. Por ejemplo, se pueden ver campos anidados dentro de la columna coordinates, como coordinates y type, así como dentro de otras columnas como entities, place, quoted_status, retweeted_status y user. Estos campos anidados representan la estructura de datos dentro de las columnas compuestas y pueden contener una combinación de tipos de datos simples y compuestos.Aquí algunas observaciones:\n",
    "\n",
    "* El DataFrame tiene varias estructuras anidadas, incluyendo structs y arrays, reflejando la naturaleza jerárquica de los datos.\n",
    "* Cada columna se lista junto con su tipo de dato (por ejemplo, string, long, boolean) y si permite valores nulos (nullable = true/false).\n",
    "* Por ejemplo, la columna _id es de tipo string y permite valores nulos.\n",
    "* Algunas columnas contienen structs anidados, como coordinates, entities, place, quoted_status, retweeted_status, los cuales desglosan aún más los datos en subcampos.\n",
    "* Hay arrays presentes en algunas columnas, como hashtags, user_mentions, coordinates, etc., indicando que estas columnas pueden contener múltiples valores.\n"
   ]
  },
  {
   "cell_type": "markdown",
   "id": "2e15e6c8-46a9-4b10-b02d-1fc8af51ecde",
   "metadata": {
    "toc-hr-collapsed": false
   },
   "source": [
    "### **Parte 1.2: *Queries* sobre data frames complejos**\n",
    "\n",
    "Vamos a trabajar utilizando sentencias *SQL* y utilizar algunos conceptos bàsicos introduciendo algunos otros más avanzados y una nueva manera de trabajar sobre data tables."
   ]
  },
  {
   "cell_type": "markdown",
   "id": "2ba39fb3-cd4d-4718-9bbd-7f5aa967676d",
   "metadata": {},
   "source": [
    "#### **Parte 1.2.1:** Queries SQL\n",
    "\n",
    "El primer paso consiste en **registrar la tabla en el contexto SQL** comprobando primero si existe y borrarla en el caso que sea así. \n",
    "\n",
    "En este apartado se os pide que registréis la tabla ```tweets_sample``` que acabamos de cargar en el contexto SQL bajo el mismo nombre ```tweets_sample```."
   ]
  },
  {
   "cell_type": "markdown",
   "id": "eb4148c9-3cbc-4461-bd0c-8a9e8317748a",
   "metadata": {},
   "source": [
    "* Para registrar la tabla tweets_sample en el contexto SQL, primero verificar si la tabla ya existe y, si es así, borrarla. \n",
    "* Luego, registrar la tabla en el contexto SQL bajo el mismo nombre tweets_sample."
   ]
  },
  {
   "cell_type": "code",
   "execution_count": 16,
   "id": "458845ca-4448-483e-bb7a-8a56efef5e89",
   "metadata": {},
   "outputs": [],
   "source": [
    "sqlContext.sql('DROP TABLE IF EXISTS tweets_sample')\n",
    "sqlContext.registerDataFrameAsTable(tweets_sample, 'tweets_sample')\n"
   ]
  },
  {
   "cell_type": "markdown",
   "id": "f3484ab5-56a3-41e7-bfee-0d4ff0c42e39",
   "metadata": {},
   "source": [
    "<font color=\"blue\">**Resultado:**</font> \n",
    "\n",
    "-> Vemos que 'tweets_sample' SQL no existía y ha sido creada (sin necesidad de borrarse o pararse el contexto o la sesión)."
   ]
  },
  {
   "cell_type": "markdown",
   "id": "e4de11f7-219d-4934-bb71-03f48364ce24",
   "metadata": {},
   "source": [
    "Ahora se os pide que creeis una tabla ```users_agg``` con [la información agregada](https://www.w3schools.com/sql/sql_groupby.asp) de los usuarios que tengan definido su idioma (```user.lang```) como español (```es```). En concreto se os pide que la tabla contenga las siguientes columnas:\n",
    "- **screen_name:** nombre del usuario\n",
    "- **friends_count:** número máximo (ver nota) de personas a las que sigue\n",
    "- **tweets:** número de tweets realizados\n",
    "- **followers_count:** número máximo (ver nota) personas que siguen al usuario.\n",
    "\n",
    "El orden en el cual se deben **mostrar los registros en orden descendente** acorde al número de tweets realizados.\n",
    "\n",
    "***Nota:*** es importante que os fijéis que el **nombre de *friends* i *followers* puede diferir** a lo largo de la adquisición de datos. En este caso vamos ha utilizar la función de agregación ```MAX``` sobre cada uno de estos campos para **evitar segmentar el usuario en diversas instancias**."
   ]
  },
  {
   "cell_type": "raw",
   "id": "a3dbfc67-d862-40e7-8e35-d81b89929c2e",
   "metadata": {},
   "source": [
    "Para que no haya errores, se tiene que tener en cuenta la estructura de datos que viene justo después de \"root\" y no las anidadas dentro de otras variables o tablas:\n",
    "\n",
    "root:|\n",
    "     |-- user: struct (nullable = true)\n",
    "     |    |-- created_at: long (nullable = true)\n",
    "     |    |-- description: string (nullable = true)\n",
    "     |    |-- followers_count: long (nullable = true)\n",
    "     |    |-- friends_count: long (nullable = true)\n",
    "     |    |-- geo_enabled: boolean (nullable = true)\n",
    "     |    |-- id_str: string (nullable = true)\n",
    "     |    |-- lang: string (nullable = true)\n",
    "     |    |-- location: string (nullable = true)\n",
    "     |    |-- screen_name: string (nullable = true)\n",
    "     |    |-- statuses_count: long (nullable = true)\n",
    "     |    |-- url: string (nullable = true)\n",
    "     |    |-- verified: boolean (nullable = true)"
   ]
  },
  {
   "cell_type": "code",
   "execution_count": 17,
   "id": "89e2a7dd-3403-4965-b30e-2916f6763b9c",
   "metadata": {},
   "outputs": [
    {
     "name": "stdout",
     "output_type": "stream",
     "text": [
      "+---------------+-------------+------+---------------+\n",
      "|    screen_name|friends_count|tweets|followers_count|\n",
      "+---------------+-------------+------+---------------+\n",
      "|       anaoromi|         6322|   223|           6869|\n",
      "|    RosaMar6254|         6252|   141|           6292|\n",
      "|MariaJo40891027|          880|   134|            849|\n",
      "|    DuroBelinda|         5246|   129|           5791|\n",
      "| locuspolitikus|        11263|   120|          10261|\n",
      "|   rosavergar23|          974|   109|           1294|\n",
      "|  Rafa_eltorete|          930|    98|           1084|\n",
      "|    CurritoRojo|         4997|    96|           4235|\n",
      "|   meme_montero|         1539|    94|           1558|\n",
      "| Perona10690463|         1191|    94|           1585|\n",
      "+---------------+-------------+------+---------------+\n",
      "\n"
     ]
    }
   ],
   "source": [
    "# Crear la tabla users_agg con la información agregada de los usuarios que tengan definido su idioma como español\n",
    "\n",
    "users_agg = sqlContext.sql(\"\"\"\n",
    "    SELECT user.screen_name AS screen_name,\n",
    "           MAX(user.friends_count) AS friends_count,\n",
    "           COUNT(*) AS tweets,\n",
    "           MAX(user.followers_count) AS followers_count\n",
    "    FROM tweets_sample\n",
    "    WHERE user.lang = 'es'\n",
    "    GROUP BY user.screen_name\n",
    "    ORDER BY tweets DESC\"\"\")\n",
    "\n",
    "# Mostrar los primeros 10 registros de la tabla agregada\n",
    "users_agg.limit(10).show()\n"
   ]
  },
  {
   "cell_type": "code",
   "execution_count": 18,
   "id": "7cd730f2-2f43-42e1-9d26-269c1f716f14",
   "metadata": {},
   "outputs": [],
   "source": [
    "output = users_agg.first()\n",
    "assert output.screen_name == 'anaoromi' and output.friends_count == 6322 and output.tweets == 223 and output.followers_count == 6869, \"Incorrect output\""
   ]
  },
  {
   "cell_type": "markdown",
   "id": "8bc423db-0fb6-4fc3-b2b3-87295025de72",
   "metadata": {},
   "source": [
    "<font color=\"blue\">**Resultado:**</font> \n",
    "\n",
    "-> Acabamos de hacer una consulta en un **contexto SQL** para crear una tabla llamada ***users_agg***, donde seleccionamos nombres de usuarios y otras variables mencionadas para descubrir cuáles son los usuarios que más tweets han escrito y nos quedamos con los 10 primeros.\n",
    "\n",
    "-> La tabla aparece por orden de usuario primero, mediante la función \"GROUP BY\" \n",
    "\n",
    "-> La **persona que más tweets ha escrito** es ***anaoromi***, seguida de ***RosaMar6254*** y ***MariaJo40891027***\n",
    "\n",
    "-> Vemos que ***anaoromi** tiene registrados a 6322 amigos y 6869 seguidores como máximo, y 223 tweets "
   ]
  },
  {
   "cell_type": "code",
   "execution_count": 19,
   "id": "419b6e35-c9a8-46a7-98cc-3005cd429353",
   "metadata": {},
   "outputs": [
    {
     "name": "stdout",
     "output_type": "stream",
     "text": [
      "+-----------+-------------+------+---------------+\n",
      "|screen_name|friends_count|tweets|followers_count|\n",
      "+-----------+-------------+------+---------------+\n",
      "|   anaoromi|         6322|   223|           6869|\n",
      "+-----------+-------------+------+---------------+\n",
      "\n"
     ]
    }
   ],
   "source": [
    "# Filter the DataFrame to get data for screen_name = 'anaoromi'\n",
    "anaoromi_data = users_agg.filter(users_agg.screen_name == 'anaoromi')\n",
    "\n",
    "# Show the data for 'anaoromi'\n",
    "anaoromi_data.show()"
   ]
  },
  {
   "cell_type": "markdown",
   "id": "08bea020-a426-494f-9ad4-ea5bc00accc0",
   "metadata": {},
   "source": [
    "<font color=\"blue\">**Resultado:**</font> \n",
    "\n",
    "* El resultado es el esperado cuando pedimos que acierte (mediante boolean) al preguntarle por la primera fila de valores\n",
    "* El resultado es el esperado cuando filtramos los datos de 'anaoromi'\n",
    "* Ahora vamos a ver la estructura de la tabla que acabamos de crear:"
   ]
  },
  {
   "cell_type": "markdown",
   "id": "45d4f6ef-33ab-48da-8996-9e08d04e9201",
   "metadata": {},
   "source": [
    "Imaginad ahora que queremos **combinar la información que acabamos de generar** con información acerca del **número de veces que un usuario ha sido retuiteado**. Para hacer este tipo de combinaciones necesitamos recurrir al **[```JOIN``` de tablas](https://www.w3schools.com/sql/sql_join.asp). Primero debemos registrar la tabla que acabamos de generar en el contexto SQL**. Recordad que primero debéis **comprobar si la tabla existe y en caso afirmativo eliminarla ('drop table if exists <tabla>')**. La tabla tenéis que registrarla bajo el nombre de ```user_agg```."
   ]
  },
  {
   "cell_type": "markdown",
   "id": "62208684-488b-4a3f-97ac-593da10a3a61",
   "metadata": {},
   "source": [
    "**Comprobamos la exstencia o la inexistencia de la tabla y la registramos en un contexto SQL.**\n",
    "* Si la tabla existe, pedimos que sea borrada.\n",
    "* Una vez borrada o inexistente, registramos una con la tabla que nos interesa."
   ]
  },
  {
   "cell_type": "code",
   "execution_count": 20,
   "id": "ca126d2b-f58f-417f-8581-edc698b00aac",
   "metadata": {},
   "outputs": [],
   "source": [
    "# Hacemos el proceso que se hizo con tweets_sample\n",
    "\n",
    "sqlContext.sql('DROP TABLE IF EXISTS user_agg')\n",
    "sqlContext.registerDataFrameAsTable(users_agg, 'user_agg')"
   ]
  },
  {
   "cell_type": "markdown",
   "id": "635a1cc0-bd5e-463e-bbdb-ec29d374e690",
   "metadata": {},
   "source": [
    "<font color=\"blue\">**Resultado:**</font> \n",
    "\n",
    "-> Se acaba de registrar la tabla 'user_agg' según la de 'users_agg' que habíamos creado previamente."
   ]
  },
  {
   "cell_type": "markdown",
   "id": "5b8a1dd7-5c25-4956-ac8a-b67b66859b93",
   "metadata": {},
   "source": [
    "Una vez registrada se pide que combinéis esta tabla y la tabla ```tweets_sample``` utilizando un ```INNER JOIN``` para obtener una nueva tabla con la siguiente información:\n",
    "- ***screen_name:*** nombre de usuario\n",
    "- ***friends_count:*** número máximo de personas a las que sigue\n",
    "- ***followers_count:*** número máximo de personas que siguen al usuario.\n",
    "- ***tweets:*** número de tweets realizados por el usuario.\n",
    "- ***retweeted:*** número de retweets obtenidos por el usuario.\n",
    "- ***ratio_tweet_retweeted:*** ratio de retweets por número de tweets publicados $\\frac{retweets}{tweets}$"
   ]
  },
  {
   "cell_type": "code",
   "execution_count": 21,
   "id": "e507c99e-1f4e-4810-9d28-748c0c5c93b4",
   "metadata": {},
   "outputs": [
    {
     "name": "stdout",
     "output_type": "stream",
     "text": [
      "+---------------+-------------+---------------+------+---------+---------------------+\n",
      "|    screen_name|friends_count|followers_count|tweets|retweeted|ratio_tweet_retweeted|\n",
      "+---------------+-------------+---------------+------+---------+---------------------+\n",
      "| AntonioMaestre|         1331|         262284|     1|     2009|               2009.0|\n",
      "|Pablo_Iglesias_|         2831|        2289182|     2|     2013|               1006.5|\n",
      "| RubenSanchezTW|          751|         158867|     1|      702|                702.0|\n",
      "|sanchezcastejon|         6125|        1010813|     2|     1398|                699.0|\n",
      "|  InesArrimadas|         1257|         489884|     1|      685|                685.0|\n",
      "|    JonInarritu|         5113|          89789|     2|     1206|                603.0|\n",
      "|jonathanmartinz|          706|          93938|     1|      576|                576.0|\n",
      "| Irene_Montero_|         1868|         307213|     1|      569|                569.0|\n",
      "|   GuajeSalvaje|         5942|          29920|     1|      568|                568.0|\n",
      "|      gerardotc|         3534|         496317|     2|      957|                478.5|\n",
      "+---------------+-------------+---------------+------+---------+---------------------+\n",
      "\n"
     ]
    }
   ],
   "source": [
    "retweeted = sqlContext.sql(\"\"\"\n",
    "SELECT user_agg.screen_name \n",
    "AS screen_name, \n",
    "    user_agg.friends_count,\n",
    "    user_agg.followers_count,\n",
    "    user_agg.tweets,\n",
    "    COUNT(*) As retweeted,\n",
    "    COUNT(*) / user_agg.tweets AS ratio_tweet_retweeted\n",
    "FROM user_agg\n",
    "\n",
    "INNER JOIN tweets_sample \n",
    "ON user_agg.screen_name = tweets_sample.retweeted_status.user.screen_name\n",
    "WHERE user_agg.tweets > 0\n",
    "\n",
    "GROUP BY user_agg.screen_name, user_agg.friends_count, user_agg.followers_count, user_agg.tweets\n",
    "ORDER BY ratio_tweet_retweeted DESC\"\"\")\n",
    "\n",
    "retweeted.limit(10).show()\n",
    "\n",
    "# Retweeted_status está dentro de la estructura de la tabla inicial JSON tweets_sample como: \n",
    "#      root:|-- retweeted_status: struct (nullable = true)"
   ]
  },
  {
   "cell_type": "code",
   "execution_count": 22,
   "id": "bafef387-3cf7-45d3-8c2d-e04b1f2588ca",
   "metadata": {},
   "outputs": [],
   "source": [
    "output = retweeted.first()\n",
    "assert output.screen_name == 'AntonioMaestre' and output.friends_count == 1331 and output.tweets == 1 and output.followers_count == 262284 and output.ratio_tweet_retweeted == 2009.0 and output.retweeted == 2009, \"Incorrect output\""
   ]
  },
  {
   "cell_type": "markdown",
   "id": "57ee3c86-ec43-4903-a46a-0da57f404583",
   "metadata": {},
   "source": [
    "<font color=\"blue\">**Resultado:**</font> \n",
    "\n",
    "-> El usuario 'screen_name' que más se retweeteado, es AntonioMaestre, con un 'ratio_tweet_retweeted' de 2009 veces."
   ]
  },
  {
   "cell_type": "markdown",
   "id": "c9cf4348-8b75-4154-bbf3-6016282f783e",
   "metadata": {
    "tags": []
   },
   "source": [
    "#### **Parte 1.2.2:** Queries a través de la API\n",
    "\n",
    "Las tablas de Spark SQL ofrecen otro mecanismo para aplicar las transformaciones y obtener resultados similares a los que se obtendría aplicando una consulta SQL. Por ejemplo utilizando el siguiente pipeline obtendremos el texto de todos los tweets en español:\n",
    "\n",
    "```\n",
    "tweets_sample.where(\"lang == 'es'\").select(\"text\")\n",
    "\n",
    "```\n",
    "\n",
    "Que es equivalente a la siguiente sentencia SQL:\n",
    "\n",
    "```\n",
    "SELECT text\n",
    "FROM tweets_sample\n",
    "WHERE lang == 'es'\n",
    "```\n",
    "\n",
    "Podéis consultar el [API de spark SQL](https://spark.apache.org/docs/latest/api/python/pyspark.sql.html) para encontrar más información sobre como utilitzar las diferentes transformaciones en tablas.\n",
    "\n",
    "En este ejercicio se os pide que **repliquéis la query obtenida en el apartado anterior** empezando por generar la tabla ```users_agg```. Podéis utilizar las transformaciones ```where```, ```select``` (o ```selectExpr```), ```groupBy```, ```count```, ```agg``` y ```orderBy```"
   ]
  },
  {
   "cell_type": "code",
   "execution_count": 23,
   "id": "92811dda-0c91-4587-a2ad-a8bbdfa3fb1d",
   "metadata": {},
   "outputs": [
    {
     "name": "stdout",
     "output_type": "stream",
     "text": [
      "+---------------+------------------+------+--------------------+\n",
      "|    screen_name|max(friends_count)|tweets|max(followers_count)|\n",
      "+---------------+------------------+------+--------------------+\n",
      "|       anaoromi|              6322|   223|                6869|\n",
      "|    RosaMar6254|              6252|   141|                6292|\n",
      "|MariaJo40891027|               880|   134|                 849|\n",
      "|    DuroBelinda|              5246|   129|                5791|\n",
      "| locuspolitikus|             11263|   120|               10261|\n",
      "|   rosavergar23|               974|   109|                1294|\n",
      "|  Rafa_eltorete|               930|    98|                1084|\n",
      "|    CurritoRojo|              4997|    96|                4235|\n",
      "|   meme_montero|              1539|    94|                1558|\n",
      "| Perona10690463|              1191|    94|                1585|\n",
      "+---------------+------------------+------+--------------------+\n",
      "\n"
     ]
    }
   ],
   "source": [
    "# elegimos las columnas que queremos encontrar en la nueva tabla\n",
    "\n",
    "users = tweets_sample.where(\"user.lang == 'es'\").select(\"user.screen_name\", \"user.friends_count\", \"user.followers_count\")\n",
    "\n",
    "users_agg = users.groupBy(\"screen_name\")\\\n",
    "                .agg({\"screen_name\":\"count\", \"followers_count\":\"max\", \"friends_count\":\"max\"})\\\n",
    "                .withColumnRenamed(\"count(screen_name)\", \"tweets\")\\\n",
    "                .orderBy(\"tweets\", ascending=False)\n",
    "\n",
    "users_agg.limit(10).show()"
   ]
  },
  {
   "cell_type": "markdown",
   "id": "e106c1c9-f6eb-42e8-96f1-515acb7bbdf8",
   "metadata": {},
   "source": [
    "<font color=\"blue\">**Comentario:**</font> \n",
    "* Vemos que obtenemos los mismos resultados en cuanto al contenido de los datos \n",
    "* Este fragmento de código primero filtra a los **usuarios que tuitean en español** y selecciona la información relevante de los usuarios. Luego, agrupa los datos por screen_name, realiza agregaciones para contar los tuits y encontrar el número máximo de seguidores y amigos\n",
    "* Luego **renombra la columna de conteo a tweets**, y ordena los resultados por el número de tuits en orden descendente."
   ]
  },
  {
   "cell_type": "code",
   "execution_count": 24,
   "id": "337ab260-6c8b-49f8-9038-f9abb5c8af8d",
   "metadata": {
    "tags": []
   },
   "outputs": [],
   "source": [
    "# Query to filter tweets in Spanish and select their text\n",
    "spanish_tweets = tweets_sample.where(\"lang == 'es'\").select(\"text\")"
   ]
  },
  {
   "cell_type": "code",
   "execution_count": 25,
   "id": "0dcc306d-04a3-4343-b49b-35a9511e7d55",
   "metadata": {
    "tags": []
   },
   "outputs": [
    {
     "name": "stdout",
     "output_type": "stream",
     "text": [
      "DataFrame[text: string]\n"
     ]
    }
   ],
   "source": [
    "print(spanish_tweets)"
   ]
  },
  {
   "cell_type": "markdown",
   "id": "930c8a4a-b95e-4627-8485-8581a1124150",
   "metadata": {},
   "source": [
    "Si os fijáis veréis que el nombre de las columnas no corresponde con el obtenido anteriormente, podéis cambiar el nombre de una columna determinada utilizando la transformación ```withColumnRenamed```. Cambiad el nombre de las columnas para que coincidan con el apartado anterior y guardadlas en una variable ```user_agg_new```."
   ]
  },
  {
   "cell_type": "code",
   "execution_count": 26,
   "id": "00e3b8d7-b81d-4981-95be-0549c0ee1cb3",
   "metadata": {},
   "outputs": [
    {
     "name": "stdout",
     "output_type": "stream",
     "text": [
      "+---------------+-------------+------+---------------+\n",
      "|    screen_name|friends_count|tweets|followers_count|\n",
      "+---------------+-------------+------+---------------+\n",
      "|       anaoromi|         6322|   223|           6869|\n",
      "|    RosaMar6254|         6252|   141|           6292|\n",
      "|MariaJo40891027|          880|   134|            849|\n",
      "|    DuroBelinda|         5246|   129|           5791|\n",
      "| locuspolitikus|        11263|   120|          10261|\n",
      "|   rosavergar23|          974|   109|           1294|\n",
      "|  Rafa_eltorete|          930|    98|           1084|\n",
      "|    CurritoRojo|         4997|    96|           4235|\n",
      "|   meme_montero|         1539|    94|           1558|\n",
      "| Perona10690463|         1191|    94|           1585|\n",
      "+---------------+-------------+------+---------------+\n",
      "\n"
     ]
    }
   ],
   "source": [
    "# Renombrar las variables : se las variables se encuentran a la izquierda y sus nuevvos nombres, entre \"\" a su derecha\n",
    "\n",
    "users_agg_new = users_agg.withColumnRenamed(\"max(friends_count)\", \"friends_count\")\\\n",
    "                         .withColumnRenamed(\"max(followers_count)\", \"followers_count\")\\\n",
    "                         .withColumnRenamed(\"count(screen_name)\", \"screen_name\")\n",
    "\n",
    "users_agg_new.limit(10).show()"
   ]
  },
  {
   "cell_type": "code",
   "execution_count": 27,
   "id": "204bf19f-b7d5-4be2-a732-4c15648a691b",
   "metadata": {},
   "outputs": [],
   "source": [
    "output = users_agg_new.first()\n",
    "assert output.screen_name == 'anaoromi' and output.friends_count == 6322 and output.tweets == 223 and output.followers_count == 6869, \"Incorrect output\""
   ]
  },
  {
   "cell_type": "markdown",
   "id": "9da451dd-18cf-48bd-8b9d-d0204da9d96b",
   "metadata": {},
   "source": [
    "Cread ahora una tabla ```user_retweets``` utilizando transformaciones que contenga dos columnas:\n",
    "- ***screen_name:*** nombre de usuario\n",
    "- ***retweeted:*** número de retweets\n",
    "\n",
    "Podéis utilizar las mismas transformaciones que en el ejercicio anterior. Ordenad la tabla en orden descendente utilizando el valor de la columna ```retweeted```."
   ]
  },
  {
   "cell_type": "code",
   "execution_count": 28,
   "id": "09f9147c-c693-4aec-8daf-f581f7e1f1a9",
   "metadata": {},
   "outputs": [
    {
     "name": "stdout",
     "output_type": "stream",
     "text": [
      "+---------------+---------+\n",
      "|    screen_name|retweeted|\n",
      "+---------------+---------+\n",
      "|         vox_es|     4357|\n",
      "|  Santi_ABASCAL|     3076|\n",
      "|   ahorapodemos|     2793|\n",
      "|           PSOE|     2260|\n",
      "|         boye_g|     2194|\n",
      "| AntonioMaestre|     1985|\n",
      "|       iescolar|     1933|\n",
      "|Pablo_Iglesias_|     1923|\n",
      "|      JuntsXCat|     1736|\n",
      "|  AlbanoDante76|     1717|\n",
      "+---------------+---------+\n",
      "\n"
     ]
    }
   ],
   "source": [
    "# Retweeted_status está dentro de la estructura de la tabla inicial JSON tweets_sample como: \n",
    "#      root:|-- retweeted_status: struct (nullable = true)\n",
    "\n",
    "user_retweets = tweets_sample.select(\"retweeted_status.user.screen_name\")\\\n",
    "                             .where(\"retweeted_status.user.lang == 'es'\")\\\n",
    "                             .groupBy(\"screen_name\")\\\n",
    "                             .count()\\\n",
    "                             .withColumnRenamed(\"count\", \"retweeted\")\\\n",
    "                             .orderBy(\"retweeted\", ascending = False)\n",
    "\n",
    "user_retweets.limit(10).show()"
   ]
  },
  {
   "cell_type": "code",
   "execution_count": 29,
   "id": "0c7603b9-322a-484a-ba3c-10ebdaf911ce",
   "metadata": {},
   "outputs": [],
   "source": [
    "output = user_retweets.first()\n",
    "assert output.screen_name == 'vox_es' and output.retweeted == 4357, \"Incorrect output\""
   ]
  },
  {
   "cell_type": "markdown",
   "id": "6ec99d67-9f4e-43ce-896c-056e77dea303",
   "metadata": {},
   "source": [
    "<font color=\"blue\">**\"retweeted_status.user.screen_name\"** explicado:</font> \n",
    "\n",
    "\n",
    "\n",
    "* **retweeted_status**: el DataFrame tweets_sample tiene una estructura anidada donde cada fila contiene un campo llamado retweeted_status.\n",
    "* **user**: dentro de retweeted_status, hay otra estructura anidada o un mapa llamado **user**.\n",
    "* **screen_name**: dentro de user, hay un campo llamado **screen_name**, que contiene el nombre de usuario de Twitter del **usuario que publicó originalmente el tweet que fue retuiteado**.\n",
    "\n",
    "* Por lo tanto, **\"retweeted_status.user.screen_name\" accede al nombre de usuario (screen_name) del autor original del tweet desde el DataFrame tweets_sample**. \n",
    "* **Esta columna luego se utiliza para agrupar y agregar datos para determinar cuántas veces los tweets de cada usuario fueron retuiteados por usuarios cuyo idioma está configurado como español ('es').**\n",
    "* ---> dicho eso y viendo los recientes resultados que en muchos casos contrastan con los anteriores, pensar que los tweets de los usuarios más activos como \"anaoromi\" eran orginalmente de unos de los personajes conocos o de sus partidos polítcos que aparecen arriba en esta consulta."
   ]
  },
  {
   "cell_type": "markdown",
   "id": "f22be265-64db-4fad-aab4-663d0e983189",
   "metadata": {},
   "source": [
    "Otra manera de combinar dos tablas es utilizando el [metodo de tabla ```join```](https://spark.apache.org/docs/latest/api/python/pyspark.sql.html). Combinad la información de la tabla ```users_agg_new``` y ```user_retweets``` en una nueva tabla ```retweeted``` utilizando la columna ```screen_name```. Ordenad la nueva tabla en orden descendente con el nombre de retweets."
   ]
  },
  {
   "cell_type": "code",
   "execution_count": 30,
   "id": "461f1eac-2089-4a84-8a5f-8b266bfe713c",
   "metadata": {},
   "outputs": [
    {
     "name": "stdout",
     "output_type": "stream",
     "text": [
      "+---------------+-------------+------+---------------+---------+\n",
      "|    screen_name|friends_count|tweets|followers_count|retweeted|\n",
      "+---------------+-------------+------+---------------+---------+\n",
      "|         vox_es|         1018|    26|         259373|     4357|\n",
      "|  Santi_ABASCAL|         3965|     8|         230201|     3076|\n",
      "|   ahorapodemos|         1589|    14|        1390728|     2793|\n",
      "|           PSOE|        13646|    22|         688356|     2260|\n",
      "|         boye_g|          698|     6|         152081|     2194|\n",
      "| AntonioMaestre|         1331|     1|         262284|     1985|\n",
      "|       iescolar|         5573|     5|         940166|     1933|\n",
      "|Pablo_Iglesias_|         2831|     2|        2289182|     1923|\n",
      "|      JuntsXCat|          234|    24|          91560|     1736|\n",
      "|  AlbanoDante76|         4120|     7|         243777|     1717|\n",
      "+---------------+-------------+------+---------------+---------+\n",
      "\n"
     ]
    }
   ],
   "source": [
    "# Join en Spark = INNER JOIN (MUESTRA SÓLO LOS REGISTROS COMUNES A LAS DOS TABLAS)\n",
    "\n",
    "retweeted = users_agg_new.join(user_retweets, \"screen_name\")\\\n",
    "                        .select(\"screen_name\", \"friends_count\", \"tweets\", \"followers_count\",\"retweeted\")\\\n",
    "                        .orderBy(\"retweeted\", ascending = False)\n",
    "\n",
    "retweeted.limit(10).show()"
   ]
  },
  {
   "cell_type": "code",
   "execution_count": 31,
   "id": "9a66cd45-4fcd-4951-9baf-d4ed23b5ec59",
   "metadata": {},
   "outputs": [],
   "source": [
    "output = retweeted.first()\n",
    "assert output.screen_name == 'vox_es' and output.friends_count == 1018 and output.tweets == 26 and output.followers_count == 259373 and output.retweeted == 4357, \"Incorrect output\""
   ]
  },
  {
   "cell_type": "markdown",
   "id": "5360fa52-ec23-43b4-a72c-f6cb58872301",
   "metadata": {},
   "source": [
    "Notaréis que algunos de los registros que aparecen en la tabla ```users_retweeted``` no están presentes en la tabla retweeted. Esto es debido a que, por defecto, el método aplica un inner join y por tanto solo combina los registros presentes en ambas tablas. Podéis cambiar este comportamiento a través de los parámetros de la función.\n",
    "\n",
    "Para terminar esta parte y reconstruir el resultado del apartado 1.2.1 vamos a añadir una columna ```ratio_tweet_retweeted``` con información del ratio entre retweets y tweets. Para ello debéis utilizar la transformación ```withColumn```. El resultado debe estar ordenado considerando esta nueva columna en orden descendente."
   ]
  },
  {
   "cell_type": "code",
   "execution_count": 32,
   "id": "0510007d-d0db-41bc-b0c8-9353cf331513",
   "metadata": {},
   "outputs": [
    {
     "name": "stdout",
     "output_type": "stream",
     "text": [
      "+---------------+-------------+------+---------------+---------+---------------------+\n",
      "|    screen_name|friends_count|tweets|followers_count|retweeted|ratio_tweet_retweeted|\n",
      "+---------------+-------------+------+---------------+---------+---------------------+\n",
      "| AntonioMaestre|         1331|     1|         262284|     1985|               1985.0|\n",
      "|Pablo_Iglesias_|         2831|     2|        2289182|     1923|                961.5|\n",
      "| RubenSanchezTW|          751|     1|         158867|      693|                693.0|\n",
      "|sanchezcastejon|         6125|     2|        1010813|     1323|                661.5|\n",
      "|  InesArrimadas|         1257|     1|         489884|      653|                653.0|\n",
      "| Irene_Montero_|         1868|     1|         307213|      568|                568.0|\n",
      "|    JonInarritu|         5113|     2|          89789|     1134|                567.0|\n",
      "|   GuajeSalvaje|         5942|     1|          29920|      540|                540.0|\n",
      "|jonathanmartinz|          706|     1|          93938|      501|                501.0|\n",
      "|      gerardotc|         3534|     2|         496317|      948|                474.0|\n",
      "+---------------+-------------+------+---------------+---------+---------------------+\n",
      "\n"
     ]
    }
   ],
   "source": [
    "retweeted = retweeted.withColumn(\"ratio_tweet_retweeted\", retweeted['retweeted'] / retweeted['tweets'])\\\n",
    "                    .orderBy('ratio_tweet_retweeted', ascending = False)\n",
    "\n",
    "retweeted.limit(10).show()"
   ]
  },
  {
   "cell_type": "code",
   "execution_count": 33,
   "id": "334a45cc-a939-4991-849f-1f9bccd7e1c7",
   "metadata": {},
   "outputs": [],
   "source": [
    "output = retweeted.first()\n",
    "assert output.screen_name == 'AntonioMaestre' and output.friends_count == 1331 and output.tweets == 1 and output.followers_count == 262284 and output.ratio_tweet_retweeted == 1985.0 and output.retweeted == 1985, \"Incorrect output\""
   ]
  },
  {
   "cell_type": "code",
   "execution_count": null,
   "id": "a4545646-7da3-4c18-8da4-5906a4b41a31",
   "metadata": {},
   "outputs": [],
   "source": []
  },
  {
   "cell_type": "markdown",
   "id": "4a2b2d49-fb11-44e7-9a59-13eeae4fd781",
   "metadata": {
    "toc-hr-collapsed": false
   },
   "source": [
    "## **Parte 2:** Bases de datos HIVE y operaciones complejas\n",
    "\n",
    "Hasta ahora hemos estado trabajando con un pequeño sample de los tweets generados (el 0.1%). En esta parte de la tarea vamos a ver como trabajar y tratar con el dataset completo. Para ello vamos ha utilizar tanto transformaciones sobre tablas como operaciones sobre RDD cuando sea necesario."
   ]
  },
  {
   "cell_type": "markdown",
   "id": "bc9557d8-a37d-48d9-aa86-1b86ec2df597",
   "metadata": {},
   "source": [
    "### **Parte 2.1:** Bases de datos Hive\n",
    "\n",
    "Muchas veces los datos con los que vamos ha trabajar se van a utilizar en diversos proyectos. Una manera de organizar los datos es, en lugar de utilizar directamente los ficheros, recurrir a una base de datos para gestionar la información. En el entorno Hadoop una de las bases de datos más utilizadas es [Apache Hive](https://hive.apache.org/), una base de datos que permite trabajar con contenido distribuido.\n",
    "\n",
    "La manera de acceder a esta base de datos es creando un contexto Hive de manera muy similar a como declaramos un contexto SQL. Primero de todo vamos a declarar un variable ```hiveContext``` instanciándola como un objeto de la classe ```HiveContext```. Acto seguido vamos a comprobar cuantas tablas están registradas en este contexto."
   ]
  },
  {
   "cell_type": "code",
   "execution_count": 34,
   "id": "97c4951a-6a53-4b08-ae86-dbd23da9db8a",
   "metadata": {},
   "outputs": [
    {
     "name": "stderr",
     "output_type": "stream",
     "text": [
      "C:\\Users\\Buba\\anaconda3\\lib\\site-packages\\pyspark\\sql\\context.py:733: FutureWarning: HiveContext is deprecated in Spark 2.0.0. Please use SparkSession.builder.enableHiveSupport().getOrCreate() instead.\n",
      "  warnings.warn(\n"
     ]
    },
    {
     "name": "stdout",
     "output_type": "stream",
     "text": [
      "+---------+-------------+-----------+\n",
      "|namespace|    tableName|isTemporary|\n",
      "+---------+-------------+-----------+\n",
      "|         |tweets_sample|       true|\n",
      "|         |     user_agg|       true|\n",
      "+---------+-------------+-----------+\n",
      "\n"
     ]
    }
   ],
   "source": [
    "hiveContext = HiveContext(sc)\n",
    "hiveContext.tables().show()"
   ]
  },
  {
   "cell_type": "code",
   "execution_count": 35,
   "id": "ce7ca89e-161e-4293-8179-dac2b00d0d3f",
   "metadata": {},
   "outputs": [],
   "source": [
    "######## EDITAR TEXTO YA QUE NO COINCIDE CON LA REALIDAD (5 TABLAS) ##########"
   ]
  },
  {
   "cell_type": "markdown",
   "id": "ba42f509-8091-403e-acfc-051cd7500302",
   "metadata": {},
   "source": [
    "Observad que ahora mismo tenemos cinco tablas registradas en este contexto. Tres de ellas no temporales y dos temporales, las que hemos registrado previamente. Por tanto sqlContext y hiveContext están concetados (es la misma sessión)\n",
    "\n",
    "Vamos ha crear una variable ```tweets``` que utilizaremos para acceder a la tabla ```tweets_sample``` guardada en ```hiveContext``` utilizando para ello el método ```table()``` de este objeto."
   ]
  },
  {
   "cell_type": "code",
   "execution_count": 36,
   "id": "642a9083-9d83-4c85-9bcd-3bcf7183f4e1",
   "metadata": {},
   "outputs": [
    {
     "name": "stdout",
     "output_type": "stream",
     "text": [
      "Loaded dataset contains 401587 tweets\n"
     ]
    }
   ],
   "source": [
    "tweets = hiveContext.table('tweets_sample')\n",
    "print(\"Loaded dataset contains {} tweets\".format(tweets.count()))"
   ]
  },
  {
   "cell_type": "markdown",
   "id": "817653c6-ccad-49fd-b8c9-cebc07d781ef",
   "metadata": {},
   "source": [
    "Utilizando el mismo método que en el apartado 1.1, comprobad la estructura de la tabla que acabamos de cargar con ```printSchema()```"
   ]
  },
  {
   "cell_type": "code",
   "execution_count": 37,
   "id": "603ecac8-dd73-4fa1-bb8d-96160caf44da",
   "metadata": {},
   "outputs": [
    {
     "name": "stdout",
     "output_type": "stream",
     "text": [
      "root\n",
      " |-- _id: string (nullable = true)\n",
      " |-- coordinates: struct (nullable = true)\n",
      " |    |-- coordinates: array (nullable = true)\n",
      " |    |    |-- element: double (containsNull = true)\n",
      " |    |-- type: string (nullable = true)\n",
      " |-- created_at: long (nullable = true)\n",
      " |-- entities: struct (nullable = true)\n",
      " |    |-- hashtags: array (nullable = true)\n",
      " |    |    |-- element: struct (containsNull = true)\n",
      " |    |    |    |-- indices: array (nullable = true)\n",
      " |    |    |    |    |-- element: long (containsNull = true)\n",
      " |    |    |    |-- text: string (nullable = true)\n",
      " |    |-- user_mentions: array (nullable = true)\n",
      " |    |    |-- element: struct (containsNull = true)\n",
      " |    |    |    |-- id: double (nullable = true)\n",
      " |    |    |    |-- id_str: string (nullable = true)\n",
      " |    |    |    |-- indices: array (nullable = true)\n",
      " |    |    |    |    |-- element: long (containsNull = true)\n",
      " |    |    |    |-- name: string (nullable = true)\n",
      " |    |    |    |-- screen_name: string (nullable = true)\n",
      " |-- favorite_count: long (nullable = true)\n",
      " |-- in_reply_to_screen_name: string (nullable = true)\n",
      " |-- in_reply_to_status_id_str: string (nullable = true)\n",
      " |-- in_reply_to_user_id_str: string (nullable = true)\n",
      " |-- is_quote_status: boolean (nullable = true)\n",
      " |-- lang: string (nullable = true)\n",
      " |-- place: struct (nullable = true)\n",
      " |    |-- bounding_box: struct (nullable = true)\n",
      " |    |    |-- coordinates: array (nullable = true)\n",
      " |    |    |    |-- element: array (containsNull = true)\n",
      " |    |    |    |    |-- element: array (containsNull = true)\n",
      " |    |    |    |    |    |-- element: double (containsNull = true)\n",
      " |    |    |-- type: string (nullable = true)\n",
      " |    |-- country_code: string (nullable = true)\n",
      " |    |-- id: string (nullable = true)\n",
      " |    |-- name: string (nullable = true)\n",
      " |    |-- place_type: string (nullable = true)\n",
      " |-- quoted_status: struct (nullable = true)\n",
      " |    |-- _id: string (nullable = true)\n",
      " |    |-- coordinates: struct (nullable = true)\n",
      " |    |    |-- coordinates: array (nullable = true)\n",
      " |    |    |    |-- element: double (containsNull = true)\n",
      " |    |    |-- type: string (nullable = true)\n",
      " |    |-- created_at: long (nullable = true)\n",
      " |    |-- entities: struct (nullable = true)\n",
      " |    |    |-- hashtags: array (nullable = true)\n",
      " |    |    |    |-- element: struct (containsNull = true)\n",
      " |    |    |    |    |-- indices: array (nullable = true)\n",
      " |    |    |    |    |    |-- element: long (containsNull = true)\n",
      " |    |    |    |    |-- text: string (nullable = true)\n",
      " |    |    |-- user_mentions: array (nullable = true)\n",
      " |    |    |    |-- element: struct (containsNull = true)\n",
      " |    |    |    |    |-- id: double (nullable = true)\n",
      " |    |    |    |    |-- id_str: string (nullable = true)\n",
      " |    |    |    |    |-- indices: array (nullable = true)\n",
      " |    |    |    |    |    |-- element: long (containsNull = true)\n",
      " |    |    |    |    |-- name: string (nullable = true)\n",
      " |    |    |    |    |-- screen_name: string (nullable = true)\n",
      " |    |-- favorite_count: long (nullable = true)\n",
      " |    |-- in_reply_to_screen_name: string (nullable = true)\n",
      " |    |-- in_reply_to_status_id_str: string (nullable = true)\n",
      " |    |-- in_reply_to_user_id_str: string (nullable = true)\n",
      " |    |-- is_quote_status: boolean (nullable = true)\n",
      " |    |-- lang: string (nullable = true)\n",
      " |    |-- place: struct (nullable = true)\n",
      " |    |    |-- bounding_box: struct (nullable = true)\n",
      " |    |    |    |-- coordinates: array (nullable = true)\n",
      " |    |    |    |    |-- element: array (containsNull = true)\n",
      " |    |    |    |    |    |-- element: array (containsNull = true)\n",
      " |    |    |    |    |    |    |-- element: double (containsNull = true)\n",
      " |    |    |    |-- type: string (nullable = true)\n",
      " |    |    |-- country_code: string (nullable = true)\n",
      " |    |    |-- id: string (nullable = true)\n",
      " |    |    |-- name: string (nullable = true)\n",
      " |    |    |-- place_type: string (nullable = true)\n",
      " |    |-- quoted_status_id_str: string (nullable = true)\n",
      " |    |-- retweet_count: long (nullable = true)\n",
      " |    |-- source: string (nullable = true)\n",
      " |    |-- text: string (nullable = true)\n",
      " |    |-- user: struct (nullable = true)\n",
      " |    |    |-- created_at: long (nullable = true)\n",
      " |    |    |-- description: string (nullable = true)\n",
      " |    |    |-- followers_count: long (nullable = true)\n",
      " |    |    |-- friends_count: long (nullable = true)\n",
      " |    |    |-- geo_enabled: boolean (nullable = true)\n",
      " |    |    |-- id_str: string (nullable = true)\n",
      " |    |    |-- lang: string (nullable = true)\n",
      " |    |    |-- location: string (nullable = true)\n",
      " |    |    |-- screen_name: string (nullable = true)\n",
      " |    |    |-- statuses_count: long (nullable = true)\n",
      " |    |    |-- url: string (nullable = true)\n",
      " |    |    |-- verified: boolean (nullable = true)\n",
      " |-- quoted_status_id_str: string (nullable = true)\n",
      " |-- retweet_count: long (nullable = true)\n",
      " |-- retweeted_status: struct (nullable = true)\n",
      " |    |-- _id: string (nullable = true)\n",
      " |    |-- coordinates: struct (nullable = true)\n",
      " |    |    |-- coordinates: array (nullable = true)\n",
      " |    |    |    |-- element: double (containsNull = true)\n",
      " |    |    |-- type: string (nullable = true)\n",
      " |    |-- created_at: long (nullable = true)\n",
      " |    |-- entities: struct (nullable = true)\n",
      " |    |    |-- hashtags: array (nullable = true)\n",
      " |    |    |    |-- element: struct (containsNull = true)\n",
      " |    |    |    |    |-- indices: array (nullable = true)\n",
      " |    |    |    |    |    |-- element: long (containsNull = true)\n",
      " |    |    |    |    |-- text: string (nullable = true)\n",
      " |    |    |-- user_mentions: array (nullable = true)\n",
      " |    |    |    |-- element: struct (containsNull = true)\n",
      " |    |    |    |    |-- id: double (nullable = true)\n",
      " |    |    |    |    |-- id_str: string (nullable = true)\n",
      " |    |    |    |    |-- indices: array (nullable = true)\n",
      " |    |    |    |    |    |-- element: long (containsNull = true)\n",
      " |    |    |    |    |-- name: string (nullable = true)\n",
      " |    |    |    |    |-- screen_name: string (nullable = true)\n",
      " |    |-- favorite_count: long (nullable = true)\n",
      " |    |-- in_reply_to_screen_name: string (nullable = true)\n",
      " |    |-- in_reply_to_status_id_str: string (nullable = true)\n",
      " |    |-- in_reply_to_user_id_str: string (nullable = true)\n",
      " |    |-- is_quote_status: boolean (nullable = true)\n",
      " |    |-- lang: string (nullable = true)\n",
      " |    |-- place: struct (nullable = true)\n",
      " |    |    |-- bounding_box: struct (nullable = true)\n",
      " |    |    |    |-- coordinates: array (nullable = true)\n",
      " |    |    |    |    |-- element: array (containsNull = true)\n",
      " |    |    |    |    |    |-- element: array (containsNull = true)\n",
      " |    |    |    |    |    |    |-- element: double (containsNull = true)\n",
      " |    |    |    |-- type: string (nullable = true)\n",
      " |    |    |-- country_code: string (nullable = true)\n",
      " |    |    |-- id: string (nullable = true)\n",
      " |    |    |-- name: string (nullable = true)\n",
      " |    |    |-- place_type: string (nullable = true)\n",
      " |    |-- quoted_status: struct (nullable = true)\n",
      " |    |    |-- _id: string (nullable = true)\n",
      " |    |    |-- coordinates: struct (nullable = true)\n",
      " |    |    |    |-- coordinates: array (nullable = true)\n",
      " |    |    |    |    |-- element: double (containsNull = true)\n",
      " |    |    |    |-- type: string (nullable = true)\n",
      " |    |    |-- created_at: long (nullable = true)\n",
      " |    |    |-- entities: struct (nullable = true)\n",
      " |    |    |    |-- hashtags: array (nullable = true)\n",
      " |    |    |    |    |-- element: struct (containsNull = true)\n",
      " |    |    |    |    |    |-- indices: array (nullable = true)\n",
      " |    |    |    |    |    |    |-- element: long (containsNull = true)\n",
      " |    |    |    |    |    |-- text: string (nullable = true)\n",
      " |    |    |    |-- user_mentions: array (nullable = true)\n",
      " |    |    |    |    |-- element: struct (containsNull = true)\n",
      " |    |    |    |    |    |-- id: double (nullable = true)\n",
      " |    |    |    |    |    |-- id_str: string (nullable = true)\n",
      " |    |    |    |    |    |-- indices: array (nullable = true)\n",
      " |    |    |    |    |    |    |-- element: long (containsNull = true)\n",
      " |    |    |    |    |    |-- name: string (nullable = true)\n",
      " |    |    |    |    |    |-- screen_name: string (nullable = true)\n",
      " |    |    |-- favorite_count: long (nullable = true)\n",
      " |    |    |-- in_reply_to_screen_name: string (nullable = true)\n",
      " |    |    |-- in_reply_to_status_id_str: string (nullable = true)\n",
      " |    |    |-- in_reply_to_user_id_str: string (nullable = true)\n",
      " |    |    |-- is_quote_status: boolean (nullable = true)\n",
      " |    |    |-- lang: string (nullable = true)\n",
      " |    |    |-- place: struct (nullable = true)\n",
      " |    |    |    |-- bounding_box: struct (nullable = true)\n",
      " |    |    |    |    |-- coordinates: array (nullable = true)\n",
      " |    |    |    |    |    |-- element: array (containsNull = true)\n",
      " |    |    |    |    |    |    |-- element: array (containsNull = true)\n",
      " |    |    |    |    |    |    |    |-- element: double (containsNull = true)\n",
      " |    |    |    |    |-- type: string (nullable = true)\n",
      " |    |    |    |-- country_code: string (nullable = true)\n",
      " |    |    |    |-- id: string (nullable = true)\n",
      " |    |    |    |-- name: string (nullable = true)\n",
      " |    |    |    |-- place_type: string (nullable = true)\n",
      " |    |    |-- quoted_status_id_str: string (nullable = true)\n",
      " |    |    |-- retweet_count: long (nullable = true)\n",
      " |    |    |-- source: string (nullable = true)\n",
      " |    |    |-- text: string (nullable = true)\n",
      " |    |    |-- user: struct (nullable = true)\n",
      " |    |    |    |-- created_at: long (nullable = true)\n",
      " |    |    |    |-- description: string (nullable = true)\n",
      " |    |    |    |-- followers_count: long (nullable = true)\n",
      " |    |    |    |-- friends_count: long (nullable = true)\n",
      " |    |    |    |-- geo_enabled: boolean (nullable = true)\n",
      " |    |    |    |-- id_str: string (nullable = true)\n",
      " |    |    |    |-- lang: string (nullable = true)\n",
      " |    |    |    |-- location: string (nullable = true)\n",
      " |    |    |    |-- screen_name: string (nullable = true)\n",
      " |    |    |    |-- statuses_count: long (nullable = true)\n",
      " |    |    |    |-- url: string (nullable = true)\n",
      " |    |    |    |-- verified: boolean (nullable = true)\n",
      " |    |-- quoted_status_id_str: string (nullable = true)\n",
      " |    |-- retweet_count: long (nullable = true)\n",
      " |    |-- source: string (nullable = true)\n",
      " |    |-- text: string (nullable = true)\n",
      " |    |-- user: struct (nullable = true)\n",
      " |    |    |-- created_at: long (nullable = true)\n",
      " |    |    |-- description: string (nullable = true)\n",
      " |    |    |-- followers_count: long (nullable = true)\n",
      " |    |    |-- friends_count: long (nullable = true)\n",
      " |    |    |-- geo_enabled: boolean (nullable = true)\n",
      " |    |    |-- id_str: string (nullable = true)\n",
      " |    |    |-- lang: string (nullable = true)\n",
      " |    |    |-- location: string (nullable = true)\n",
      " |    |    |-- screen_name: string (nullable = true)\n",
      " |    |    |-- statuses_count: long (nullable = true)\n",
      " |    |    |-- url: string (nullable = true)\n",
      " |    |    |-- verified: boolean (nullable = true)\n",
      " |-- source: string (nullable = true)\n",
      " |-- text: string (nullable = true)\n",
      " |-- user: struct (nullable = true)\n",
      " |    |-- created_at: long (nullable = true)\n",
      " |    |-- description: string (nullable = true)\n",
      " |    |-- followers_count: long (nullable = true)\n",
      " |    |-- friends_count: long (nullable = true)\n",
      " |    |-- geo_enabled: boolean (nullable = true)\n",
      " |    |-- id_str: string (nullable = true)\n",
      " |    |-- lang: string (nullable = true)\n",
      " |    |-- location: string (nullable = true)\n",
      " |    |-- screen_name: string (nullable = true)\n",
      " |    |-- statuses_count: long (nullable = true)\n",
      " |    |-- url: string (nullable = true)\n",
      " |    |-- verified: boolean (nullable = true)\n",
      "\n"
     ]
    }
   ],
   "source": [
    "tweets.printSchema()"
   ]
  },
  {
   "cell_type": "markdown",
   "id": "98495205-0eb7-4f5c-a129-57e71b784e39",
   "metadata": {
    "toc-hr-collapsed": false
   },
   "source": [
    "### **Parte 2.2:** Más allá de las transformaciones SQL\n",
    "\n",
    "Algunas veces vamos a necesitar obtener resultados que precisan operaciones que van más allá de lo que podemos conseguir utilizando el lenguaje SQL. En esta parte de la práctica vamos practicar cómo pasar de una tabla a un RDD, para hacer operaciones complejas, y luego volver a pasar a una tabla."
   ]
  },
  {
   "cell_type": "markdown",
   "id": "691f7b56-731b-40c7-8fc1-bc1bf75e4360",
   "metadata": {
    "toc-hr-collapsed": false
   },
   "source": [
    "#### **Parte 2.2.1:** Tweets por población\n",
    "\n",
    "Un pequeño porcentaje, alrededor del 1%, de los tweets realizados está geolocalizado. Eso quiere decir que para estos tweets tenemos información acerca del lugar donde han sido realizados guardado en el campo ```place```. En este ejercicio se pide que utilizando una sentencia SQL mostréis en orden descendente cuántos tweets se han realizado en cada lugar. La tabla resultante ```tweets_place``` debe tener las siguientes columnas:\n",
    "- ***name:*** nombre del lugar\n",
    "- ***tweets:*** número de tweets\n",
    "\n",
    "Recordad que no todos los tweets en la base de datos tienen que tener información geolocalizada, tenéis que filtrarlos teniendo en cuenta todos los que tienen un valor no nulo."
   ]
  },
  {
   "cell_type": "code",
   "execution_count": 38,
   "id": "cb2b7413-106e-4d63-888c-a1d715f0f7e3",
   "metadata": {},
   "outputs": [
    {
     "name": "stdout",
     "output_type": "stream",
     "text": [
      "+--------------------+------+\n",
      "|                name|tweets|\n",
      "+--------------------+------+\n",
      "|           Barcelona|   290|\n",
      "|              Madrid|   274|\n",
      "|             Sevilla|    66|\n",
      "|            Valencia|    45|\n",
      "|              Murcia|    33|\n",
      "|              Málaga|    31|\n",
      "|Las Palmas de Gra...|    28|\n",
      "|               Palma|    27|\n",
      "|               Gijón|    26|\n",
      "|              Oviedo|    26|\n",
      "+--------------------+------+\n",
      "\n"
     ]
    }
   ],
   "source": [
    "# se filtra el lugar 'place' si exste ese dato y el nombre de donde se escriben los tweets y se agrupan\n",
    "\n",
    "tweets_place = hiveContext.sql(\"\"\"  SELECT place.name, COUNT(*) AS tweets\n",
    "                                    FROM tweets_sample\n",
    "                                    WHERE place IS NOT NULL\n",
    "                                    GROUP BY place.name\n",
    "                                    ORDER BY tweets DESC \"\"\")\n",
    "tweets_place.limit(10).show()"
   ]
  },
  {
   "cell_type": "code",
   "execution_count": 39,
   "id": "3c0f6aa9-c1a7-45ae-a31f-f2384c29cb90",
   "metadata": {},
   "outputs": [],
   "source": [
    "output = tweets_place.first()\n",
    "assert output.name == \"Barcelona\" and output.tweets == 290, \"Incorrect output\""
   ]
  },
  {
   "cell_type": "markdown",
   "id": "0e36a205-30fa-4bfd-a49c-4dc3ccdcf75b",
   "metadata": {},
   "source": [
    "#### **Parte 2.2.2:** Contar hashtags\n",
    "\n",
    "Como seguro que habéis observado la semántica de la sentencia SQL es mucho más limpia que trabajar con RDDs para realizar muchas tareas, pero no todas las que os vais a encontrar se pueden hacer mediante sentencias SQL. En este ejercicio vamos a ver un ejemplo.\n",
    "\n",
    "El objetivo de este ejercicio es contar el **número de veces que cada hashtag (palabras precedidas por un #) ha aparecido en el dataset**. Para **evitar la sobrerrepresentación** debida a los retweets vamos a **concentrarnos en solo aquellos tweets que no son retweets** de ningún otro, o dicho de otra manera, en aquellos en los que el **campo ```retweeted_status``` es nulo**. Cread una variable ```non_retweets``` que contenga todos estos tweets."
   ]
  },
  {
   "cell_type": "code",
   "execution_count": 40,
   "id": "0cd0f04b-937a-48bf-a381-c6b59861b6ad",
   "metadata": {},
   "outputs": [
    {
     "name": "stdout",
     "output_type": "stream",
     "text": [
      "Loaded dataset contains 84938 tweets\n"
     ]
    }
   ],
   "source": [
    "non_retweets = tweets.where(\"retweeted_status IS NULL\")\n",
    "\n",
    "print(\"Loaded dataset contains {} tweets\".format(non_retweets.count()))"
   ]
  },
  {
   "cell_type": "markdown",
   "id": "483fbd5b-390c-4f1c-8a2d-bf5a8a4d2be5",
   "metadata": {},
   "source": [
    "<font color=\"blue\">**Resultado:**</font> \n",
    "\n",
    "-> Vemos que el conjunto de datos real recoge **84 938 tweets originales**; el **anterior mostraba 401 587, pero aquél incluía los repetidos (*retweeted*)** y éste no."
   ]
  },
  {
   "cell_type": "markdown",
   "id": "03421e18-75e6-4464-a908-cf768b10acdb",
   "metadata": {},
   "source": [
    "Seguidamente vamos ha crear una variable ```hashtags``` que contenga una lista de tuplas con la información ```(hashtag, count)```. Para ello, cread un RDD que contenga una lista con el texto de todos los tweets. Una vez hecho este paso tenéis que extraer los hashtags (palabras precedidas por un #) y contarlos."
   ]
  },
  {
   "cell_type": "code",
   "execution_count": 41,
   "id": "207bc43b-712c-4ca3-98b1-cc7a4ba6b468",
   "metadata": {},
   "outputs": [],
   "source": [
    "import re\n",
    "\n",
    "# Extract hashtags from the 'text' field of non-retweeted tweets\n",
    "hashtags = non_retweets.select(\"text\").rdd.map(lambda hashtag: list(hashtag)[0])\\\n",
    "                                          .flatMap(lambda line: re.findall(r\"#[\\w']+\", line))\n",
    "\n",
    "# Map each hashtag to a tuple (hashtag, 1), and then reduce by key to count occurrences\n",
    "hashtags = hashtags.map(lambda hashtag: (hashtag, 1)).reduceByKey(lambda x, y: x + y)\n"
   ]
  },
  {
   "cell_type": "markdown",
   "id": "1eb37b52-8078-4349-905b-51e5c0f48478",
   "metadata": {},
   "source": [
    "<font color=\"blue\">**Comentario:**</font> \n",
    "\n",
    "* **non_retweets.select(\"text\")**: Selecciona la columna text del DataFrame non_retweets suponiendo que non_retweets contiene tweets que no son retweets.\n",
    "* **.rdd**: Convierte el DataFrame en un RDD (Resilient Distributed Dataset), que es una abstracción en Spark para trabajar con datos distribuidos.\n",
    "* **.map(lambda hashtag: list(hashtag)[0])**: Aplica una función map sobre cada fila (que se supone es una tupla de un solo elemento que contiene el texto del tweet), convierte la tupla en una lista y selecciona el primer elemento (el texto del tweet).\n",
    "* **.flatMap(lambda line: re.findall(r\"#[\\w']+\", line))**: Aplica una expresión regular para encontrar todos los hashtags en cada texto de tweet. La función flatMap aplana la lista de hashtags en un solo RDD.\n",
    "* **.map(lambda hashtag: (hashtag, 1))**: Mapea cada hashtag a una tupla (hashtag, 1), que se usará para contar las ocurrencias.\n",
    "* **.reduceByKey(lambda x, y: x + y)**: Reduce las tuplas por clave (el hashtag) para sumar los conteos, resultando en el conteo total de cada hashtag."
   ]
  },
  {
   "cell_type": "markdown",
   "id": "354bfe06-17a8-45ee-abf6-5d8c46050ea2",
   "metadata": {},
   "source": [
    "Finalmente, se os pide que **con el RDD obtenido** generéis una **tabla ```hashtagsTable```** compuesta de dos columnas:\n",
    "- ***hashtag***\n",
    "- ***num:*** número de veces que aparece cada hashtag.\n",
    "\n",
    "Ordenadla en orden descendente por número de tweets."
   ]
  },
  {
   "cell_type": "code",
   "execution_count": 42,
   "id": "12de7f2c-f7b5-4919-a8dd-9a7d50190103",
   "metadata": {},
   "outputs": [
    {
     "name": "stdout",
     "output_type": "stream",
     "text": [
      "+--------------------+----+\n",
      "|             hashtag| num|\n",
      "+--------------------+----+\n",
      "|                #28A|1610|\n",
      "|   #ElDebateDecisivo|1051|\n",
      "|     #ELDEBATEenRTVE| 968|\n",
      "|     #EquiparacionYa| 377|\n",
      "|#EleccionesGenera...| 331|\n",
      "|       #EleccionesL6| 317|\n",
      "|         #HazQuePase| 257|\n",
      "|                #26M| 200|\n",
      "|   #DebateAtresmedia| 199|\n",
      "|     #Elecciones2019| 189|\n",
      "|         #DebateRTVE| 186|\n",
      "|          #PorEspaña| 174|\n",
      "|           #VotaPSOE| 171|\n",
      "|               #PSOE| 166|\n",
      "|             #España| 162|\n",
      "|                #28a| 160|\n",
      "|         #ILPJusapol| 157|\n",
      "|#LaHistoriaLaEscr...| 145|\n",
      "|         #EspañaViva| 145|\n",
      "|#EleccionesGenerales| 145|\n",
      "+--------------------+----+\n",
      "\n"
     ]
    }
   ],
   "source": [
    "hashtagsTable = hashtags.map(lambda row: Row(hashtag=row[0], num=row[1]))\\\n",
    "                        .toDF()\\\n",
    "                        .orderBy('num', ascending = False)\n",
    "\n",
    "hashtagsTable.limit(20).show()"
   ]
  },
  {
   "cell_type": "code",
   "execution_count": 43,
   "id": "f3f1b915-5956-4bd0-91c4-dce5981e5775",
   "metadata": {},
   "outputs": [],
   "source": [
    "output = hashtagsTable.first()\n",
    "assert output.hashtag == \"#28A\" and output.num == 1610, \"Incorrect output\""
   ]
  },
  {
   "cell_type": "markdown",
   "id": "68977195-56c2-4b57-bd2e-6fca9f45b391",
   "metadata": {},
   "source": [
    "<font color=\"blue\">**Comentario:**</font> \n",
    "\n",
    "* **hashtags.map(lambda row: Row(hashtag=row[0], num=row[1]))**: Esta línea transforma cada elemento del RDD hashtags en una fila (Row) de Spark. Cada elemento del RDD hashtags es una tupla (hashtag, count) donde hashtag es el hashtag y count es el número de veces que aparece.\n",
    "* **lambda row: Row(hashtag=row[0], num=row[1])**: Utiliza una función lambda para crear una nueva fila (Row) con dos campos:\n",
    "* **hashtag**: el primer elemento de la tupla (row[0]).\n",
    "* **num**: el segundo elemento de la tupla (row[1]).\n",
    "* **.toDF()**: Convierte el RDD de filas (Row) en un DataFrame de Spark. Esto permite aprovechar las funciones de manipulación de datos estructurados de Spark SQL.\n",
    "* **.orderBy('num', ascending=False)**: Ordena el DataFrame por el campo num en orden descendente (ascending=False). Esto significa que los hashtags más frecuentes (con el mayor número de apariciones) aparecerán primero en el DataFrame resultante."
   ]
  },
  {
   "cell_type": "code",
   "execution_count": null,
   "id": "96684c6a-18b9-4a05-a8ae-17b4d4c30482",
   "metadata": {},
   "outputs": [],
   "source": []
  },
  {
   "cell_type": "markdown",
   "id": "8f341960-ceeb-43b3-a11a-297d70e6229c",
   "metadata": {
    "toc-hr-collapsed": false
   },
   "source": [
    "## **Parte 3:** Sampling\n",
    "\n",
    "En muchas ocasiones, antes de lanzar costoso procesos, es una práctica habitual tratar con un pequeño conjunto de los datos para investigar algunas propiedades o simplemente para debugar nuestros algoritmos, a esta tarea se la llama sampling."
   ]
  },
  {
   "cell_type": "markdown",
   "id": "6c552a37-b836-42ea-bce8-5f39c4b06095",
   "metadata": {},
   "source": [
    "El sampling aplicado es [el homogeneo](https://en.wikipedia.org/wiki/Simple_random_sample). Este sampling se basta en simplemente escoger una fracción de la población seleccionando aleatoriamente elementos de la misma.\n",
    "\n",
    "Primero de todo vamos a **realizar un sampling homogéneo del 1% de los tweets** generados en periodo electoral sin reemplazo. Guardad en una variable ```tweets_sample``` este sampling utilizando el método ```sample``` descrito en la [API de pyspark SQL](https://spark.apache.org/docs/latest/api/python/pyspark.sql.html). El **seed** que vais a utilizar para inicializar el generador aleatorio es 42."
   ]
  },
  {
   "cell_type": "code",
   "execution_count": 44,
   "id": "aac0d609-b208-4622-88bb-24fa5bfc56ca",
   "metadata": {},
   "outputs": [
    {
     "name": "stdout",
     "output_type": "stream",
     "text": [
      "Number of tweets sampled: 4142\n"
     ]
    }
   ],
   "source": [
    "seed = 42\n",
    "fraction = 0.01\n",
    "\n",
    "tweets_sample = tweets.sample(False, fraction, seed)      # no replacement\n",
    "\n",
    "print(\"Number of tweets sampled: {0}\".format(tweets_sample.count()))"
   ]
  },
  {
   "cell_type": "code",
   "execution_count": 45,
   "id": "b210a045-728a-4c55-bb53-536ba8a9c6be",
   "metadata": {},
   "outputs": [],
   "source": [
    "assert tweets_sample.count() == 4142, \"Incorrect output\""
   ]
  },
  {
   "cell_type": "markdown",
   "id": "e5f96478-3a5f-4464-ab83-25a0ce4e4c14",
   "metadata": {},
   "source": [
    "<font color=\"blue\">**Resultados:**</font> \n",
    "\n",
    "---> **El sampling es de 4 142 elementos**"
   ]
  },
  {
   "cell_type": "markdown",
   "id": "165781b2-05c7-4b26-80f1-ebf8147735ee",
   "metadata": {},
   "source": [
    "Una de las cosas que resulta interesante comprobar acerca de los patrones de uso de las redes sociales es el **patrón de uso diario**. En este caso nos interesa el número **promedio de tweets que se genera cada hora del día**. Para extraer esta información lo que haremos primero, será generar una tabla ```tweets_timestamp``` con la información:\n",
    "- ***created_at***: timestamp de cuando se publicó el tweet.\n",
    "- ***hour***: a que hora del dia corresponde.\n",
    "- ***day***: Fecha en formato MM-dd-YY\n",
    "\n",
    "La fecha que figura en la base de datos esta en la franja horaria GMT. El primer paso es pasar esta información al horario peninsular de España, podéis utilizar la función ```from_utc_timestamp``` para este fin. Así mismo, la función ```hour``` os servirá para extraer la hora del timestamp y la función ```date_format``` os permitirá generar la fecha."
   ]
  },
  {
   "cell_type": "code",
   "execution_count": 46,
   "id": "4ecd34a4-d9cb-44ea-858b-c6af4b5778cd",
   "metadata": {},
   "outputs": [
    {
     "name": "stdout",
     "output_type": "stream",
     "text": [
      "+-------------------+----+--------+\n",
      "|               time|hour|     day|\n",
      "+-------------------+----+--------+\n",
      "|2019-04-12 03:17:39|   3|04-12-19|\n",
      "|2019-04-12 03:26:32|   3|04-12-19|\n",
      "|2019-04-12 03:50:34|   3|04-12-19|\n",
      "|2019-04-12 04:03:23|   4|04-12-19|\n",
      "|2019-04-12 07:16:33|   7|04-12-19|\n",
      "|2019-04-12 08:28:07|   8|04-12-19|\n",
      "|2019-04-12 10:00:57|  10|04-12-19|\n",
      "|2019-04-12 11:00:02|  11|04-12-19|\n",
      "|2019-04-12 11:06:04|  11|04-12-19|\n",
      "|2019-04-12 11:16:26|  11|04-12-19|\n",
      "+-------------------+----+--------+\n",
      "\n"
     ]
    }
   ],
   "source": [
    "from pyspark.sql.functions import date_format, hour, from_utc_timestamp\n",
    "\n",
    "tweets_timestamp=hiveContext.sql(\"\"\"SELECT to_timestamp(created_at) time FROM tweets_sample\"\"\")\n",
    "tweets_timestamp=tweets_timestamp.withColumn('time', from_utc_timestamp(tweets_timestamp.time, \"Europe/Madrid\"))\n",
    "tweets_timestamp=tweets_timestamp.withColumn('hour', hour('time'))\n",
    "tweets_timestamp=tweets_timestamp.withColumn('day', date_format('time','MM-dd-yy'))\n",
    "\n",
    "tweets_timestamp.limit(10).show()"
   ]
  },
  {
   "cell_type": "markdown",
   "id": "69b33670-bbad-43f4-81b5-040e06b72598",
   "metadata": {},
   "source": [
    "<font color=\"blue\">**El código realiza los siguientes pasos:**</font> \n",
    "\n",
    "* Ejecuta una consulta SQL para seleccionar y convertir el campo created_at a una marca de tiempo desde la tabla tweets_sample.\n",
    "* Convierte la marca de tiempo de UTC a la zona horaria \"Europe/Madrid\".\n",
    "* Añade una columna hour que contiene la hora extraída de la marca de tiempo.\n",
    "* Añade una columna day que contiene la fecha formateada como MM-dd-yy.\n"
   ]
  },
  {
   "cell_type": "markdown",
   "id": "2b07fa2f-5990-4692-a7ce-7dd213742b0d",
   "metadata": {},
   "source": [
    "El paso siguiente es agregar estos datos por hora y día en una tabla ```tweets_hour_day```. Tenéis que crear una tabla ```tweets_hour``` con la información:\n",
    "- ***hour:*** hora del dia\n",
    "- ***day:*** fecha\n",
    "- ***count:*** número de tweets generados"
   ]
  },
  {
   "cell_type": "code",
   "execution_count": 47,
   "id": "0f4a57ff-be53-4656-a21c-3f886e3c5fe2",
   "metadata": {},
   "outputs": [
    {
     "name": "stdout",
     "output_type": "stream",
     "text": [
      "+----+--------+-----+\n",
      "|hour|     day|count|\n",
      "+----+--------+-----+\n",
      "|  18|04-13-19|  465|\n",
      "|  11|04-17-19|  560|\n",
      "|   4|04-17-19|  192|\n",
      "|  10|04-14-19|  211|\n",
      "|   7|04-17-19|   51|\n",
      "|   8|04-19-19|   77|\n",
      "|   8|04-21-19|   78|\n",
      "|  12|04-13-19|  384|\n",
      "|   9|04-15-19|  190|\n",
      "|  19|04-13-19|  484|\n",
      "|   8|04-15-19|   90|\n",
      "|   2|04-17-19|  875|\n",
      "|   4|04-14-19|  160|\n",
      "|   1|04-14-19|  625|\n",
      "|  16|04-14-19|  609|\n",
      "|  20|04-16-19|  521|\n",
      "|  14|04-20-19|  455|\n",
      "|   3|04-15-19|  185|\n",
      "|   3|04-12-19|    3|\n",
      "|   1|04-21-19|  594|\n",
      "+----+--------+-----+\n",
      "\n"
     ]
    }
   ],
   "source": [
    "tweets_hour_day = tweets_timestamp.groupBy('hour', 'day').count()\n",
    "\n",
    "tweets_hour_day.limit(20).show()"
   ]
  },
  {
   "cell_type": "markdown",
   "id": "b95743dd-4ec4-43fb-8a86-1ad0a6bfe7e4",
   "metadata": {},
   "source": [
    "<font color=\"blue\">**Resultados:**</font> \n",
    "\n",
    "* Podemos ver que las personas son **más activas en horas de la tarde hasta muy de noche** (a la 1, 2 de la noche), mens en el caso de las **11 de la mañana**, cuano también hay muchos tweets (hora del almuerzo y del café para muchas personas)\n",
    "* No se ven en esta tabla hay resultados correspondentes a la hora de cenar ni antes de dormir, es decir, de 20h a 24 h)"
   ]
  },
  {
   "cell_type": "markdown",
   "id": "9fc7089f-2c49-433b-9ea6-3f961248fe6d",
   "metadata": {},
   "source": [
    "Por último solo nos queda hacer una agregación por hora para conseguir el promedio de tweets por hora. Tenéis que generar una tabla ```tweets_hour``` con la información:\n",
    "- ***hour:*** Hora\n",
    "- ***tweets:*** Promedio de tweets realizados\n",
    "\n",
    "Recordad que estamos trabajando con un sample del 1% por tanto tenéis que corregir la columna ```tweets``` para que refleje el promedio que deberíamos esperar en el conjunto completo de tweets. La tabla tiene que estar ordenada en orden ascendente de hora."
   ]
  },
  {
   "cell_type": "code",
   "execution_count": 48,
   "id": "75c33c50-dee6-4cc4-8f12-030146bea6d9",
   "metadata": {},
   "outputs": [
    {
     "name": "stdout",
     "output_type": "stream",
     "text": [
      "+----+------------------+\n",
      "|hour|            tweets|\n",
      "+----+------------------+\n",
      "|   0| 71509.09090909091|\n",
      "|   1| 76057.77777777778|\n",
      "|   2|59067.441860465115|\n",
      "|   3|28410.869565217392|\n",
      "|   4|15230.232558139533|\n",
      "|   5| 9074.418604651162|\n",
      "|   6|6895.2380952380945|\n",
      "|   7| 6363.636363636363|\n",
      "|   8| 9690.697674418605|\n",
      "|   9|18893.478260869564|\n",
      "|  10|27989.130434782604|\n",
      "|  11|36730.232558139534|\n",
      "|  12|38595.454545454544|\n",
      "|  13|38595.555555555555|\n",
      "|  14|38221.739130434784|\n",
      "|  15|           43340.0|\n",
      "|  16|           44900.0|\n",
      "|  17| 48242.22222222222|\n",
      "|  18| 45482.22222222222|\n",
      "|  19| 43028.88888888889|\n",
      "+----+------------------+\n",
      "only showing top 20 rows\n",
      "\n"
     ]
    }
   ],
   "source": [
    "tweets_hour = tweets_hour_day.groupBy('hour')\\\n",
    "                             .avg('count')\\\n",
    "                             .orderBy('hour')\\\n",
    "                             .withColumnRenamed('avg(count)', 'tweets')\n",
    "            \n",
    "tweets_hour = tweets_hour.withColumn(\"tweets\", tweets_hour.tweets / fraction)\n",
    "tweets_hour.limit(24).show()\n"
   ]
  },
  {
   "cell_type": "markdown",
   "id": "364e9435-7c0d-420f-87d7-11a92298e74e",
   "metadata": {},
   "source": [
    "Por último, producir un gráfico de barras utilizando Pandas (pasamos el dataframe a Pandas) donde se muestre la información que acabáis de generar."
   ]
  },
  {
   "cell_type": "code",
   "execution_count": 49,
   "id": "c7797fc1-fa97-490c-bbfa-29a5b91c0c7d",
   "metadata": {},
   "outputs": [
    {
     "data": {
      "text/plain": [
       "<AxesSubplot:title={'center':'Promedio de Tweets por Hora'}, xlabel='hour'>"
      ]
     },
     "execution_count": 49,
     "metadata": {},
     "output_type": "execute_result"
    },
    {
     "data": {
      "image/png": "[encoded data removed]",
      "text/plain": [
       "<Figure size 640x480 with 1 Axes>"
      ]
     },
     "metadata": {},
     "output_type": "display_data"
    }
   ],
   "source": [
    "tweets_hour_pd = tweets_hour.toPandas()\n",
    "tweets_hour_pd.plot.bar(x='hour', y='tweets', legend=False, title='Promedio de Tweets por Hora')\n"
   ]
  },
  {
   "cell_type": "code",
   "execution_count": 70,
   "id": "b8fe6bd6-35ea-46ca-8888-6181ebf8925a",
   "metadata": {},
   "outputs": [
    {
     "data": {
      "image/png": "[encoded data removed]",
      "text/plain": [
       "<Figure size 1400x800 with 1 Axes>"
      ]
     },
     "metadata": {},
     "output_type": "display_data"
    }
   ],
   "source": [
    "import matplotlib.pyplot as plt\n",
    "import pandas as pd\n",
    "\n",
    "# Convertir a DataFrame de Pandas\n",
    "tweets_hour_pd = tweets_hour.toPandas()\n",
    "\n",
    "# Definir una función para asignar colores basados en el valor de 'tweets'\n",
    "def assign_color(value):\n",
    "    if value < 20000:\n",
    "        return 'turquoise'\n",
    "    elif value < 30000:\n",
    "        return 'skyblue'\n",
    "    elif value < 40000:\n",
    "        return 'olive'\n",
    "    elif value < 50000:\n",
    "        return 'green'\n",
    "    else:\n",
    "        return 'gold'\n",
    "\n",
    "# Asignar colores a las barras\n",
    "colors = tweets_hour_pd['tweets'].apply(assign_color)\n",
    "\n",
    "# Crear figura y ejes\n",
    "fig, ax = plt.subplots(figsize=(14, 8))\n",
    "\n",
    "# Crear gráfico de barras con colores personalizados\n",
    "tweets_hour_pd.plot.bar(x='hour', y='tweets', ax=ax, color=colors, edgecolor='black', legend=False)\n",
    "\n",
    "# Personalizar el gráfico\n",
    "ax.set_title('Promedio de Tweets por Hora', fontsize=20)\n",
    "ax.set_xlabel('Hora', fontsize=14)\n",
    "ax.set_ylabel('Promedio de Tweets', fontsize=14)\n",
    "ax.grid(True, which='both', linestyle='--', linewidth=0.5, color='gray')\n",
    "ax.set_axisbelow(True)\n",
    "\n",
    "# Añadir leyenda fuera del gráfico\n",
    "ax.legend(['Promedio de Tweets'], loc='center left', bbox_to_anchor=(1.0, 0.5))\n",
    "\n",
    "# Mostrar el gráfico\n",
    "plt.show()\n"
   ]
  },
  {
   "cell_type": "markdown",
   "id": "6f8d350a-35ee-4140-8fda-7c67896febbb",
   "metadata": {},
   "source": [
    "<font color=\"blue\">**Resultados:**</font> \n",
    "\n",
    "* Con estos gráfcos se llega a la misma conclusón que con las tablas : las personas son **más activas en horas de la tarde hasta muy de noche** (a las 12, 1 y 2 de la noche), mens en el caso desde las **11 de la mañana hasta las 14**, cuano también hay muchos tweets (hora del almuerzo, comida o café para muchas personas)\n",
    "* Sorprende ver que hay el mismo grado de actividad a las 3 de la madrugada como a las 10 de la mañana."
   ]
  },
  {
   "cell_type": "code",
   "execution_count": null,
   "id": "17794296-d229-4b43-a093-f6a50f2aa618",
   "metadata": {},
   "outputs": [],
   "source": []
  },
  {
   "cell_type": "markdown",
   "id": "ae1ebe26-2dc1-4676-8a5e-49ae73791303",
   "metadata": {
    "toc-hr-collapsed": false
   },
   "source": [
    "## **Parte 4:** Introducción a los datos relacionales"
   ]
  },
  {
   "cell_type": "markdown",
   "id": "42f274a7-a901-4c1e-8f3b-90c5a5aa47ae",
   "metadata": {},
   "source": [
    "El hecho de trabajar con una base de datos que contiene información generada en una red social nos permite introducir el concepto de datos relacionales. Podemos definir datos relacionales como aquellos en los que existen relaciones entre las entidades que constituyen la base de datos. Si estas relaciones son binarias, relaciones 1 a 1, podemos representar las relaciones como un grafo compuesto por un conjunto de vértices $\\mathcal{V}$ y un conjunto de aristas $\\mathcal{E}$ que los relacionan.\n",
    "\n",
    "En el caso de grafos que emergen de manera orgánica, este tipo de estructura va más allá de los grafos regulares que seguramente conocéis. Este tipo de estructuras se conocen como [redes complejas](https://es.wikipedia.org/wiki/Red_compleja). El estudio de la estructura y dinámicas de este tipo de redes ha contribuido a importantes resultados en campos tan dispares como la física, la sociología, la ecología o la medicina.\n",
    "\n",
    "![complex_network](https://images.squarespace-cdn.com/content/5150aec6e4b0e340ec52710a/1364574727391-XVOFAB9P6GHKTDAH6QTA/lastfm_800_graph_white.png?content-type=image%2Fpng)\n",
    "\n",
    "En esta última parte de la tarea vamos ha trabajar con este tipo de datos. En concreto vamos a modelar una de los posibles relaciones presentes en el dataset, la red de retweets."
   ]
  },
  {
   "cell_type": "code",
   "execution_count": null,
   "id": "65878db9-d4e5-47db-8939-b82add9049b6",
   "metadata": {},
   "outputs": [],
   "source": []
  },
  {
   "cell_type": "markdown",
   "id": "747a62db-5ba9-4614-8f0c-cbb3caa3e5e7",
   "metadata": {},
   "source": [
    "### Generar la red de retweets"
   ]
  },
  {
   "cell_type": "markdown",
   "id": "7d34b4cc-5268-49c3-bdb9-84474f4b6cbd",
   "metadata": {},
   "source": [
    "#### **Parte 4.1**: Construcción de la edgelist"
   ]
  },
  {
   "cell_type": "markdown",
   "id": "6b093ede-012e-464c-a11c-0a30b6794f77",
   "metadata": {},
   "source": [
    "Lo primero se os pide es que generéis la red. Hay diversas maneras de representar una red compleja, por ejemplo, si estuvierais interesados en trabajar en ellas desde el punto de vista teórico, la manera más habitual de representarlas es utilizando una [matriz de adyacencia](https://es.wikipedia.org/wiki/Matriz_de_adyacencia). En esta práctica vamos a centrarnos en el aspecto computacional, una de las maneras de mas eficientes (computacionalmente hablando) de representar una red es mediante su [*edge list*](https://en.wikipedia.org/wiki/Edge_list), una tabla que especifica la relación a parejas entre las entidades.\n",
    "\n",
    "Las relaciones pueden ser bidireccionales o direccionales y tener algún peso asignado o no (weighted or unweighted). En el caso que nos ocupa, estamos hablando de una red dirigida, un usuario retuitea a otro, y podemos pensarla teniendo en cuenta cuántas veces esto ha pasado.\n",
    "\n",
    "Lo primero que haréis para simplificar el cómputo,  es crear un sample homogéneo sin reemplazo del 10% de los tweets. Utilizando los conocimientos que habéis aprendido en el apartado 3.1. Utilizaremos 42 como valor para la seed."
   ]
  },
  {
   "cell_type": "code",
   "execution_count": 72,
   "id": "10beab62-3aaf-42ee-9649-0617d53e4264",
   "metadata": {},
   "outputs": [],
   "source": [
    "fraction = 0.1\n",
    "sample = tweets.sample(False, fraction, seed).persist()"
   ]
  },
  {
   "cell_type": "markdown",
   "id": "0b3322ed-f61e-4a89-bfc7-956876fe6297",
   "metadata": {},
   "source": [
    "Ahora vais a crear una tabla ```edgelist``` con la siguiente información:\n",
    "- ***src:*** usuario que retuitea\n",
    "- ***dst:*** usuario que es retuiteado\n",
    "- ***weight:*** número de veces que un usuario retuitea a otro.\n",
    "\n",
    "Filtrar el resultado para que contenga sólo las relaciones con un weight igual o mayor a dos."
   ]
  },
  {
   "cell_type": "code",
   "execution_count": 73,
   "id": "2e902452-4fc4-49dd-a716-e1324f26719b",
   "metadata": {},
   "outputs": [
    {
     "name": "stdout",
     "output_type": "stream",
     "text": [
      "There are 213 edges on the network.\n"
     ]
    }
   ],
   "source": [
    "edgelist = sample.where(\"retweeted_status.retweet_count > 0\")\\\n",
    "                 .selectExpr(\"user.screen_name AS src\", \"retweeted_status.user.screen_name AS dst\")\n",
    "\n",
    "edgelist = edgelist.groupBy(\"src\", \"dst\").count().withColumnRenamed(\"count\", \"weight\").where(\"weight >= 2\")\n",
    "\n",
    "L = edgelist.count()\n",
    "\n",
    "print(\"There are {0} edges on the network.\".format(L))"
   ]
  },
  {
   "cell_type": "code",
   "execution_count": 77,
   "id": "b8e46443-99f4-45c4-9e5e-281d1be7b1a7",
   "metadata": {},
   "outputs": [],
   "source": [
    "assert L == 213, \"Incorrect ouput\""
   ]
  },
  {
   "cell_type": "markdown",
   "id": "fdcfcb1a-eb3f-494e-8554-b4e5b77e934e",
   "metadata": {},
   "source": [
    "#### **Parte 4.2:** Centralidad de grado"
   ]
  },
  {
   "cell_type": "markdown",
   "id": "daa6701c-b7e4-4267-bdb8-4b6b7283b574",
   "metadata": {},
   "source": [
    "Uno de los descriptores más comunes en el análisis de redes es el grado. El grado cuantifica cuántas aristas están conectadas a cada vértices. En el caso de redes dirigidas como la que acabamos de crear este descriptor está descompuesto en el:\n",
    "- **in degree**: cuantas aristas apuntan al nodo\n",
    "- **out degree**: cuantas aristas salen del nodo\n",
    "\n",
    "Si haces un ranquing de estos valores vais a obtener medida de centralidad, la [centralidad de grado](https://en.wikipedia.org/wiki/Centrality#Degree_centrality), de cada uno de los nodos.\n",
    "\n",
    "Se os pide que generéis una tabla con la información:\n",
    "- ***screen_name:*** nombre del usuario (anteriormene src).\n",
    "- ***outDegree:*** out degree del nodo.\n",
    "\n",
    "Ordenado la tabla por out degree en orden descendente."
   ]
  },
  {
   "cell_type": "code",
   "execution_count": 83,
   "id": "39c305b0-eb42-4865-b88e-6fcf1e24faf9",
   "metadata": {},
   "outputs": [
    {
     "name": "stdout",
     "output_type": "stream",
     "text": [
      "+---------------+---------+\n",
      "|    screen_name|outDegree|\n",
      "+---------------+---------+\n",
      "| Ivan_de_Vargas|        2|\n",
      "|       Kattybcn|        2|\n",
      "|     MndezSocas|        2|\n",
      "|       jasalo54|        2|\n",
      "|       BeaMartv|        2|\n",
      "|pereirasergioba|        1|\n",
      "|violeta11377531|        1|\n",
      "|      JuankyRam|        1|\n",
      "|    vicmontes11|        1|\n",
      "|    CurritoRojo|        1|\n",
      "|       aramarzz|        1|\n",
      "|    ciberneando|        1|\n",
      "|       isidrecp|        1|\n",
      "|  Yolanda_Diaz_|        1|\n",
      "|      Marahersa|        1|\n",
      "|   vegaparrilla|        1|\n",
      "|   eajpnvbilbao|        1|\n",
      "|CsHortaGuinardo|        1|\n",
      "|    gpscongreso|        1|\n",
      "|   TorrijosMari|        1|\n",
      "+---------------+---------+\n",
      "\n"
     ]
    }
   ],
   "source": [
    "outDegree = edgelist.groupBy(\"src\")\\\n",
    "                    .count()\\\n",
    "                    .orderBy(\"count\", ascending=False)\\\n",
    "                    .withColumnRenamed(\"count\", \"outDegree\")\\\n",
    "                    .withColumnRenamed(\"src\", \"screen_name\")\n",
    "\n",
    "outDegree.limit(20).show()\n"
   ]
  },
  {
   "cell_type": "code",
   "execution_count": 84,
   "id": "20f57b04-76b7-47fa-a9dc-15d32fd7cc01",
   "metadata": {},
   "outputs": [],
   "source": [
    "output = outDegree.first()\n",
    "assert output.screen_name == \"Ivan_de_Vargas\" and output.outDegree == 2, \"Incorrect output\""
   ]
  },
  {
   "cell_type": "markdown",
   "id": "ef636143-20df-48ad-a71b-857591390ad5",
   "metadata": {},
   "source": [
    "Se os pide ahora que generéis una tabla con la información:\n",
    "- ***screen_name:*** nombre del usuario (anteriormente dst).\n",
    "- ***inDegree:*** in degree del nodo."
   ]
  },
  {
   "cell_type": "markdown",
   "id": "fd91434f-f921-4cad-adb3-c9615b9da3d8",
   "metadata": {},
   "source": [
    "Ordenad la tabla por in degree en orden descendente."
   ]
  },
  {
   "cell_type": "code",
   "execution_count": 89,
   "id": "eb285594-bd0d-4c35-80d2-c3b2088e1d49",
   "metadata": {},
   "outputs": [
    {
     "name": "stdout",
     "output_type": "stream",
     "text": [
      "+---------------+--------+\n",
      "|    screen_name|inDegree|\n",
      "+---------------+--------+\n",
      "|         vox_es|      25|\n",
      "|           PSOE|      24|\n",
      "|   CiudadanosCs|      13|\n",
      "|      JuntsXCat|      10|\n",
      "|   ahorapodemos|       9|\n",
      "|sanchezcastejon|       5|\n",
      "|  Santi_ABASCAL|       4|\n",
      "|      populares|       4|\n",
      "| hermanntertsch|       4|\n",
      "|           KRLS|       3|\n",
      "|   pablocasado_|       3|\n",
      "|Pablo_Iglesias_|       3|\n",
      "|         boye_g|       2|\n",
      "|    CastigadorY|       2|\n",
      "|  CsCValenciana|       2|\n",
      "|     eldiarioes|       2|\n",
      "|       ppmadrid|       2|\n",
      "|    protestona1|       2|\n",
      "|  naciopolitica|       2|\n",
      "|  AlbanoDante76|       2|\n",
      "+---------------+--------+\n",
      "\n"
     ]
    }
   ],
   "source": [
    "inDegree = edgelist.groupBy(\"dst\") \\\n",
    "                   .count() \\\n",
    "                   .orderBy(\"count\", ascending=False) \\\n",
    "                   .withColumnRenamed(\"count\", \"inDegree\") \\\n",
    "                   .withColumnRenamed(\"dst\", \"screen_name\")\n",
    "\n",
    "inDegree.limit(20).show()\n"
   ]
  },
  {
   "cell_type": "code",
   "execution_count": null,
   "id": "84f790be-9faf-41e1-b68d-69b25f82f577",
   "metadata": {},
   "outputs": [],
   "source": [
    "output = inDegree.first()\n",
    "assert output.screen_name == \"vox_es\" and output.inDegree == 25, \"Incorrect output\""
   ]
  },
  {
   "cell_type": "markdown",
   "id": "f4dde88d-93d0-4e0f-82de-a2dc3a43301c",
   "metadata": {},
   "source": [
    "En el contexto del análisis de redes sociales, especialmente al calcular la centralidad de grado (degree centrality), la tabla que muestras indica lo siguiente:\n",
    "\n",
    "**\"screen_name\"**: Esta columna contiene los nombres de usuario (screen names) de las cuentas de Twitter u otras redes sociales. Cada fila representa una cuenta específica.\n",
    "\n",
    "**\"inDegree\"**: Esta columna representa el grado de entrada (in-degree) de cada nodo (cuenta de usuario) en la red. El grado de entrada se refiere al número de conexiones entrantes que tiene un nodo específico. En el caso de las redes sociales como Twitter, esto generalmente se interpreta como el número de veces que una cuenta ha sido mencionada, retuiteada o respondida por otras cuentas.\n",
    "\n",
    "<font color=\"blue\">**Resultados:**</font> \n",
    "\n",
    "---> **Acabamos de ver las cuentas de usuario junto con su grado de entrada (in-degree), lo que es útil para entender la influencia relativa de diferentes cuentas dentro de la red social analizada.** \n",
    "\n",
    "---> **Las cuentas con mayores in-degrees suelen ser vistas como más influyentes o populares dentro de la comunidad, ya que reciben más interacciones de otras cuentas**.\n",
    "\n",
    "* **vox_es**: Tiene un in-degree de 25, lo que indica que ha sido mencionado, retuiteado o respondido por otras cuentas un total de 25 veces en la red analizada.\n",
    "* **PSOE**: Tiene un in-degree de 24, lo que significa que ha recibido 24 interacciones entrantes en forma de menciones, retuits o respuestas.\n",
    "* **CiudadanosCs**: Tiene un in-degree de 13, lo que indica que ha sido objeto de 13 interacciones entrantes en la red.\n",
    "\n",
    "\n",
    "\n"
   ]
  }
 ],
 "metadata": {
  "kernelspec": {
   "display_name": "Python 3 (ipykernel)",
   "language": "python",
   "name": "python3"
  },
  "language_info": {
   "codemirror_mode": {
    "name": "ipython",
    "version": 3
   },
   "file_extension": ".py",
   "mimetype": "text/x-python",
   "name": "python",
   "nbconvert_exporter": "python",
   "pygments_lexer": "ipython3",
   "version": "3.9.13"
  }
 },
 "nbformat": 4,
 "nbformat_minor": 5
}
